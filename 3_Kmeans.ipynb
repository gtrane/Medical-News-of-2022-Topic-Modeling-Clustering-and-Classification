{
 "cells": [
  {
   "cell_type": "markdown",
   "metadata": {},
   "source": [
    "## K means clustering"
   ]
  },
  {
   "cell_type": "markdown",
   "metadata": {},
   "source": [
    "### Loading Data"
   ]
  },
  {
   "cell_type": "code",
   "execution_count": 1,
   "metadata": {},
   "outputs": [
    {
     "data": {
      "text/html": [
       "<div>\n",
       "<style scoped>\n",
       "    .dataframe tbody tr th:only-of-type {\n",
       "        vertical-align: middle;\n",
       "    }\n",
       "\n",
       "    .dataframe tbody tr th {\n",
       "        vertical-align: top;\n",
       "    }\n",
       "\n",
       "    .dataframe thead th {\n",
       "        text-align: right;\n",
       "    }\n",
       "</style>\n",
       "<table border=\"1\" class=\"dataframe\">\n",
       "  <thead>\n",
       "    <tr style=\"text-align: right;\">\n",
       "      <th></th>\n",
       "      <th>file_name</th>\n",
       "      <th>article_title</th>\n",
       "      <th>article_author</th>\n",
       "      <th>company_author</th>\n",
       "      <th>date</th>\n",
       "      <th>body_text</th>\n",
       "    </tr>\n",
       "  </thead>\n",
       "  <tbody>\n",
       "    <tr>\n",
       "      <th>0</th>\n",
       "      <td>Panama Reports Country's First Monkeypox Case.html</td>\n",
       "      <td>Panama Reports Country's First Monkeypox Case</td>\n",
       "      <td>Elida Moreno</td>\n",
       "      <td>Reuters Health Information</td>\n",
       "      <td>July 06, 2022</td>\n",
       "      <td>PANAMA CITY (Reuters) - Panama registered its first case of monkeypox in a resident who was infected after being in contact with tourists from Eur...</td>\n",
       "    </tr>\n",
       "    <tr>\n",
       "      <th>1</th>\n",
       "      <td>How Doctors Can Manage Their Daily Work Stress.html</td>\n",
       "      <td>How Doctors Can Manage Their Daily Work Stress</td>\n",
       "      <td>Rachel Reiff Ellis</td>\n",
       "      <td>Medscape Medical News</td>\n",
       "      <td>March 23, 2023</td>\n",
       "      <td>As a physician, you may ruminate over an interaction with a patient or worry about a complicated procedure that didn't go as expected. You work th...</td>\n",
       "    </tr>\n",
       "    <tr>\n",
       "      <th>2</th>\n",
       "      <td>Climate Change Projected to Fuel Rise in Suicide Deaths.html</td>\n",
       "      <td>Climate Change Projected to Fuel Rise in Suicide Deaths</td>\n",
       "      <td>Megan Brooks</td>\n",
       "      <td>Medscape Medical News</td>\n",
       "      <td>March 29, 2023</td>\n",
       "      <td>The warming of the planet may mean more suicides, new research suggests. New findings show a significant association between higher temperatures a...</td>\n",
       "    </tr>\n",
       "    <tr>\n",
       "      <th>3</th>\n",
       "      <td>A Moral Compass Is Apparent Even in Infants.html</td>\n",
       "      <td>A Moral Compass Is Apparent Even in Infants</td>\n",
       "      <td>Medscape Staff</td>\n",
       "      <td>Quick Take</td>\n",
       "      <td>June 13, 2022</td>\n",
       "      <td>Even babies as young as 8 months old can recognize bad behavior and punish it, according to researchers at Osaka University in Japan.  What to kno...</td>\n",
       "    </tr>\n",
       "    <tr>\n",
       "      <th>4</th>\n",
       "      <td>Ohio Measles Outbreak Sickens Nearly 60 Children.html</td>\n",
       "      <td>Ohio Measles Outbreak Sickens Nearly 60 Children</td>\n",
       "      <td>Lisa O'Mary</td>\n",
       "      <td>WebMD Health News</td>\n",
       "      <td>December 07, 2022</td>\n",
       "      <td>Measles has sickened 59 children in an outbreak that began in November and now spans four Ohio counties. None of the children had been fully vacci...</td>\n",
       "    </tr>\n",
       "    <tr>\n",
       "      <th>...</th>\n",
       "      <td>...</td>\n",
       "      <td>...</td>\n",
       "      <td>...</td>\n",
       "      <td>...</td>\n",
       "      <td>...</td>\n",
       "      <td>...</td>\n",
       "    </tr>\n",
       "    <tr>\n",
       "      <th>8760</th>\n",
       "      <td>EMPA-Kidney Moves the Needle for SGLT2 Inhibitors in Kidney Disease.html</td>\n",
       "      <td>EMPA-Kidney Moves the Needle for SGLT2 Inhibitors in Kidney Disease</td>\n",
       "      <td>Mitchel L. Zoler, PhD</td>\n",
       "      <td>Medscape Medical News</td>\n",
       "      <td>November 04, 2022</td>\n",
       "      <td>Dr William Herrington  ORLANDO, Florida — The sodium-glucose cotransporter 2 (SGLT2) inhibitor empagliflozin (Jardiance) significantly slowed prog...</td>\n",
       "    </tr>\n",
       "    <tr>\n",
       "      <th>8761</th>\n",
       "      <td>Paxlovid Reduces Risk of COVID Death by 79% in Older Adults.html</td>\n",
       "      <td>Paxlovid Reduces Risk of COVID Death by 79% in Older Adults: Study</td>\n",
       "      <td>Carolyn Crist</td>\n",
       "      <td>WebMD Health News</td>\n",
       "      <td>August 26, 2022</td>\n",
       "      <td>Editor's note: Find the latest COVID-19 news and guidance in Medscape's Coronavirus Resource Center.  The antiviral drug Paxlovid appears to reduc...</td>\n",
       "    </tr>\n",
       "    <tr>\n",
       "      <th>8762</th>\n",
       "      <td>'Stunning Variation' in CV Test, Procedure Cost at US Hospitals.html</td>\n",
       "      <td>'Stunning Variation' in CV Test, Procedure Costs Revealed at Top US Hospitals</td>\n",
       "      <td>Marilynn Larkin</td>\n",
       "      <td>Medscape Medical News</td>\n",
       "      <td>July 22, 2022</td>\n",
       "      <td>Wide variation in the cost of common cardiovascular (CV) tests and procedures, from stress tests to coronary interventions, was revealed in a cros...</td>\n",
       "    </tr>\n",
       "    <tr>\n",
       "      <th>8763</th>\n",
       "      <td>Patients With Schizophrenia Twice as Likely to Develop Dementia?.html</td>\n",
       "      <td>Patients With Schizophrenia Twice as Likely to Develop Dementia?</td>\n",
       "      <td>Batya Swift Yasgur, MA, LSW</td>\n",
       "      <td>Medscape Medical News</td>\n",
       "      <td>October 24, 2022</td>\n",
       "      <td>Patients with psychotic disorders such as schizophrenia are more than twice as likely as those without a psychotic disorder to eventually develop ...</td>\n",
       "    </tr>\n",
       "    <tr>\n",
       "      <th>8764</th>\n",
       "      <td>Tobramycin Tames Infection in Bronchiectasis.html</td>\n",
       "      <td>Tobramycin Tames Infection in Bronchiectasis</td>\n",
       "      <td>Heidi Splete</td>\n",
       "      <td>Medscape Medical News</td>\n",
       "      <td>August 09, 2022</td>\n",
       "      <td>Nebulized tobramycin significantly reduced the density of Pseudomonas aeruginosa in sputum and improved quality of life for adults with bronchiect...</td>\n",
       "    </tr>\n",
       "  </tbody>\n",
       "</table>\n",
       "<p>8765 rows × 6 columns</p>\n",
       "</div>"
      ],
      "text/plain": [
       "                                                                     file_name  \\\n",
       "0                           Panama Reports Country's First Monkeypox Case.html   \n",
       "1                          How Doctors Can Manage Their Daily Work Stress.html   \n",
       "2                 Climate Change Projected to Fuel Rise in Suicide Deaths.html   \n",
       "3                             A Moral Compass Is Apparent Even in Infants.html   \n",
       "4                        Ohio Measles Outbreak Sickens Nearly 60 Children.html   \n",
       "...                                                                        ...   \n",
       "8760  EMPA-Kidney Moves the Needle for SGLT2 Inhibitors in Kidney Disease.html   \n",
       "8761          Paxlovid Reduces Risk of COVID Death by 79% in Older Adults.html   \n",
       "8762      'Stunning Variation' in CV Test, Procedure Cost at US Hospitals.html   \n",
       "8763     Patients With Schizophrenia Twice as Likely to Develop Dementia?.html   \n",
       "8764                         Tobramycin Tames Infection in Bronchiectasis.html   \n",
       "\n",
       "                                                                      article_title  \\\n",
       "0                                     Panama Reports Country's First Monkeypox Case   \n",
       "1                                    How Doctors Can Manage Their Daily Work Stress   \n",
       "2                           Climate Change Projected to Fuel Rise in Suicide Deaths   \n",
       "3                                       A Moral Compass Is Apparent Even in Infants   \n",
       "4                                  Ohio Measles Outbreak Sickens Nearly 60 Children   \n",
       "...                                                                             ...   \n",
       "8760            EMPA-Kidney Moves the Needle for SGLT2 Inhibitors in Kidney Disease   \n",
       "8761             Paxlovid Reduces Risk of COVID Death by 79% in Older Adults: Study   \n",
       "8762  'Stunning Variation' in CV Test, Procedure Costs Revealed at Top US Hospitals   \n",
       "8763               Patients With Schizophrenia Twice as Likely to Develop Dementia?   \n",
       "8764                                   Tobramycin Tames Infection in Bronchiectasis   \n",
       "\n",
       "                   article_author              company_author  \\\n",
       "0                    Elida Moreno  Reuters Health Information   \n",
       "1              Rachel Reiff Ellis       Medscape Medical News   \n",
       "2                    Megan Brooks       Medscape Medical News   \n",
       "3                  Medscape Staff                  Quick Take   \n",
       "4                     Lisa O'Mary           WebMD Health News   \n",
       "...                           ...                         ...   \n",
       "8760        Mitchel L. Zoler, PhD       Medscape Medical News   \n",
       "8761                Carolyn Crist           WebMD Health News   \n",
       "8762              Marilynn Larkin       Medscape Medical News   \n",
       "8763  Batya Swift Yasgur, MA, LSW       Medscape Medical News   \n",
       "8764                 Heidi Splete       Medscape Medical News   \n",
       "\n",
       "                   date  \\\n",
       "0         July 06, 2022   \n",
       "1        March 23, 2023   \n",
       "2        March 29, 2023   \n",
       "3         June 13, 2022   \n",
       "4     December 07, 2022   \n",
       "...                 ...   \n",
       "8760  November 04, 2022   \n",
       "8761    August 26, 2022   \n",
       "8762      July 22, 2022   \n",
       "8763   October 24, 2022   \n",
       "8764    August 09, 2022   \n",
       "\n",
       "                                                                                                                                                  body_text  \n",
       "0     PANAMA CITY (Reuters) - Panama registered its first case of monkeypox in a resident who was infected after being in contact with tourists from Eur...  \n",
       "1     As a physician, you may ruminate over an interaction with a patient or worry about a complicated procedure that didn't go as expected. You work th...  \n",
       "2     The warming of the planet may mean more suicides, new research suggests. New findings show a significant association between higher temperatures a...  \n",
       "3     Even babies as young as 8 months old can recognize bad behavior and punish it, according to researchers at Osaka University in Japan.  What to kno...  \n",
       "4     Measles has sickened 59 children in an outbreak that began in November and now spans four Ohio counties. None of the children had been fully vacci...  \n",
       "...                                                                                                                                                     ...  \n",
       "8760  Dr William Herrington  ORLANDO, Florida — The sodium-glucose cotransporter 2 (SGLT2) inhibitor empagliflozin (Jardiance) significantly slowed prog...  \n",
       "8761  Editor's note: Find the latest COVID-19 news and guidance in Medscape's Coronavirus Resource Center.  The antiviral drug Paxlovid appears to reduc...  \n",
       "8762  Wide variation in the cost of common cardiovascular (CV) tests and procedures, from stress tests to coronary interventions, was revealed in a cros...  \n",
       "8763  Patients with psychotic disorders such as schizophrenia are more than twice as likely as those without a psychotic disorder to eventually develop ...  \n",
       "8764  Nebulized tobramycin significantly reduced the density of Pseudomonas aeruginosa in sputum and improved quality of life for adults with bronchiect...  \n",
       "\n",
       "[8765 rows x 6 columns]"
      ]
     },
     "execution_count": 1,
     "metadata": {},
     "output_type": "execute_result"
    }
   ],
   "source": [
    "import pandas as pd\n",
    "pd.set_option('display.max_colwidth', 150)\n",
    "\n",
    "df = pd.read_csv(\"/home/gtrane/ClassData/group03/html_project.csv\", sep=\"\\t\")\n",
    "df"
   ]
  },
  {
   "cell_type": "code",
   "execution_count": 2,
   "metadata": {},
   "outputs": [
    {
     "name": "stdout",
     "output_type": "stream",
     "text": [
      "<class 'pandas.core.frame.DataFrame'>\n",
      "RangeIndex: 8765 entries, 0 to 8764\n",
      "Data columns (total 6 columns):\n",
      " #   Column          Non-Null Count  Dtype \n",
      "---  ------          --------------  ----- \n",
      " 0   file_name       8765 non-null   object\n",
      " 1   article_title   8765 non-null   object\n",
      " 2   article_author  8581 non-null   object\n",
      " 3   company_author  8757 non-null   object\n",
      " 4   date            8763 non-null   object\n",
      " 5   body_text       8763 non-null   object\n",
      "dtypes: object(6)\n",
      "memory usage: 411.0+ KB\n"
     ]
    }
   ],
   "source": [
    "df.info()"
   ]
  },
  {
   "cell_type": "markdown",
   "metadata": {},
   "source": [
    "## Preparing Data for Modeling"
   ]
  },
  {
   "cell_type": "code",
   "execution_count": 3,
   "metadata": {},
   "outputs": [],
   "source": [
    "df.body_text = df.body_text.astype(str)"
   ]
  },
  {
   "cell_type": "code",
   "execution_count": 4,
   "metadata": {},
   "outputs": [
    {
     "data": {
      "text/plain": [
       "<8765x77727 sparse matrix of type '<class 'numpy.float64'>'\n",
       "\twith 2317610 stored elements in Compressed Sparse Row format>"
      ]
     },
     "execution_count": 4,
     "metadata": {},
     "output_type": "execute_result"
    }
   ],
   "source": [
    "from sklearn.feature_extraction.text import TfidfVectorizer\n",
    "\n",
    "vectorizer = TfidfVectorizer(use_idf=True, norm=\"l2\", stop_words=\"english\", max_df=0.7)\n",
    "X = vectorizer.fit_transform(df.body_text)\n",
    "X"
   ]
  },
  {
   "cell_type": "code",
   "execution_count": 5,
   "metadata": {},
   "outputs": [
    {
     "data": {
      "text/plain": [
       "(8765, 77727)"
      ]
     },
     "execution_count": 5,
     "metadata": {},
     "output_type": "execute_result"
    }
   ],
   "source": [
    "X.shape"
   ]
  },
  {
   "cell_type": "markdown",
   "metadata": {},
   "source": [
    "There are 8,765 documents, or samples, and 77,727 words, or features. "
   ]
  },
  {
   "cell_type": "markdown",
   "metadata": {},
   "source": [
    "## K-Means Clustering"
   ]
  },
  {
   "cell_type": "markdown",
   "metadata": {},
   "source": [
    "### Step 1. Choose the number of clusters"
   ]
  },
  {
   "cell_type": "code",
   "execution_count": 6,
   "metadata": {},
   "outputs": [],
   "source": [
    "k = 22"
   ]
  },
  {
   "cell_type": "markdown",
   "metadata": {},
   "source": [
    "### Step 2. Initialize a model object with initial parameters"
   ]
  },
  {
   "cell_type": "code",
   "execution_count": 7,
   "metadata": {},
   "outputs": [
    {
     "data": {
      "text/plain": [
       "KMeans(n_clusters=22, random_state=0)"
      ]
     },
     "execution_count": 7,
     "metadata": {},
     "output_type": "execute_result"
    }
   ],
   "source": [
    "from sklearn.cluster import KMeans\n",
    "\n",
    "kmeans = KMeans(n_clusters=k, random_state=0)\n",
    "kmeans"
   ]
  },
  {
   "cell_type": "markdown",
   "metadata": {},
   "source": [
    "### Step 3. Fit the model on the input data"
   ]
  },
  {
   "cell_type": "code",
   "execution_count": 8,
   "metadata": {},
   "outputs": [
    {
     "name": "stdout",
     "output_type": "stream",
     "text": [
      "CPU times: user 2min 37s, sys: 1.11 s, total: 2min 38s\n",
      "Wall time: 27.4 s\n"
     ]
    },
    {
     "data": {
      "text/plain": [
       "KMeans(n_clusters=22, random_state=0)"
      ]
     },
     "execution_count": 8,
     "metadata": {},
     "output_type": "execute_result"
    }
   ],
   "source": [
    "%time kmeans.fit(X)"
   ]
  },
  {
   "cell_type": "markdown",
   "metadata": {},
   "source": [
    "### Step 4. Get the clustering outcome"
   ]
  },
  {
   "cell_type": "code",
   "execution_count": 9,
   "metadata": {
    "scrolled": false
   },
   "outputs": [
    {
     "data": {
      "text/plain": [
       "array([16, 15,  8, ...,  4, 18, 12], dtype=int32)"
      ]
     },
     "execution_count": 9,
     "metadata": {},
     "output_type": "execute_result"
    }
   ],
   "source": [
    "kmeans.predict(X)"
   ]
  },
  {
   "cell_type": "code",
   "execution_count": 10,
   "metadata": {
    "scrolled": false
   },
   "outputs": [
    {
     "data": {
      "text/html": [
       "<div>\n",
       "<style scoped>\n",
       "    .dataframe tbody tr th:only-of-type {\n",
       "        vertical-align: middle;\n",
       "    }\n",
       "\n",
       "    .dataframe tbody tr th {\n",
       "        vertical-align: top;\n",
       "    }\n",
       "\n",
       "    .dataframe thead th {\n",
       "        text-align: right;\n",
       "    }\n",
       "</style>\n",
       "<table border=\"1\" class=\"dataframe\">\n",
       "  <thead>\n",
       "    <tr style=\"text-align: right;\">\n",
       "      <th></th>\n",
       "      <th>file_name</th>\n",
       "      <th>article_title</th>\n",
       "      <th>article_author</th>\n",
       "      <th>company_author</th>\n",
       "      <th>date</th>\n",
       "      <th>body_text</th>\n",
       "      <th>label</th>\n",
       "    </tr>\n",
       "  </thead>\n",
       "  <tbody>\n",
       "    <tr>\n",
       "      <th>0</th>\n",
       "      <td>Panama Reports Country's First Monkeypox Case.html</td>\n",
       "      <td>Panama Reports Country's First Monkeypox Case</td>\n",
       "      <td>Elida Moreno</td>\n",
       "      <td>Reuters Health Information</td>\n",
       "      <td>July 06, 2022</td>\n",
       "      <td>PANAMA CITY (Reuters) - Panama registered its first case of monkeypox in a resident who was infected after being in contact with tourists from Eur...</td>\n",
       "      <td>16</td>\n",
       "    </tr>\n",
       "    <tr>\n",
       "      <th>1</th>\n",
       "      <td>How Doctors Can Manage Their Daily Work Stress.html</td>\n",
       "      <td>How Doctors Can Manage Their Daily Work Stress</td>\n",
       "      <td>Rachel Reiff Ellis</td>\n",
       "      <td>Medscape Medical News</td>\n",
       "      <td>March 23, 2023</td>\n",
       "      <td>As a physician, you may ruminate over an interaction with a patient or worry about a complicated procedure that didn't go as expected. You work th...</td>\n",
       "      <td>15</td>\n",
       "    </tr>\n",
       "    <tr>\n",
       "      <th>2</th>\n",
       "      <td>Climate Change Projected to Fuel Rise in Suicide Deaths.html</td>\n",
       "      <td>Climate Change Projected to Fuel Rise in Suicide Deaths</td>\n",
       "      <td>Megan Brooks</td>\n",
       "      <td>Medscape Medical News</td>\n",
       "      <td>March 29, 2023</td>\n",
       "      <td>The warming of the planet may mean more suicides, new research suggests. New findings show a significant association between higher temperatures a...</td>\n",
       "      <td>8</td>\n",
       "    </tr>\n",
       "    <tr>\n",
       "      <th>3</th>\n",
       "      <td>A Moral Compass Is Apparent Even in Infants.html</td>\n",
       "      <td>A Moral Compass Is Apparent Even in Infants</td>\n",
       "      <td>Medscape Staff</td>\n",
       "      <td>Quick Take</td>\n",
       "      <td>June 13, 2022</td>\n",
       "      <td>Even babies as young as 8 months old can recognize bad behavior and punish it, according to researchers at Osaka University in Japan.  What to kno...</td>\n",
       "      <td>8</td>\n",
       "    </tr>\n",
       "    <tr>\n",
       "      <th>4</th>\n",
       "      <td>Ohio Measles Outbreak Sickens Nearly 60 Children.html</td>\n",
       "      <td>Ohio Measles Outbreak Sickens Nearly 60 Children</td>\n",
       "      <td>Lisa O'Mary</td>\n",
       "      <td>WebMD Health News</td>\n",
       "      <td>December 07, 2022</td>\n",
       "      <td>Measles has sickened 59 children in an outbreak that began in November and now spans four Ohio counties. None of the children had been fully vacci...</td>\n",
       "      <td>11</td>\n",
       "    </tr>\n",
       "    <tr>\n",
       "      <th>...</th>\n",
       "      <td>...</td>\n",
       "      <td>...</td>\n",
       "      <td>...</td>\n",
       "      <td>...</td>\n",
       "      <td>...</td>\n",
       "      <td>...</td>\n",
       "      <td>...</td>\n",
       "    </tr>\n",
       "    <tr>\n",
       "      <th>8760</th>\n",
       "      <td>EMPA-Kidney Moves the Needle for SGLT2 Inhibitors in Kidney Disease.html</td>\n",
       "      <td>EMPA-Kidney Moves the Needle for SGLT2 Inhibitors in Kidney Disease</td>\n",
       "      <td>Mitchel L. Zoler, PhD</td>\n",
       "      <td>Medscape Medical News</td>\n",
       "      <td>November 04, 2022</td>\n",
       "      <td>Dr William Herrington  ORLANDO, Florida — The sodium-glucose cotransporter 2 (SGLT2) inhibitor empagliflozin (Jardiance) significantly slowed prog...</td>\n",
       "      <td>21</td>\n",
       "    </tr>\n",
       "    <tr>\n",
       "      <th>8761</th>\n",
       "      <td>Paxlovid Reduces Risk of COVID Death by 79% in Older Adults.html</td>\n",
       "      <td>Paxlovid Reduces Risk of COVID Death by 79% in Older Adults: Study</td>\n",
       "      <td>Carolyn Crist</td>\n",
       "      <td>WebMD Health News</td>\n",
       "      <td>August 26, 2022</td>\n",
       "      <td>Editor's note: Find the latest COVID-19 news and guidance in Medscape's Coronavirus Resource Center.  The antiviral drug Paxlovid appears to reduc...</td>\n",
       "      <td>2</td>\n",
       "    </tr>\n",
       "    <tr>\n",
       "      <th>8762</th>\n",
       "      <td>'Stunning Variation' in CV Test, Procedure Cost at US Hospitals.html</td>\n",
       "      <td>'Stunning Variation' in CV Test, Procedure Costs Revealed at Top US Hospitals</td>\n",
       "      <td>Marilynn Larkin</td>\n",
       "      <td>Medscape Medical News</td>\n",
       "      <td>July 22, 2022</td>\n",
       "      <td>Wide variation in the cost of common cardiovascular (CV) tests and procedures, from stress tests to coronary interventions, was revealed in a cros...</td>\n",
       "      <td>4</td>\n",
       "    </tr>\n",
       "    <tr>\n",
       "      <th>8763</th>\n",
       "      <td>Patients With Schizophrenia Twice as Likely to Develop Dementia?.html</td>\n",
       "      <td>Patients With Schizophrenia Twice as Likely to Develop Dementia?</td>\n",
       "      <td>Batya Swift Yasgur, MA, LSW</td>\n",
       "      <td>Medscape Medical News</td>\n",
       "      <td>October 24, 2022</td>\n",
       "      <td>Patients with psychotic disorders such as schizophrenia are more than twice as likely as those without a psychotic disorder to eventually develop ...</td>\n",
       "      <td>18</td>\n",
       "    </tr>\n",
       "    <tr>\n",
       "      <th>8764</th>\n",
       "      <td>Tobramycin Tames Infection in Bronchiectasis.html</td>\n",
       "      <td>Tobramycin Tames Infection in Bronchiectasis</td>\n",
       "      <td>Heidi Splete</td>\n",
       "      <td>Medscape Medical News</td>\n",
       "      <td>August 09, 2022</td>\n",
       "      <td>Nebulized tobramycin significantly reduced the density of Pseudomonas aeruginosa in sputum and improved quality of life for adults with bronchiect...</td>\n",
       "      <td>12</td>\n",
       "    </tr>\n",
       "  </tbody>\n",
       "</table>\n",
       "<p>8765 rows × 7 columns</p>\n",
       "</div>"
      ],
      "text/plain": [
       "                                                                     file_name  \\\n",
       "0                           Panama Reports Country's First Monkeypox Case.html   \n",
       "1                          How Doctors Can Manage Their Daily Work Stress.html   \n",
       "2                 Climate Change Projected to Fuel Rise in Suicide Deaths.html   \n",
       "3                             A Moral Compass Is Apparent Even in Infants.html   \n",
       "4                        Ohio Measles Outbreak Sickens Nearly 60 Children.html   \n",
       "...                                                                        ...   \n",
       "8760  EMPA-Kidney Moves the Needle for SGLT2 Inhibitors in Kidney Disease.html   \n",
       "8761          Paxlovid Reduces Risk of COVID Death by 79% in Older Adults.html   \n",
       "8762      'Stunning Variation' in CV Test, Procedure Cost at US Hospitals.html   \n",
       "8763     Patients With Schizophrenia Twice as Likely to Develop Dementia?.html   \n",
       "8764                         Tobramycin Tames Infection in Bronchiectasis.html   \n",
       "\n",
       "                                                                      article_title  \\\n",
       "0                                     Panama Reports Country's First Monkeypox Case   \n",
       "1                                    How Doctors Can Manage Their Daily Work Stress   \n",
       "2                           Climate Change Projected to Fuel Rise in Suicide Deaths   \n",
       "3                                       A Moral Compass Is Apparent Even in Infants   \n",
       "4                                  Ohio Measles Outbreak Sickens Nearly 60 Children   \n",
       "...                                                                             ...   \n",
       "8760            EMPA-Kidney Moves the Needle for SGLT2 Inhibitors in Kidney Disease   \n",
       "8761             Paxlovid Reduces Risk of COVID Death by 79% in Older Adults: Study   \n",
       "8762  'Stunning Variation' in CV Test, Procedure Costs Revealed at Top US Hospitals   \n",
       "8763               Patients With Schizophrenia Twice as Likely to Develop Dementia?   \n",
       "8764                                   Tobramycin Tames Infection in Bronchiectasis   \n",
       "\n",
       "                   article_author              company_author  \\\n",
       "0                    Elida Moreno  Reuters Health Information   \n",
       "1              Rachel Reiff Ellis       Medscape Medical News   \n",
       "2                    Megan Brooks       Medscape Medical News   \n",
       "3                  Medscape Staff                  Quick Take   \n",
       "4                     Lisa O'Mary           WebMD Health News   \n",
       "...                           ...                         ...   \n",
       "8760        Mitchel L. Zoler, PhD       Medscape Medical News   \n",
       "8761                Carolyn Crist           WebMD Health News   \n",
       "8762              Marilynn Larkin       Medscape Medical News   \n",
       "8763  Batya Swift Yasgur, MA, LSW       Medscape Medical News   \n",
       "8764                 Heidi Splete       Medscape Medical News   \n",
       "\n",
       "                   date  \\\n",
       "0         July 06, 2022   \n",
       "1        March 23, 2023   \n",
       "2        March 29, 2023   \n",
       "3         June 13, 2022   \n",
       "4     December 07, 2022   \n",
       "...                 ...   \n",
       "8760  November 04, 2022   \n",
       "8761    August 26, 2022   \n",
       "8762      July 22, 2022   \n",
       "8763   October 24, 2022   \n",
       "8764    August 09, 2022   \n",
       "\n",
       "                                                                                                                                                  body_text  \\\n",
       "0     PANAMA CITY (Reuters) - Panama registered its first case of monkeypox in a resident who was infected after being in contact with tourists from Eur...   \n",
       "1     As a physician, you may ruminate over an interaction with a patient or worry about a complicated procedure that didn't go as expected. You work th...   \n",
       "2     The warming of the planet may mean more suicides, new research suggests. New findings show a significant association between higher temperatures a...   \n",
       "3     Even babies as young as 8 months old can recognize bad behavior and punish it, according to researchers at Osaka University in Japan.  What to kno...   \n",
       "4     Measles has sickened 59 children in an outbreak that began in November and now spans four Ohio counties. None of the children had been fully vacci...   \n",
       "...                                                                                                                                                     ...   \n",
       "8760  Dr William Herrington  ORLANDO, Florida — The sodium-glucose cotransporter 2 (SGLT2) inhibitor empagliflozin (Jardiance) significantly slowed prog...   \n",
       "8761  Editor's note: Find the latest COVID-19 news and guidance in Medscape's Coronavirus Resource Center.  The antiviral drug Paxlovid appears to reduc...   \n",
       "8762  Wide variation in the cost of common cardiovascular (CV) tests and procedures, from stress tests to coronary interventions, was revealed in a cros...   \n",
       "8763  Patients with psychotic disorders such as schizophrenia are more than twice as likely as those without a psychotic disorder to eventually develop ...   \n",
       "8764  Nebulized tobramycin significantly reduced the density of Pseudomonas aeruginosa in sputum and improved quality of life for adults with bronchiect...   \n",
       "\n",
       "      label  \n",
       "0        16  \n",
       "1        15  \n",
       "2         8  \n",
       "3         8  \n",
       "4        11  \n",
       "...     ...  \n",
       "8760     21  \n",
       "8761      2  \n",
       "8762      4  \n",
       "8763     18  \n",
       "8764     12  \n",
       "\n",
       "[8765 rows x 7 columns]"
      ]
     },
     "execution_count": 10,
     "metadata": {},
     "output_type": "execute_result"
    }
   ],
   "source": [
    "df[\"label\"] = kmeans.predict(X)\n",
    "df"
   ]
  },
  {
   "cell_type": "code",
   "execution_count": 11,
   "metadata": {},
   "outputs": [
    {
     "data": {
      "text/plain": [
       "8     1444\n",
       "12    1165\n",
       "15     849\n",
       "3      628\n",
       "13     491\n",
       "4      461\n",
       "1      411\n",
       "2      350\n",
       "17     345\n",
       "9      310\n",
       "6      282\n",
       "20     277\n",
       "11     211\n",
       "0      210\n",
       "21     203\n",
       "7      199\n",
       "16     187\n",
       "19     177\n",
       "18     174\n",
       "5      164\n",
       "14     149\n",
       "10      78\n",
       "Name: label, dtype: int64"
      ]
     },
     "execution_count": 11,
     "metadata": {},
     "output_type": "execute_result"
    }
   ],
   "source": [
    "df.label.value_counts()                          # Count the number of values for each cluster label "
   ]
  },
  {
   "cell_type": "markdown",
   "metadata": {},
   "source": [
    "The first two clusters are significantly larger than the others, however the rest are evenly dispersed"
   ]
  },
  {
   "cell_type": "markdown",
   "metadata": {},
   "source": [
    "### Step 5. Evaluate the performance of the model"
   ]
  },
  {
   "cell_type": "code",
   "execution_count": 12,
   "metadata": {},
   "outputs": [
    {
     "data": {
      "text/plain": [
       "(8, 12, 15, 3, 13, 4, 1, 2, 17, 9, 6, 20, 11, 0, 21, 7, 16, 19, 18, 5, 14, 10)"
      ]
     },
     "execution_count": 12,
     "metadata": {},
     "output_type": "execute_result"
    }
   ],
   "source": [
    "cluster_1st, cluster_2nd, cluster_3rd, cluster_4th, cluster_5th, cluster_6th,cluster_7th,cluster_8th,cluster_9th,cluster_10th,cluster_11th,cluster_12th,cluster_13th,cluster_14th,cluster_15th,cluster_16th,cluster_17th,cluster_18th,cluster_19th,cluster_20th,cluster_21st,cluster_22nd  = df.label.value_counts().index\n",
    "cluster_1st, cluster_2nd, cluster_3rd, cluster_4th, cluster_5th, cluster_6th,cluster_7th,cluster_8th,cluster_9th,cluster_10th,cluster_11th,cluster_12th,cluster_13th,cluster_14th,cluster_15th,cluster_16th,cluster_17th,cluster_18th,cluster_19th,cluster_20th,cluster_21st,cluster_22nd"
   ]
  },
  {
   "cell_type": "code",
   "execution_count": 13,
   "metadata": {},
   "outputs": [],
   "source": [
    "#df[df.label == cluster_1st].sample(10, random_state=0)[[\"body_text\", \"label\"]]     # the largest cluster"
   ]
  },
  {
   "cell_type": "code",
   "execution_count": 14,
   "metadata": {},
   "outputs": [],
   "source": [
    "import nltk\n",
    "df[\"words\"] = df.body_text.apply(lambda x: nltk.word_tokenize(x))\n",
    "df[\"tagged_words\"] = df.words.apply(lambda x: nltk.pos_tag(x))\n",
    "\n",
    "from collections import Counter\n",
    "\n",
    "def get_counter(dataframe, stopwords=[]):\n",
    "    counter = Counter()\n",
    "    \n",
    "    for l in dataframe.tagged_words:\n",
    "        word_set = set()\n",
    "\n",
    "        for t in l:\n",
    "            word = t[0].lower()\n",
    "            tag = t[1]\n",
    "\n",
    "            if word not in stopwords:\n",
    "                word_set.add(word)\n",
    "            \n",
    "        counter.update(word_set)\n",
    "        \n",
    "    return counter\n",
    "\n",
    "from nltk.corpus import stopwords\n",
    "import string\n",
    "\n",
    "global_stopwords = stopwords.words(\"english\") \n",
    "local_stopwords = [c for c in string.punctuation] +\\\n",
    "                  ['``',\"''\",\"'s\",'also','md','medscape','said','2022',\"n't\",'may','reuters','medical','would','like']"
   ]
  },
  {
   "cell_type": "code",
   "execution_count": 15,
   "metadata": {},
   "outputs": [
    {
     "data": {
      "text/plain": [
       "[('university', 884),\n",
       " ('health', 881),\n",
       " ('new', 869),\n",
       " ('one', 869),\n",
       " ('news', 843),\n",
       " ('study', 821),\n",
       " ('twitter', 811),\n",
       " ('facebook', 779),\n",
       " ('research', 767),\n",
       " ('published', 765),\n",
       " ('found', 758),\n",
       " ('years', 745),\n",
       " ('according', 737),\n",
       " ('people', 731),\n",
       " ('follow', 730),\n",
       " ('patients', 713),\n",
       " ('could', 707),\n",
       " ('time', 697),\n",
       " ('researchers', 668),\n",
       " ('youtube', 646),\n",
       " ('instagram', 645),\n",
       " ('use', 631),\n",
       " ('used', 624),\n",
       " ('many', 610),\n",
       " ('including', 605),\n",
       " ('first', 596),\n",
       " ('us', 580),\n",
       " ('two', 579),\n",
       " ('well', 574),\n",
       " ('risk', 560)]"
      ]
     },
     "execution_count": 15,
     "metadata": {},
     "output_type": "execute_result"
    }
   ],
   "source": [
    "counter = get_counter(df[df.label == cluster_1st], global_stopwords+local_stopwords)\n",
    "counter.most_common(30)"
   ]
  },
  {
   "cell_type": "markdown",
   "metadata": {},
   "source": [
    "It looks like the largest cluster talks about published research and general information about health news, publishing, social media"
   ]
  },
  {
   "cell_type": "code",
   "execution_count": 16,
   "metadata": {},
   "outputs": [],
   "source": [
    "#df[df.label == cluster_2nd].sample(10, random_state=0)[[\"body_text\", \"label\"]]     # the second largest cluster"
   ]
  },
  {
   "cell_type": "code",
   "execution_count": 17,
   "metadata": {},
   "outputs": [
    {
     "data": {
      "text/plain": [
       "[('patients', 1130),\n",
       " ('study', 1080),\n",
       " ('university', 892),\n",
       " ('treatment', 872),\n",
       " ('new', 825),\n",
       " ('research', 821),\n",
       " ('clinical', 811),\n",
       " ('news', 791),\n",
       " ('results', 788),\n",
       " ('years', 779),\n",
       " ('twitter', 765),\n",
       " ('data', 760),\n",
       " ('facebook', 757),\n",
       " ('one', 739),\n",
       " ('published', 719),\n",
       " ('compared', 700),\n",
       " ('disease', 697),\n",
       " ('patient', 690),\n",
       " ('reported', 687),\n",
       " ('researchers', 675),\n",
       " ('findings', 673),\n",
       " ('noted', 652),\n",
       " ('health', 645),\n",
       " ('studies', 643),\n",
       " ('financial', 631),\n",
       " ('including', 630),\n",
       " ('two', 630),\n",
       " ('relevant', 629),\n",
       " ('group', 622),\n",
       " ('however', 622)]"
      ]
     },
     "execution_count": 17,
     "metadata": {},
     "output_type": "execute_result"
    }
   ],
   "source": [
    "counter = get_counter(df[df.label == cluster_2nd], global_stopwords+local_stopwords)\n",
    "counter.most_common(30)"
   ]
  },
  {
   "cell_type": "markdown",
   "metadata": {},
   "source": [
    "It seems the second largest cluster seems to be about clinical research/findings"
   ]
  },
  {
   "cell_type": "code",
   "execution_count": 18,
   "metadata": {},
   "outputs": [],
   "source": [
    "#df[df.label == cluster_3rd].sample(10, random_state=0)[[\"body_text\", \"label\"]]     # the third largest cluster"
   ]
  },
  {
   "cell_type": "code",
   "execution_count": 19,
   "metadata": {},
   "outputs": [
    {
     "data": {
      "text/plain": [
       "[('health', 729),\n",
       " ('care', 707),\n",
       " ('patients', 650),\n",
       " ('new', 628),\n",
       " ('news', 616),\n",
       " ('one', 608),\n",
       " ('twitter', 592),\n",
       " ('facebook', 584),\n",
       " ('follow', 581),\n",
       " ('many', 556),\n",
       " ('instagram', 550),\n",
       " ('youtube', 546),\n",
       " ('people', 537),\n",
       " ('time', 527),\n",
       " ('years', 519),\n",
       " ('patient', 516),\n",
       " ('physicians', 508),\n",
       " ('healthcare', 501),\n",
       " ('according', 500),\n",
       " ('could', 499),\n",
       " ('need', 497),\n",
       " ('medicine', 467),\n",
       " ('physician', 465),\n",
       " ('work', 462),\n",
       " ('help', 452),\n",
       " ('—', 438),\n",
       " ('year', 436),\n",
       " ('university', 422),\n",
       " ('us', 420),\n",
       " ('including', 417)]"
      ]
     },
     "execution_count": 19,
     "metadata": {},
     "output_type": "execute_result"
    }
   ],
   "source": [
    "counter = get_counter(df[df.label == cluster_3rd], global_stopwords+local_stopwords)\n",
    "counter.most_common(30)"
   ]
  },
  {
   "cell_type": "markdown",
   "metadata": {},
   "source": [
    "It seems like the third largest cluster is about physicians, medicine, and healthcare in general"
   ]
  },
  {
   "cell_type": "code",
   "execution_count": 20,
   "metadata": {},
   "outputs": [],
   "source": [
    "#df[df.label == cluster_4th].sample(10, random_state=0)[[\"body_text\", \"label\"]]     # the fourth largest cluster"
   ]
  },
  {
   "cell_type": "code",
   "execution_count": 21,
   "metadata": {},
   "outputs": [
    {
     "data": {
      "text/plain": [
       "[('health', 503),\n",
       " ('covid-19', 474),\n",
       " ('people', 357),\n",
       " ('new', 349),\n",
       " ('reporting', 339),\n",
       " ('pandemic', 318),\n",
       " ('editing', 303),\n",
       " ('cases', 301),\n",
       " ('last', 281),\n",
       " ('public', 275),\n",
       " ('first', 252),\n",
       " ('disease', 250),\n",
       " ('since', 248),\n",
       " ('world', 244),\n",
       " ('year', 243),\n",
       " ('covid', 242),\n",
       " ('virus', 239),\n",
       " ('including', 238),\n",
       " ('reported', 237),\n",
       " ('told', 236),\n",
       " ('according', 232),\n",
       " ('one', 231),\n",
       " ('country', 222),\n",
       " ('states', 216),\n",
       " ('coronavirus', 215),\n",
       " ('u.s.', 210),\n",
       " ('government', 206),\n",
       " ('could', 205),\n",
       " ('news', 204),\n",
       " ('two', 197)]"
      ]
     },
     "execution_count": 21,
     "metadata": {},
     "output_type": "execute_result"
    }
   ],
   "source": [
    "counter = get_counter(df[df.label == cluster_4th], global_stopwords+local_stopwords)\n",
    "counter.most_common(30)"
   ]
  },
  {
   "cell_type": "markdown",
   "metadata": {},
   "source": [
    "The 4th largest cluster is covid reporting in the U.S. and the world"
   ]
  },
  {
   "cell_type": "code",
   "execution_count": 22,
   "metadata": {},
   "outputs": [],
   "source": [
    "#df[df.label == cluster_5th].sample(10, random_state=0)[[\"body_text\", \"label\"]]     # the smallest cluster"
   ]
  },
  {
   "cell_type": "code",
   "execution_count": 23,
   "metadata": {},
   "outputs": [
    {
     "data": {
      "text/plain": [
       "[('drug', 395),\n",
       " ('company', 307),\n",
       " ('reporting', 300),\n",
       " ('health', 285),\n",
       " ('editing', 269),\n",
       " ('u.s.', 266),\n",
       " ('administration', 253),\n",
       " ('food', 252),\n",
       " ('year', 243),\n",
       " ('new', 238),\n",
       " ('patients', 236),\n",
       " ('fda', 232),\n",
       " ('drugs', 216),\n",
       " ('according', 194),\n",
       " ('last', 191),\n",
       " ('use', 188),\n",
       " ('including', 187),\n",
       " ('market', 183),\n",
       " ('could', 181),\n",
       " ('states', 177),\n",
       " ('one', 177),\n",
       " ('data', 177),\n",
       " ('products', 176),\n",
       " ('companies', 176),\n",
       " ('treatment', 175),\n",
       " ('first', 174),\n",
       " ('people', 172),\n",
       " ('two', 159),\n",
       " ('approved', 159),\n",
       " ('used', 157)]"
      ]
     },
     "execution_count": 23,
     "metadata": {},
     "output_type": "execute_result"
    }
   ],
   "source": [
    "counter = get_counter(df[df.label == cluster_5th], global_stopwords+local_stopwords)\n",
    "counter.most_common(30)"
   ]
  },
  {
   "cell_type": "markdown",
   "metadata": {},
   "source": [
    "The 5th cluster is about the FDA: drugs, market, companies, reporting"
   ]
  },
  {
   "cell_type": "code",
   "execution_count": 24,
   "metadata": {},
   "outputs": [],
   "source": [
    "#df[df.label == cluster_6th].sample(10, random_state=0)[[\"body_text\", \"label\"]]"
   ]
  },
  {
   "cell_type": "code",
   "execution_count": 25,
   "metadata": {
    "scrolled": false
   },
   "outputs": [
    {
     "data": {
      "text/plain": [
       "[('study', 428),\n",
       " ('patients', 421),\n",
       " ('risk', 371),\n",
       " ('university', 366),\n",
       " ('twitter', 358),\n",
       " ('new', 356),\n",
       " ('facebook', 354),\n",
       " ('published', 339),\n",
       " ('data', 334),\n",
       " ('cardiology', 332),\n",
       " ('results', 330),\n",
       " ('clinical', 329),\n",
       " ('years', 326),\n",
       " ('research', 321),\n",
       " ('us', 316),\n",
       " ('cardiovascular', 315),\n",
       " ('heart', 313),\n",
       " ('follow', 310),\n",
       " ('one', 298),\n",
       " ('disease', 293),\n",
       " ('group', 282),\n",
       " ('outcomes', 281),\n",
       " ('compared', 278),\n",
       " ('health', 275),\n",
       " ('theheart.org', 270),\n",
       " ('reported', 268),\n",
       " ('studies', 265),\n",
       " ('however', 263),\n",
       " ('added', 261),\n",
       " ('associated', 259)]"
      ]
     },
     "execution_count": 25,
     "metadata": {},
     "output_type": "execute_result"
    }
   ],
   "source": [
    "counter = get_counter(df[df.label == cluster_6th], global_stopwords+local_stopwords)\n",
    "counter.most_common(30)"
   ]
  },
  {
   "cell_type": "markdown",
   "metadata": {},
   "source": [
    "The 6th cluster seems to be about published data/clinical results in cardiology"
   ]
  },
  {
   "cell_type": "code",
   "execution_count": 26,
   "metadata": {},
   "outputs": [],
   "source": [
    "#df[df.label == cluster_7th].sample(10, random_state=0)[[\"body_text\", \"label\"]]"
   ]
  },
  {
   "cell_type": "code",
   "execution_count": 27,
   "metadata": {},
   "outputs": [
    {
     "data": {
      "text/plain": [
       "[('cancer', 411),\n",
       " ('study', 340),\n",
       " ('patients', 339),\n",
       " ('twitter', 310),\n",
       " ('facebook', 307),\n",
       " ('new', 302),\n",
       " ('research', 296),\n",
       " ('published', 289),\n",
       " ('news', 288),\n",
       " ('years', 285),\n",
       " ('health', 268),\n",
       " ('risk', 267),\n",
       " ('found', 266),\n",
       " ('university', 244),\n",
       " ('follow', 239),\n",
       " ('among', 238),\n",
       " ('data', 235),\n",
       " ('treatment', 234),\n",
       " ('one', 232),\n",
       " ('youtube', 229),\n",
       " ('results', 228),\n",
       " ('instagram', 228),\n",
       " ('authors', 226),\n",
       " ('oncology', 225),\n",
       " ('researchers', 222),\n",
       " ('disease', 216),\n",
       " ('us', 215),\n",
       " ('including', 212),\n",
       " ('care', 211),\n",
       " ('cancers', 210)]"
      ]
     },
     "execution_count": 27,
     "metadata": {},
     "output_type": "execute_result"
    }
   ],
   "source": [
    "counter = get_counter(df[df.label == cluster_7th], global_stopwords+local_stopwords)\n",
    "counter.most_common(30)"
   ]
  },
  {
   "cell_type": "markdown",
   "metadata": {},
   "source": [
    "The 7th cluster is about cancer studies: oncology, treatment"
   ]
  },
  {
   "cell_type": "code",
   "execution_count": 28,
   "metadata": {},
   "outputs": [],
   "source": [
    "#df[df.label == cluster_8th].sample(10, random_state=0)[[\"body_text\", \"label\"]]"
   ]
  },
  {
   "cell_type": "code",
   "execution_count": 29,
   "metadata": {},
   "outputs": [
    {
     "data": {
      "text/plain": [
       "[('covid-19', 345),\n",
       " ('covid', 274),\n",
       " ('patients', 273),\n",
       " ('study', 272),\n",
       " ('news', 272),\n",
       " ('health', 269),\n",
       " ('people', 265),\n",
       " ('new', 258),\n",
       " ('center', 249),\n",
       " ('infection', 249),\n",
       " ('find', 242),\n",
       " ('note', 239),\n",
       " ('latest', 236),\n",
       " ('guidance', 233),\n",
       " ('resource', 228),\n",
       " ('editor', 226),\n",
       " ('symptoms', 225),\n",
       " ('research', 215),\n",
       " ('one', 215),\n",
       " ('data', 213),\n",
       " ('researchers', 213),\n",
       " ('disease', 212),\n",
       " ('published', 211),\n",
       " ('risk', 208),\n",
       " ('university', 207),\n",
       " ('coronavirus', 207),\n",
       " ('found', 198),\n",
       " ('severe', 198),\n",
       " ('among', 185),\n",
       " ('time', 184)]"
      ]
     },
     "execution_count": 29,
     "metadata": {},
     "output_type": "execute_result"
    }
   ],
   "source": [
    "counter = get_counter(df[df.label == cluster_8th], global_stopwords+local_stopwords)\n",
    "counter.most_common(30)"
   ]
  },
  {
   "cell_type": "markdown",
   "metadata": {},
   "source": [
    "The 8th cluster is about general COVID news: health, guidance, resource, risk, center, infections"
   ]
  },
  {
   "cell_type": "code",
   "execution_count": 30,
   "metadata": {},
   "outputs": [],
   "source": [
    "#df[df.label == cluster_9th].sample(10, random_state=0)[[\"body_text\", \"label\"]]"
   ]
  },
  {
   "cell_type": "code",
   "execution_count": 31,
   "metadata": {},
   "outputs": [
    {
     "data": {
      "text/plain": [
       "[('patients', 344),\n",
       " ('study', 317),\n",
       " ('cancer', 313),\n",
       " ('treatment', 303),\n",
       " ('results', 275),\n",
       " ('survival', 274),\n",
       " ('twitter', 274),\n",
       " ('overall', 273),\n",
       " ('facebook', 272),\n",
       " ('news', 259),\n",
       " ('therapy', 249),\n",
       " ('received', 244),\n",
       " ('median', 236),\n",
       " ('new', 232),\n",
       " ('months', 231),\n",
       " ('research', 226),\n",
       " ('published', 224),\n",
       " ('clinical', 224),\n",
       " ('disease', 223),\n",
       " ('university', 220),\n",
       " ('oncology', 219),\n",
       " ('trial', 214),\n",
       " ('3', 210),\n",
       " ('follow', 210),\n",
       " ('data', 206),\n",
       " ('instagram', 205),\n",
       " ('youtube', 205),\n",
       " ('two', 194),\n",
       " ('reported', 194),\n",
       " ('group', 193)]"
      ]
     },
     "execution_count": 31,
     "metadata": {},
     "output_type": "execute_result"
    }
   ],
   "source": [
    "counter = get_counter(df[df.label == cluster_9th], global_stopwords+local_stopwords)\n",
    "counter.most_common(30)"
   ]
  },
  {
   "cell_type": "markdown",
   "metadata": {},
   "source": [
    "The 9th cluster is about clinical trials: oncololgy, therapy, group, median, reseasrch, treatment"
   ]
  },
  {
   "cell_type": "code",
   "execution_count": 32,
   "metadata": {},
   "outputs": [],
   "source": [
    "#df[df.label == cluster_10th].sample(10, random_state=0)[[\"body_text\", \"label\"]]"
   ]
  },
  {
   "cell_type": "code",
   "execution_count": 33,
   "metadata": {},
   "outputs": [
    {
     "data": {
      "text/plain": [
       "[('vaccine', 309),\n",
       " ('covid-19', 265),\n",
       " ('vaccines', 239),\n",
       " ('health', 183),\n",
       " ('new', 173),\n",
       " ('moderna', 171),\n",
       " ('doses', 164),\n",
       " ('people', 161),\n",
       " ('data', 156),\n",
       " ('pfizer', 153),\n",
       " ('shots', 147),\n",
       " ('years', 146),\n",
       " ('first', 146),\n",
       " ('shot', 144),\n",
       " ('covid', 144),\n",
       " ('one', 141),\n",
       " ('year', 140),\n",
       " ('two', 138),\n",
       " ('according', 136),\n",
       " ('reporting', 134),\n",
       " ('use', 131),\n",
       " ('disease', 130),\n",
       " ('vaccination', 129),\n",
       " ('booster', 127),\n",
       " ('news', 127),\n",
       " ('could', 126),\n",
       " ('mrna', 123),\n",
       " ('company', 123),\n",
       " ('dose', 122),\n",
       " ('months', 122)]"
      ]
     },
     "execution_count": 33,
     "metadata": {},
     "output_type": "execute_result"
    }
   ],
   "source": [
    "counter = get_counter(df[df.label == cluster_10th], global_stopwords+local_stopwords)\n",
    "counter.most_common(30)"
   ]
  },
  {
   "cell_type": "markdown",
   "metadata": {},
   "source": [
    "The 10th cluster is mostly about COVID vaccines: dose, pfizer, moderna, booster, mRNA"
   ]
  },
  {
   "cell_type": "code",
   "execution_count": 34,
   "metadata": {},
   "outputs": [],
   "source": [
    "#df[df.label == cluster_11th].sample(10, random_state=0)[[\"body_text\", \"label\"]]"
   ]
  },
  {
   "cell_type": "code",
   "execution_count": 35,
   "metadata": {},
   "outputs": [
    {
     "data": {
      "text/plain": [
       "[('women', 268),\n",
       " ('study', 242),\n",
       " ('health', 223),\n",
       " ('university', 221),\n",
       " ('data', 206),\n",
       " ('research', 205),\n",
       " ('risk', 203),\n",
       " ('new', 197),\n",
       " ('researchers', 180),\n",
       " ('published', 179),\n",
       " ('one', 177),\n",
       " ('years', 174),\n",
       " ('patients', 173),\n",
       " ('according', 172),\n",
       " ('found', 170),\n",
       " ('among', 169),\n",
       " ('higher', 164),\n",
       " ('pregnancy', 162),\n",
       " ('findings', 157),\n",
       " ('reported', 155),\n",
       " ('studies', 155),\n",
       " ('news', 154),\n",
       " ('age', 153),\n",
       " ('likely', 152),\n",
       " ('increased', 150),\n",
       " ('twitter', 148),\n",
       " ('financial', 147),\n",
       " ('need', 146),\n",
       " ('facebook', 146),\n",
       " ('compared', 145)]"
      ]
     },
     "execution_count": 35,
     "metadata": {},
     "output_type": "execute_result"
    }
   ],
   "source": [
    "counter = get_counter(df[df.label == cluster_11th], global_stopwords+local_stopwords)\n",
    "counter.most_common(30)"
   ]
  },
  {
   "cell_type": "markdown",
   "metadata": {},
   "source": [
    "Pregnancy, women; general study, research, university, publish"
   ]
  },
  {
   "cell_type": "code",
   "execution_count": 36,
   "metadata": {},
   "outputs": [],
   "source": [
    "#df[df.label == cluster_12th].sample(10, random_state=0)[[\"body_text\", \"label\"]]"
   ]
  },
  {
   "cell_type": "code",
   "execution_count": 37,
   "metadata": {},
   "outputs": [
    {
     "data": {
      "text/plain": [
       "[('china', 268),\n",
       " ('reporting', 255),\n",
       " ('editing', 252),\n",
       " ('covid-19', 243),\n",
       " ('beijing', 207),\n",
       " ('covid', 204),\n",
       " ('health', 199),\n",
       " ('new', 198),\n",
       " ('people', 191),\n",
       " ('infections', 185),\n",
       " ('chinese', 183),\n",
       " ('cases', 179),\n",
       " ('reported', 163),\n",
       " ('shanghai', 160),\n",
       " ('policy', 155),\n",
       " ('government', 154),\n",
       " ('city', 152),\n",
       " ('world', 144),\n",
       " ('last', 143),\n",
       " ('since', 142),\n",
       " ('three', 137),\n",
       " ('virus', 137),\n",
       " ('many', 137),\n",
       " ('one', 135),\n",
       " ('told', 132),\n",
       " ('authorities', 132),\n",
       " ('two', 130),\n",
       " ('zero-covid', 130),\n",
       " ('testing', 129),\n",
       " ('million', 127)]"
      ]
     },
     "execution_count": 37,
     "metadata": {},
     "output_type": "execute_result"
    }
   ],
   "source": [
    "counter = get_counter(df[df.label == cluster_12th], global_stopwords+local_stopwords)\n",
    "counter.most_common(30)"
   ]
  },
  {
   "cell_type": "markdown",
   "metadata": {},
   "source": [
    "China zero-tolerance covid policy"
   ]
  },
  {
   "cell_type": "code",
   "execution_count": 38,
   "metadata": {},
   "outputs": [],
   "source": [
    "#df[df.label == cluster_13th].sample(10, random_state=0)[[\"body_text\", \"label\"]]"
   ]
  },
  {
   "cell_type": "code",
   "execution_count": 39,
   "metadata": {},
   "outputs": [
    {
     "data": {
      "text/plain": [
       "[('children', 202),\n",
       " ('years', 159),\n",
       " ('health', 156),\n",
       " ('according', 150),\n",
       " ('new', 145),\n",
       " ('data', 142),\n",
       " ('reported', 139),\n",
       " ('one', 132),\n",
       " ('covid-19', 125),\n",
       " ('news', 125),\n",
       " ('disease', 123),\n",
       " ('among', 121),\n",
       " ('age', 120),\n",
       " ('hospital', 120),\n",
       " ('cases', 116),\n",
       " ('control', 110),\n",
       " ('pediatric', 106),\n",
       " ('child', 106),\n",
       " ('year', 105),\n",
       " ('states', 102),\n",
       " ('cdc', 101),\n",
       " ('study', 100),\n",
       " ('pediatrics', 98),\n",
       " ('prevention', 98),\n",
       " ('time', 98),\n",
       " ('two', 97),\n",
       " ('higher', 97),\n",
       " ('first', 95),\n",
       " ('compared', 95),\n",
       " ('report', 94)]"
      ]
     },
     "execution_count": 39,
     "metadata": {},
     "output_type": "execute_result"
    }
   ],
   "source": [
    "counter = get_counter(df[df.label == cluster_13th], global_stopwords+local_stopwords)\n",
    "counter.most_common(30)"
   ]
  },
  {
   "cell_type": "markdown",
   "metadata": {},
   "source": [
    "Pediatrics"
   ]
  },
  {
   "cell_type": "code",
   "execution_count": 40,
   "metadata": {},
   "outputs": [],
   "source": [
    "#df[df.label == cluster_14th].sample(10, random_state=0)[[\"body_text\", \"label\"]]"
   ]
  },
  {
   "cell_type": "code",
   "execution_count": 41,
   "metadata": {},
   "outputs": [
    {
     "data": {
      "text/plain": [
       "[('study', 180),\n",
       " ('health', 167),\n",
       " ('university', 166),\n",
       " ('research', 160),\n",
       " ('weight', 151),\n",
       " ('new', 149),\n",
       " ('news', 144),\n",
       " ('patients', 143),\n",
       " ('obesity', 142),\n",
       " ('body', 142),\n",
       " ('twitter', 135),\n",
       " ('years', 135),\n",
       " ('results', 134),\n",
       " ('data', 133),\n",
       " ('published', 131),\n",
       " ('facebook', 129),\n",
       " ('one', 129),\n",
       " ('studies', 129),\n",
       " ('people', 129),\n",
       " ('diabetes', 123),\n",
       " ('follow', 122),\n",
       " ('researchers', 122),\n",
       " ('age', 118),\n",
       " ('among', 117),\n",
       " ('time', 116),\n",
       " ('associated', 115),\n",
       " ('risk', 115),\n",
       " ('medicine', 114),\n",
       " ('findings', 114),\n",
       " ('compared', 114)]"
      ]
     },
     "execution_count": 41,
     "metadata": {},
     "output_type": "execute_result"
    }
   ],
   "source": [
    "counter = get_counter(df[df.label == cluster_14th], global_stopwords+local_stopwords)\n",
    "counter.most_common(30)"
   ]
  },
  {
   "cell_type": "markdown",
   "metadata": {},
   "source": [
    "weight and obesity, diabetes, body"
   ]
  },
  {
   "cell_type": "code",
   "execution_count": 42,
   "metadata": {},
   "outputs": [],
   "source": [
    "#df[df.label == cluster_15th].sample(10, random_state=0)[[\"body_text\", \"label\"]]"
   ]
  },
  {
   "cell_type": "code",
   "execution_count": 43,
   "metadata": {},
   "outputs": [
    {
     "data": {
      "text/plain": [
       "[('patients', 181),\n",
       " ('study', 170),\n",
       " ('university', 165),\n",
       " ('heart', 158),\n",
       " ('new', 153),\n",
       " ('risk', 151),\n",
       " ('failure', 149),\n",
       " ('published', 144),\n",
       " ('twitter', 144),\n",
       " ('facebook', 142),\n",
       " ('follow', 136),\n",
       " ('health', 133),\n",
       " ('years', 130),\n",
       " ('research', 129),\n",
       " ('clinical', 128),\n",
       " ('data', 128),\n",
       " ('disease', 124),\n",
       " ('compared', 122),\n",
       " ('us', 121),\n",
       " ('one', 120),\n",
       " ('reported', 114),\n",
       " ('results', 113),\n",
       " ('cardiology', 110),\n",
       " ('online', 109),\n",
       " ('death', 108),\n",
       " ('findings', 108),\n",
       " ('including', 108),\n",
       " ('among', 106),\n",
       " ('medicine', 106),\n",
       " ('patient', 105)]"
      ]
     },
     "execution_count": 43,
     "metadata": {},
     "output_type": "execute_result"
    }
   ],
   "source": [
    "counter = get_counter(df[df.label == cluster_15th], global_stopwords+local_stopwords)\n",
    "counter.most_common(30)"
   ]
  },
  {
   "cell_type": "markdown",
   "metadata": {},
   "source": [
    "Cardiology, heart failure"
   ]
  },
  {
   "cell_type": "code",
   "execution_count": 44,
   "metadata": {},
   "outputs": [],
   "source": [
    "#df[df.label == cluster_16th].sample(10, random_state=0)[[\"body_text\", \"label\"]]"
   ]
  },
  {
   "cell_type": "code",
   "execution_count": 45,
   "metadata": {},
   "outputs": [
    {
     "data": {
      "text/plain": [
       "[('abortion', 199),\n",
       " ('court', 185),\n",
       " ('supreme', 182),\n",
       " ('states', 179),\n",
       " ('abortions', 173),\n",
       " ('roe', 173),\n",
       " ('state', 172),\n",
       " ('wade', 169),\n",
       " ('women', 159),\n",
       " ('law', 155),\n",
       " ('v.', 155),\n",
       " ('u.s.', 152),\n",
       " ('health', 150),\n",
       " ('rights', 144),\n",
       " ('decision', 139),\n",
       " ('access', 135),\n",
       " ('laws', 134),\n",
       " ('could', 131),\n",
       " ('right', 129),\n",
       " ('new', 128),\n",
       " ('care', 125),\n",
       " ('legal', 125),\n",
       " ('ruling', 123),\n",
       " ('ban', 121),\n",
       " ('pregnancy', 120),\n",
       " ('weeks', 117),\n",
       " ('overturned', 112),\n",
       " ('one', 111),\n",
       " ('including', 110),\n",
       " ('patients', 109)]"
      ]
     },
     "execution_count": 45,
     "metadata": {},
     "output_type": "execute_result"
    }
   ],
   "source": [
    "counter = get_counter(df[df.label == cluster_16th], global_stopwords+local_stopwords)\n",
    "counter.most_common(30)"
   ]
  },
  {
   "cell_type": "markdown",
   "metadata": {},
   "source": [
    "Abortion, roe v wade, health rights, access, weeks of pregnancy"
   ]
  },
  {
   "cell_type": "code",
   "execution_count": 46,
   "metadata": {},
   "outputs": [],
   "source": [
    "#df[df.label == cluster_17th].sample(10, random_state=0)[[\"body_text\", \"label\"]]"
   ]
  },
  {
   "cell_type": "code",
   "execution_count": 47,
   "metadata": {},
   "outputs": [
    {
     "data": {
      "text/plain": [
       "[('monkeypox', 187),\n",
       " ('cases', 179),\n",
       " ('health', 177),\n",
       " ('disease', 153),\n",
       " ('reported', 142),\n",
       " ('outbreak', 138),\n",
       " ('virus', 136),\n",
       " ('people', 126),\n",
       " ('new', 117),\n",
       " ('states', 116),\n",
       " ('public', 115),\n",
       " ('according', 114),\n",
       " ('countries', 111),\n",
       " ('world', 109),\n",
       " ('spread', 108),\n",
       " ('contact', 106),\n",
       " ('vaccine', 105),\n",
       " ('men', 104),\n",
       " ('confirmed', 103),\n",
       " ('case', 102),\n",
       " ('united', 99),\n",
       " ('one', 98),\n",
       " ('risk', 97),\n",
       " ('organization', 95),\n",
       " ('symptoms', 93),\n",
       " ('sex', 92),\n",
       " ('control', 91),\n",
       " ('cdc', 91),\n",
       " ('vaccines', 90),\n",
       " ('first', 89)]"
      ]
     },
     "execution_count": 47,
     "metadata": {},
     "output_type": "execute_result"
    }
   ],
   "source": [
    "counter = get_counter(df[df.label == cluster_17th], global_stopwords+local_stopwords)\n",
    "counter.most_common(30)"
   ]
  },
  {
   "cell_type": "markdown",
   "metadata": {},
   "source": [
    "Monkeypox outbreak"
   ]
  },
  {
   "cell_type": "code",
   "execution_count": 48,
   "metadata": {},
   "outputs": [],
   "source": [
    "#df[df.label == cluster_18th].sample(10, random_state=0)[[\"body_text\", \"label\"]]"
   ]
  },
  {
   "cell_type": "code",
   "execution_count": 49,
   "metadata": {},
   "outputs": [
    {
     "data": {
      "text/plain": [
       "[('diabetes', 177),\n",
       " ('type', 162),\n",
       " ('study', 158),\n",
       " ('2', 149),\n",
       " ('years', 138),\n",
       " ('published', 137),\n",
       " ('data', 137),\n",
       " ('risk', 136),\n",
       " ('research', 135),\n",
       " ('people', 128),\n",
       " ('new', 126),\n",
       " ('patients', 125),\n",
       " ('follow', 125),\n",
       " ('news', 125),\n",
       " ('twitter', 122),\n",
       " ('health', 122),\n",
       " ('university', 121),\n",
       " ('facebook', 121),\n",
       " ('results', 111),\n",
       " ('disease', 110),\n",
       " ('findings', 109),\n",
       " ('among', 108),\n",
       " ('compared', 107),\n",
       " ('us', 107),\n",
       " ('reported', 105),\n",
       " ('researchers', 105),\n",
       " ('one', 105),\n",
       " ('association', 101),\n",
       " ('endocrinology', 100),\n",
       " ('based', 99)]"
      ]
     },
     "execution_count": 49,
     "metadata": {},
     "output_type": "execute_result"
    }
   ],
   "source": [
    "counter = get_counter(df[df.label == cluster_18th], global_stopwords+local_stopwords)\n",
    "counter.most_common(30)"
   ]
  },
  {
   "cell_type": "markdown",
   "metadata": {},
   "source": [
    "Type 1 and 2 diabetes"
   ]
  },
  {
   "cell_type": "code",
   "execution_count": 50,
   "metadata": {},
   "outputs": [],
   "source": [
    "#df[df.label == cluster_19th].sample(10, random_state=0)[[\"body_text\", \"label\"]]"
   ]
  },
  {
   "cell_type": "code",
   "execution_count": 51,
   "metadata": {},
   "outputs": [
    {
     "data": {
      "text/plain": [
       "[('study', 164),\n",
       " ('research', 153),\n",
       " ('twitter', 151),\n",
       " ('facebook', 151),\n",
       " ('disease', 150),\n",
       " ('news', 148),\n",
       " ('alzheimer', 145),\n",
       " ('published', 144),\n",
       " ('dementia', 143),\n",
       " ('health', 138),\n",
       " ('new', 138),\n",
       " ('risk', 138),\n",
       " ('us', 137),\n",
       " ('researchers', 136),\n",
       " ('university', 135),\n",
       " ('years', 135),\n",
       " ('results', 135),\n",
       " ('findings', 132),\n",
       " ('association', 129),\n",
       " ('relevant', 128),\n",
       " ('cognitive', 127),\n",
       " ('phd', 123),\n",
       " ('participants', 119),\n",
       " ('patients', 119),\n",
       " ('financial', 117),\n",
       " ('associated', 117),\n",
       " ('data', 116),\n",
       " ('added', 115),\n",
       " ('age', 114),\n",
       " ('studies', 114)]"
      ]
     },
     "execution_count": 51,
     "metadata": {},
     "output_type": "execute_result"
    }
   ],
   "source": [
    "counter = get_counter(df[df.label == cluster_19th], global_stopwords+local_stopwords)\n",
    "counter.most_common(30)"
   ]
  },
  {
   "cell_type": "markdown",
   "metadata": {},
   "source": [
    "Cognitive diseases: alzheimers, dementia"
   ]
  },
  {
   "cell_type": "code",
   "execution_count": 52,
   "metadata": {},
   "outputs": [],
   "source": [
    "#df[df.label == cluster_20th].sample(10, random_state=0)[[\"body_text\", \"label\"]]"
   ]
  },
  {
   "cell_type": "code",
   "execution_count": 53,
   "metadata": {},
   "outputs": [
    {
     "data": {
      "text/plain": [
       "[('omicron', 159),\n",
       " ('covid-19', 145),\n",
       " ('ba.5', 126),\n",
       " ('new', 125),\n",
       " ('booster', 120),\n",
       " ('vaccine', 114),\n",
       " ('people', 114),\n",
       " ('coronavirus', 110),\n",
       " ('ba.4', 108),\n",
       " ('health', 101),\n",
       " ('variant', 98),\n",
       " ('data', 97),\n",
       " ('vaccines', 97),\n",
       " ('subvariants', 93),\n",
       " ('two', 92),\n",
       " ('virus', 92),\n",
       " ('variants', 91),\n",
       " ('original', 90),\n",
       " ('last', 89),\n",
       " ('disease', 88),\n",
       " ('covid', 87),\n",
       " ('u.s.', 86),\n",
       " ('according', 85),\n",
       " ('states', 84),\n",
       " ('shots', 83),\n",
       " ('updated', 80),\n",
       " ('week', 79),\n",
       " ('protection', 76),\n",
       " ('reporting', 76),\n",
       " ('older', 75)]"
      ]
     },
     "execution_count": 53,
     "metadata": {},
     "output_type": "execute_result"
    }
   ],
   "source": [
    "counter = get_counter(df[df.label == cluster_20th], global_stopwords+local_stopwords)\n",
    "counter.most_common(30)"
   ]
  },
  {
   "cell_type": "markdown",
   "metadata": {},
   "source": [
    "Covid in the U.S: omicron variant, booster, vaccines, protection"
   ]
  },
  {
   "cell_type": "code",
   "execution_count": 54,
   "metadata": {},
   "outputs": [],
   "source": [
    "#df[df.label == cluster_21st].sample(10, random_state=0)[[\"body_text\", \"label\"]]"
   ]
  },
  {
   "cell_type": "code",
   "execution_count": 55,
   "metadata": {},
   "outputs": [
    {
     "data": {
      "text/plain": [
       "[('use', 120),\n",
       " ('health', 118),\n",
       " ('drug', 104),\n",
       " ('opioid', 102),\n",
       " ('news', 102),\n",
       " ('new', 100),\n",
       " ('patients', 99),\n",
       " ('study', 98),\n",
       " ('opioids', 95),\n",
       " ('twitter', 94),\n",
       " ('facebook', 93),\n",
       " ('people', 90),\n",
       " ('university', 89),\n",
       " ('years', 88),\n",
       " ('data', 88),\n",
       " ('drugs', 84),\n",
       " ('research', 83),\n",
       " ('including', 81),\n",
       " ('published', 81),\n",
       " ('one', 80),\n",
       " ('according', 79),\n",
       " ('researchers', 77),\n",
       " ('treatment', 77),\n",
       " ('pain', 76),\n",
       " ('found', 74),\n",
       " ('overdose', 73),\n",
       " ('used', 72),\n",
       " ('medicine', 72),\n",
       " ('reported', 70),\n",
       " ('need', 69)]"
      ]
     },
     "execution_count": 55,
     "metadata": {},
     "output_type": "execute_result"
    }
   ],
   "source": [
    "counter = get_counter(df[df.label == cluster_21st], global_stopwords+local_stopwords)\n",
    "counter.most_common(30)"
   ]
  },
  {
   "cell_type": "markdown",
   "metadata": {},
   "source": [
    "Opioids, overdoses, drugs, health"
   ]
  },
  {
   "cell_type": "code",
   "execution_count": 56,
   "metadata": {},
   "outputs": [],
   "source": [
    "#df[df.label == cluster_22nd].sample(10, random_state=0)[[\"body_text\", \"label\"]]"
   ]
  },
  {
   "cell_type": "code",
   "execution_count": 57,
   "metadata": {},
   "outputs": [
    {
     "data": {
      "text/plain": [
       "[('diabetes', 78),\n",
       " ('insulin', 74),\n",
       " ('patients', 68),\n",
       " ('type', 64),\n",
       " ('people', 60),\n",
       " ('1', 57),\n",
       " ('use', 56),\n",
       " ('years', 55),\n",
       " ('glucose', 55),\n",
       " ('follow', 55),\n",
       " ('twitter', 54),\n",
       " ('study', 54),\n",
       " ('facebook', 53),\n",
       " ('research', 53),\n",
       " ('news', 53),\n",
       " ('based', 53),\n",
       " ('new', 53),\n",
       " ('us', 50),\n",
       " ('data', 47),\n",
       " ('one', 47),\n",
       " ('health', 47),\n",
       " ('university', 47),\n",
       " ('endocrinology', 47),\n",
       " ('work', 46),\n",
       " ('two', 46),\n",
       " ('reported', 44),\n",
       " ('published', 44),\n",
       " ('2', 44),\n",
       " ('washington', 43),\n",
       " ('area', 43)]"
      ]
     },
     "execution_count": 57,
     "metadata": {},
     "output_type": "execute_result"
    }
   ],
   "source": [
    "counter = get_counter(df[df.label == cluster_22nd], global_stopwords+local_stopwords)\n",
    "counter.most_common(30)"
   ]
  },
  {
   "cell_type": "markdown",
   "metadata": {},
   "source": [
    "The smallest cluster is about type 1 and 2 diabetes; glucose"
   ]
  },
  {
   "cell_type": "markdown",
   "metadata": {},
   "source": [
    "## LDA Topic Modeling"
   ]
  },
  {
   "cell_type": "code",
   "execution_count": 58,
   "metadata": {},
   "outputs": [
    {
     "data": {
      "text/plain": [
       "<8765x77723 sparse matrix of type '<class 'numpy.float64'>'\n",
       "\twith 2294393 stored elements in Compressed Sparse Row format>"
      ]
     },
     "execution_count": 58,
     "metadata": {},
     "output_type": "execute_result"
    }
   ],
   "source": [
    "from sklearn.feature_extraction.text import TfidfVectorizer\n",
    "\n",
    "vectorizer = TfidfVectorizer(use_idf=True, norm=\"l2\", stop_words=\"english\", max_df=0.6)\n",
    "X = vectorizer.fit_transform(df.body_text)\n",
    "X"
   ]
  },
  {
   "cell_type": "code",
   "execution_count": 59,
   "metadata": {},
   "outputs": [],
   "source": [
    "num_topics = 22"
   ]
  },
  {
   "cell_type": "code",
   "execution_count": 60,
   "metadata": {},
   "outputs": [
    {
     "data": {
      "text/plain": [
       "LatentDirichletAllocation(n_components=22, random_state=0)"
      ]
     },
     "execution_count": 60,
     "metadata": {},
     "output_type": "execute_result"
    }
   ],
   "source": [
    "from sklearn.decomposition import LatentDirichletAllocation as LDA\n",
    "\n",
    "lda = LDA(n_components=num_topics, random_state=0)     # LDA uses randomness to get a probability distribution\n",
    "lda"
   ]
  },
  {
   "cell_type": "code",
   "execution_count": 61,
   "metadata": {},
   "outputs": [
    {
     "name": "stdout",
     "output_type": "stream",
     "text": [
      "CPU times: user 5min 49s, sys: 28min 41s, total: 34min 31s\n",
      "Wall time: 4min 21s\n"
     ]
    },
    {
     "data": {
      "text/plain": [
       "LatentDirichletAllocation(n_components=22, random_state=0)"
      ]
     },
     "execution_count": 61,
     "metadata": {},
     "output_type": "execute_result"
    }
   ],
   "source": [
    "%time lda.fit(X)"
   ]
  },
  {
   "cell_type": "code",
   "execution_count": 62,
   "metadata": {},
   "outputs": [
    {
     "data": {
      "text/plain": [
       "array([[0.04545455, 0.04545455, 0.04545455, ..., 0.04545455, 0.04545455,\n",
       "        0.08478263],\n",
       "       [0.04545455, 0.04545455, 0.04545455, ..., 0.04545455, 0.04545455,\n",
       "        0.04545455],\n",
       "       [0.04545455, 0.04545455, 0.04545455, ..., 0.04545455, 0.04545455,\n",
       "        0.04545455],\n",
       "       ...,\n",
       "       [0.04545455, 0.04545455, 0.04545455, ..., 0.09610897, 0.09610897,\n",
       "        0.04545455],\n",
       "       [0.04545455, 0.04545455, 0.04545455, ..., 0.04545455, 0.04545455,\n",
       "        0.04545455],\n",
       "       [0.04545455, 0.04545455, 0.04545455, ..., 0.04545455, 0.04545455,\n",
       "        0.04545455]])"
      ]
     },
     "execution_count": 62,
     "metadata": {},
     "output_type": "execute_result"
    }
   ],
   "source": [
    "lda.components_"
   ]
  },
  {
   "cell_type": "code",
   "execution_count": 63,
   "metadata": {},
   "outputs": [
    {
     "data": {
      "text/plain": [
       "(22, 77723)"
      ]
     },
     "execution_count": 63,
     "metadata": {},
     "output_type": "execute_result"
    }
   ],
   "source": [
    "lda.components_.shape"
   ]
  },
  {
   "cell_type": "code",
   "execution_count": 64,
   "metadata": {},
   "outputs": [],
   "source": [
    "def show_topics(model, feature_names, num_top_words):\n",
    "    for topic_idx, topic_scores in enumerate(model.components_):\n",
    "        print(f\"*** Topic {topic_idx}:\")\n",
    "        print(\" + \".join([\"{:.2f} * {}\".format(topic_scores[i], feature_names[i]) for i in topic_scores.argsort()[::-1][:num_top_words]]))\n",
    "        print()"
   ]
  },
  {
   "cell_type": "code",
   "execution_count": 65,
   "metadata": {
    "scrolled": true
   },
   "outputs": [
    {
     "name": "stdout",
     "output_type": "stream",
     "text": [
      "*** Topic 0:\n",
      "4.04 * thrombectomy + 3.75 * valneva + 3.06 * endovascular + 1.99 * bankruptcy + 1.93 * nihss + 1.90 * mrs + 1.66 * talc + 1.58 * amd + 1.53 * hummel + 1.51 * tassilo + 1.39 * ltl + 1.34 * fh + 1.20 * nafld + 1.12 * rett + 1.00 * sids + 0.99 * filgotinib + 0.99 * infarct + 0.98 * trofinetide + 0.97 * jovin + 0.96 * mamas + 0.94 * tattoos + 0.93 * belimumab + 0.93 * isc + 0.90 * kluge + 0.89 * pde5 + 0.86 * rankin + 0.85 * subbarow + 0.83 * agga + 0.82 * durvalumab + 0.82 * chmp\n",
      "\n",
      "*** Topic 1:\n",
      "4.07 * rankings + 1.65 * berdazimer + 1.39 * stiko + 1.27 * ec + 1.07 * valneva + 1.05 * vaxzevria + 0.93 * curevac + 0.89 * immersion + 0.87 * turtles + 0.85 * oon + 0.84 * scars + 0.84 * pylori + 0.84 * intolerance + 0.84 * venetoclax + 0.84 * gram + 0.83 * lada + 0.82 * ivig + 0.81 * sabizabulin + 0.81 * reese + 0.80 * ddh + 0.80 * molluscum + 0.79 * aapc + 0.79 * etminan + 0.79 * brewster + 0.78 * apremilast + 0.77 * ranking + 0.76 * deucravacitinib + 0.75 * mpox + 0.75 * croce + 0.74 * sadik\n",
      "\n",
      "*** Topic 2:\n",
      "5.03 * ctdna + 4.04 * syrups + 3.77 * atezolizumab + 3.50 * gambia + 3.50 * pcsk9 + 2.78 * maiden + 2.77 * glycol + 2.56 * tdcs + 2.07 * syrup + 1.91 * polypill + 1.71 * dfs + 1.67 * amyloidosis + 1.66 * cdi + 1.64 * teclistamab + 1.60 * hrt + 1.59 * resectable + 1.58 * checkmate + 1.56 * eskd + 1.54 * rosuvastatin + 1.53 * mecarbil + 1.53 * omecamtiv + 1.50 * 73m2 + 1.49 * esophagectomy + 1.46 * paracetamol + 1.45 * uzbekistan + 1.42 * ethylene + 1.33 * diethylene + 1.28 * caffeine + 1.26 * wearables + 1.26 * atorvastatin\n",
      "\n",
      "*** Topic 3:\n",
      "5.80 * gout + 5.15 * pcos + 3.06 * omega + 2.39 * urate + 1.68 * norovirus + 1.27 * ffr + 1.19 * ahi + 1.15 * venetoclax + 1.12 * fezolinetant + 1.12 * osteoarthritis + 1.09 * myopia + 1.01 * sdoh + 1.01 * igas + 0.99 * cemiplimab + 0.98 * neal + 0.98 * garcía + 0.94 * martínez + 0.91 * vasectomy + 0.89 * snoring + 0.89 * pm2 + 0.87 * freddy + 0.86 * asms + 0.86 * mcnaughton + 0.85 * ig + 0.84 * vasectomies + 0.83 * iop + 0.83 * pira + 0.82 * iah + 0.81 * dha + 0.80 * chlorthalidone\n",
      "\n",
      "*** Topic 4:\n",
      "3.04 * aspen + 2.93 * foxconn + 2.72 * bernard + 2.64 * goh + 2.33 * quarantined + 2.23 * chengdu + 1.93 * gopalakrishnan + 1.93 * raju + 1.69 * hainan + 1.64 * ouma + 1.61 * kasolowsky + 1.61 * raissa + 1.44 * factory + 1.44 * nomura + 1.41 * anger + 1.40 * tourism + 1.38 * sudip + 1.38 * kar + 1.35 * pep + 1.33 * urumqi + 1.28 * vec + 1.26 * brenda + 1.24 * meningococcal + 1.21 * xinjiang + 1.17 * zhengzhou + 1.15 * ogwell + 1.13 * wechat + 1.12 * factories + 1.11 * iphone + 1.10 * fosun\n",
      "\n",
      "*** Topic 5:\n",
      "4.73 * nafld + 4.32 * tavr + 3.59 * oa + 2.86 * osteoarthritis + 2.62 * vonoprazan + 2.62 * gout + 2.46 * chatgpt + 2.41 * pylori + 2.32 * ald + 2.27 * gerd + 2.14 * vitiligo + 1.95 * ruxolitinib + 1.88 * measles + 1.82 * pah + 1.76 * tavi + 1.75 * pig + 1.69 * doxycycline + 1.58 * rls + 1.52 * retraction + 1.48 * mcintyre + 1.47 * uric + 1.45 * tyg + 1.41 * bennett + 1.35 * valves + 1.33 * pbs + 1.32 * denosumab + 1.29 * hvad + 1.29 * batteries + 1.25 * rejection + 1.23 * gilbert\n",
      "\n",
      "*** Topic 6:\n",
      "1.50 * mbandaka + 1.27 * tenapanor + 1.15 * bci + 1.12 * hca + 0.86 * stetka + 0.85 * harmony + 0.84 * spouses + 0.84 * prostasin + 0.83 * wic + 0.80 * etrasimod + 0.79 * luketich + 0.78 * 340b + 0.78 * rpm + 0.77 * ted + 0.74 * rezk + 0.73 * intracerebral + 0.72 * dapt + 0.72 * pcps + 0.71 * equateur + 0.70 * jakobs + 0.70 * charms + 0.70 * abbreviations + 0.69 * hipra + 0.69 * phosphate + 0.69 * mismatch + 0.68 * miners + 0.68 * incs + 0.68 * ppg + 0.68 * aaaai + 0.67 * shukla\n",
      "\n",
      "*** Topic 7:\n",
      "2.68 * appendicitis + 1.60 * rabies + 1.53 * bulevirtide + 1.49 * nonoperative + 1.42 * mafld + 1.30 * hdv + 1.28 * gbs + 1.10 * dcd + 1.07 * t2d + 1.02 * farma + 0.98 * strep + 0.98 * indonesia + 0.96 * qsymia + 0.92 * pushkala + 0.92 * aripaka + 0.90 * meld + 0.87 * procurement + 0.86 * remnant + 0.85 * pbt + 0.84 * nafld + 0.84 * adderall + 0.83 * sherry + 0.83 * cu + 0.82 * appendectomy + 0.81 * carusillo + 0.79 * neuralink + 0.78 * egcg + 0.76 * jacob + 0.75 * lqts + 0.75 * fitzgerald\n",
      "\n",
      "*** Topic 8:\n",
      "7.75 * ketamine + 4.75 * ect + 3.04 * pacing + 1.73 * hcv + 1.68 * psma + 1.62 * potassium + 1.41 * ait + 1.29 * elacestrant + 1.28 * daskalakis + 1.24 * bundle + 1.21 * watchman + 1.14 * vince + 1.12 * esketamine + 1.09 * patisiran + 1.09 * incontinence + 1.07 * lai + 1.03 * nafld + 1.02 * pheic + 0.99 * flores + 0.98 * weightlifting + 0.98 * leaks + 0.98 * fcr + 0.96 * fpg + 0.95 * nmol + 0.92 * creech + 0.92 * royalty + 0.92 * ncdc + 0.90 * 177lu + 0.90 * dei + 0.89 * csp\n",
      "\n",
      "*** Topic 9:\n",
      "2.81 * jak + 1.51 * mink + 1.30 * gfap + 0.99 * nafld + 0.96 * abrocitinib + 0.96 * ivarmacitinib + 0.92 * cao + 0.89 * dbs + 0.87 * peritonitis + 0.84 * crt + 0.84 * ella + 0.82 * hendrix + 0.81 * porphyria + 0.79 * iad + 0.79 * cog + 0.77 * lvad + 0.77 * knighton + 0.76 * kd + 0.75 * multisystem + 0.74 * cr + 0.73 * tezspire + 0.73 * tezepelumab + 0.73 * jak1 + 0.72 * ants + 0.71 * thyroiditis + 0.71 * métis + 0.71 * plwh + 0.70 * quinapril + 0.70 * despain + 0.68 * connally\n",
      "\n",
      "*** Topic 10:\n",
      "2.74 * syria + 1.95 * earthquake + 1.31 * mol + 1.30 * tétrault + 1.21 * gabrielle + 1.08 * uti + 1.06 * rebates + 1.05 * aspergillosis + 0.98 * electric + 0.94 * fecd + 0.92 * doxorubicin + 0.91 * humanitarian + 0.90 * biotin + 0.87 * hbs + 0.87 * picu + 0.84 * anversa + 0.80 * daylight + 0.80 * rasi + 0.80 * dowdy + 0.76 * acneiform + 0.76 * baudy + 0.76 * blenrep + 0.76 * nlr + 0.75 * phages + 0.75 * sgrq + 0.74 * diagrams + 0.73 * syrian + 0.73 * scoliosis + 0.72 * brepocitinib + 0.72 * lecanemab\n",
      "\n",
      "*** Topic 11:\n",
      "8.75 * formula + 5.12 * juul + 4.78 * isotretinoin + 2.85 * pas + 2.31 * ipledge + 2.11 * sturgis + 2.03 * similac + 1.93 * otc + 1.87 * melatonin + 1.81 * formulas + 1.80 * elecare + 1.79 * abbott + 1.64 * reckitt + 1.43 * perrigo + 1.37 * teer + 1.28 * wic + 1.27 * mitral + 1.26 * shelves + 1.24 * factory + 1.20 * nestle + 1.16 * nbpas + 1.16 * regurgitation + 1.13 * mitraclip + 1.12 * inspectors + 1.12 * interruptions + 1.12 * melioidosis + 1.11 * rosenthal + 1.07 * lt4 + 1.07 * sriparna + 1.04 * resmetirom\n",
      "\n",
      "*** Topic 12:\n",
      "3.78 * baricitinib + 3.60 * tbi + 3.45 * respondent + 3.45 * adr + 2.12 * haleon + 2.04 * zantac + 1.96 * jak + 1.68 * libre + 1.48 * braf + 1.47 * pfas + 1.39 * roundup + 1.37 * bdnf + 1.36 * noncompete + 1.35 * dabrafenib + 1.30 * sri + 1.28 * trametinib + 1.21 * tralokinumab + 1.20 * swanson + 1.19 * alcl + 1.18 * cocoa + 1.16 * ir + 1.13 * bonus + 1.13 * glyphosate + 1.10 * abaloparatide + 1.06 * govitecan + 1.06 * sacituzumab + 1.06 * pets + 1.06 * neoplasia + 1.06 * beef + 1.06 * insufficiency\n",
      "\n",
      "*** Topic 13:\n",
      "263.74 * covid + 227.58 * study + 175.93 * cancer + 163.28 * risk + 157.26 * 19 + 150.69 * people + 137.22 * vaccine + 128.83 * care + 127.04 * treatment + 124.30 * medical + 122.82 * disease + 122.05 * children + 118.42 * cases + 111.89 * data + 111.50 * years + 109.39 * women + 104.89 * drug + 98.07 * reported + 97.97 * year + 96.57 * research + 96.28 * use + 96.21 * diabetes + 95.58 * group + 94.27 * patient + 93.59 * news + 89.53 * china + 88.96 * time + 88.55 * researchers + 85.38 * md + 83.41 * clinical\n",
      "\n",
      "*** Topic 14:\n",
      "5.04 * paho + 2.87 * americas + 2.71 * etienne + 1.77 * obamacare + 1.53 * subsidies + 1.50 * barrett + 1.43 * aflibercept + 1.37 * husel + 1.36 * cuban + 1.27 * dbt + 1.20 * sulfonylurea + 1.19 * silver + 1.19 * stillbirths + 1.18 * gandhi + 1.17 * nodules + 1.14 * ruan + 1.13 * hydrochlorothiazide + 1.06 * mccormick + 1.00 * krumholz + 0.99 * jensen + 0.97 * carissa + 0.95 * toripalimab + 0.94 * lafontaine + 0.94 * gerd + 0.90 * leqembi + 0.89 * soce + 0.88 * licensure + 0.88 * telemental + 0.87 * cuba + 0.86 * dme\n",
      "\n",
      "*** Topic 15:\n",
      "61.00 * abortion + 20.65 * abortions + 14.70 * supreme + 14.58 * roe + 13.31 * court + 9.10 * wade + 8.41 * ban + 6.42 * rights + 6.26 * overturned + 4.80 * laws + 4.77 * 1973 + 4.60 * parenthood + 4.37 * bans + 4.20 * law + 3.87 * doac + 3.72 * prosecutors + 3.57 * menstrual + 3.51 * oklahoma + 3.37 * constitution + 3.30 * aki + 3.28 * ruling + 3.26 * warfarin + 3.20 * overturn + 3.16 * pfas + 2.96 * justices + 2.96 * cole + 2.95 * tsh + 2.93 * constitutional + 2.93 * guttmacher + 2.88 * enacted\n",
      "\n",
      "*** Topic 16:\n",
      "4.82 * als + 3.01 * lecanemab + 1.79 * amylyx + 1.58 * argentina + 1.55 * clozapine + 1.53 * aires + 1.53 * buenos + 1.48 * tofersen + 1.45 * kc + 1.37 * gbs + 1.18 * cpr + 1.02 * cab + 0.97 * laxatives + 0.96 * amx0035 + 0.95 * endometrial + 0.90 * rems + 0.90 * clarithromycin + 0.85 * benralizumab + 0.85 * svd + 0.85 * erythritol + 0.80 * bittleman + 0.80 * methhf + 0.80 * pioglitazone + 0.80 * bioreference + 0.79 * iyer + 0.78 * berkowitz + 0.77 * tia + 0.76 * zavegepant + 0.75 * aria + 0.75 * argentine\n",
      "\n",
      "*** Topic 17:\n",
      "1.52 * tofacitinib + 1.50 * vaught + 1.43 * cmv + 1.41 * ardern + 1.07 * sunscreens + 1.03 * oath + 0.97 * xocova + 0.96 * culled + 0.95 * diaz + 0.95 * mdd + 0.94 * dpp + 0.94 * farms + 0.89 * fireworks + 0.86 * necc + 0.86 * shionogi + 0.85 * griffith + 0.84 * ric + 0.84 * scad + 0.84 * cre + 0.82 * mtbi + 0.81 * vogelzang + 0.81 * intrinsic + 0.80 * homelessness + 0.78 * xtx + 0.78 * pheochromocytoma + 0.77 * cocaine + 0.76 * blodgett + 0.76 * buchbinder + 0.75 * aborted + 0.75 * conigliaro\n",
      "\n",
      "*** Topic 18:\n",
      "2.97 * retraction + 2.05 * nan + 1.71 * retracted + 1.52 * microplastics + 1.26 * prp + 1.17 * poziotinib + 1.16 * beti + 1.11 * abpi + 1.05 * nps + 0.97 * indonesia + 0.97 * maler + 0.96 * icer + 0.96 * mir + 0.91 * crt + 0.91 * trospium + 0.91 * xanomeline + 0.89 * avacopan + 0.89 * rai + 0.84 * plr + 0.84 * dapt + 0.82 * arbutus + 0.82 * childcare + 0.81 * dasiglucagon + 0.80 * dili + 0.80 * retractions + 0.79 * sic + 0.79 * ch + 0.79 * omeract + 0.78 * beggs + 0.78 * bcqr\n",
      "\n",
      "*** Topic 19:\n"
     ]
    },
    {
     "name": "stdout",
     "output_type": "stream",
     "text": [
      "4.27 * ppi + 4.15 * ppis + 4.12 * vedolizumab + 3.71 * upadacitinib + 2.68 * hcm + 2.09 * gy + 2.01 * sekeres + 1.76 * cd + 1.72 * cansino + 1.51 * hypofractionation + 1.46 * surmount + 1.42 * hypofractionated + 1.29 * pegloticase + 1.27 * nr + 1.26 * vt + 1.18 * ebv + 1.18 * buses + 1.05 * mizelle + 1.02 * eb + 1.01 * wine + 0.98 * hcv + 0.96 * rasi + 0.96 * cf + 0.93 * mcdermott + 0.92 * directory + 0.90 * nsaid + 0.90 * araújo + 0.88 * scribes + 0.88 * sa + 0.87 * stillbirths\n",
      "\n",
      "*** Topic 20:\n",
      "9.55 * fauci + 5.48 * satija + 5.48 * bhanvi + 5.45 * cholera + 5.20 * ganguli + 5.19 * shinjini + 5.00 * hcc + 4.88 * mishra + 4.79 * evusheld + 4.44 * manas + 4.04 * khushi + 3.93 * mpox + 3.93 * mandowara + 3.81 * dasgupta + 3.73 * shounak + 3.38 * bourla + 3.35 * krishna + 3.11 * chandra + 3.01 * eluri + 2.67 * cha + 2.54 * malawi + 2.42 * bq + 2.18 * dwivedi + 2.14 * bebtelovimab + 2.10 * xbb + 2.10 * huang + 2.09 * maju + 2.07 * nhc + 2.05 * zanubrutinib + 2.02 * indoors\n",
      "\n",
      "*** Topic 21:\n",
      "1.42 * forrest + 1.40 * ppa + 1.20 * daprodustat + 1.07 * vo2 + 1.05 * tcr + 1.01 * dea + 0.94 * bloating + 0.91 * periodontitis + 0.91 * inhalers + 0.83 * spirituality + 0.81 * quantum + 0.81 * mccrory + 0.81 * zolpidem + 0.80 * glacier + 0.79 * fasd + 0.79 * pag + 0.77 * bvf + 0.76 * trfs + 0.76 * ec + 0.74 * caq + 0.73 * olokizumab + 0.73 * pseudoephedrine + 0.71 * misophonia + 0.71 * hanger + 0.70 * schulman + 0.70 * tis + 0.69 * nonstatin + 0.68 * g7 + 0.67 * ocd + 0.67 * weekdays\n",
      "\n"
     ]
    }
   ],
   "source": [
    "show_topics(lda, vectorizer.get_feature_names_out(), 30)"
   ]
  },
  {
   "cell_type": "markdown",
   "metadata": {},
   "source": [
    "Some topics are the same, covid news, cancer studies, abortion news, but most are drugs and otherwise unrecognizable words to form topics"
   ]
  },
  {
   "cell_type": "markdown",
   "metadata": {},
   "source": [
    "### Topic Model Visualization"
   ]
  },
  {
   "cell_type": "code",
   "execution_count": 66,
   "metadata": {},
   "outputs": [],
   "source": [
    "import pyLDAvis\n",
    "import pyLDAvis.sklearn\n",
    "\n",
    "pyLDAvis.enable_notebook()"
   ]
  },
  {
   "cell_type": "code",
   "execution_count": 67,
   "metadata": {
    "scrolled": false
   },
   "outputs": [
    {
     "name": "stderr",
     "output_type": "stream",
     "text": [
      "/home/gtrane/.local/lib/python3.9/site-packages/sklearn/utils/deprecation.py:87: FutureWarning: Function get_feature_names is deprecated; get_feature_names is deprecated in 1.0 and will be removed in 1.2. Please use get_feature_names_out instead.\n",
      "  warnings.warn(msg, category=FutureWarning)\n",
      "/home/gtrane/.local/lib/python3.9/site-packages/pyLDAvis/_prepare.py:246: FutureWarning: In a future version of pandas all arguments of DataFrame.drop except for the argument 'labels' will be keyword-only.\n",
      "  default_term_info = default_term_info.sort_values(\n"
     ]
    },
    {
     "data": {
      "text/html": [
       "\n",
       "<link rel=\"stylesheet\" type=\"text/css\" href=\"https://cdn.jsdelivr.net/gh/bmabey/pyLDAvis@3.3.1/pyLDAvis/js/ldavis.v1.0.0.css\">\n",
       "\n",
       "\n",
       "<div id=\"ldavis_el1161406236693674086280301314\"></div>\n",
       "<script type=\"text/javascript\">\n",
       "\n",
       "var ldavis_el1161406236693674086280301314_data = {\"mdsDat\": {\"x\": [-0.41342724215037874, 0.03811959072264072, 0.02625448341340297, 0.02393114622158555, 0.02242702761813399, 0.02153929222420672, 0.02060011013603019, 0.020380489339134483, 0.020400306321651934, 0.019431776137013555, 0.019825935928391252, 0.018713165944571862, 0.018434510583187732, 0.017928840030551035, 0.016709715683398577, 0.01615173964150424, 0.015634343065874936, 0.015624227695566126, 0.015507047384448016, 0.01549066081391328, 0.015427235315055925, 0.014895597930115833], \"y\": [0.003456477192934507, 0.0840230367821797, -0.010113801416803545, -0.008825000152971886, -0.0049052059198027775, -0.0063480271537858304, -0.005278753061561155, -0.00590543705554818, -0.00499808673441457, -0.005476387429932782, -0.004083222773513953, -0.004646828491893078, -0.004224653127025295, -0.004706899970321934, -0.0026617935813163986, -0.001910941244131659, -0.0026916490596320354, -0.0024575487767540165, -0.0023586212632330304, -0.002445966632614326, -0.0023721497112074003, -0.0010685404186504977], \"topics\": [1, 2, 3, 4, 5, 6, 7, 8, 9, 10, 11, 12, 13, 14, 15, 16, 17, 18, 19, 20, 21, 22], \"cluster\": [1, 1, 1, 1, 1, 1, 1, 1, 1, 1, 1, 1, 1, 1, 1, 1, 1, 1, 1, 1, 1, 1], \"Freq\": [77.86518247298, 2.2132373981862745, 1.3106914019361304, 1.20304520307436, 1.1327677904830837, 1.1070110639892101, 1.0614067015390092, 1.052206828353458, 1.048155763937251, 1.0344637415410467, 1.02520677287302, 1.0003892400679089, 0.9772408382810918, 0.9615134028012454, 0.9129480685837432, 0.8915890134278517, 0.876394351935264, 0.8739128999374006, 0.870995535051601, 0.8681576442750454, 0.8680608220374281, 0.845423044708587]}, \"tinfo\": {\"Term\": [\"abortion\", \"court\", \"law\", \"formula\", \"abortions\", \"rights\", \"supreme\", \"ban\", \"laws\", \"ruling\", \"roe\", \"abbott\", \"covid\", \"study\", \"xbb\", \"measles\", \"wade\", \"bq\", \"shanghai\", \"oklahoma\", \"valve\", \"bans\", \"conservative\", \"overturned\", \"fauci\", \"draft\", \"republican\", \"cancer\", \"nivolumab\", \"milk\", \"covid\", \"study\", \"cancer\", \"risk\", \"19\", \"people\", \"vaccine\", \"care\", \"treatment\", \"medical\", \"disease\", \"children\", \"cases\", \"data\", \"years\", \"women\", \"drug\", \"reported\", \"year\", \"research\", \"use\", \"diabetes\", \"group\", \"patient\", \"news\", \"china\", \"time\", \"researchers\", \"md\", \"clinical\", \"doac\", \"prosecutors\", \"ix\", \"warfarin\", \"roe\", \"tsh\", \"dobbs\", \"leaked\", \"iud\", \"cole\", \"terminate\", \"sentenced\", \"reed\", \"injunction\", \"emtala\", \"violates\", \"guttmacher\", \"judges\", \"enacted\", \"wade\", \"viii\", \"rucaparib\", \"vka\", \"5etfw\", \"ref_src\", \"twsrc\", \"hoge\", \"2f\", \"menstrual\", \"heartbeat\", \"abortions\", \"enforced\", \"guilty\", \"abortion\", \"1973\", \"connor\", \"overturned\", \"parenthood\", \"aki\", \"assault\", \"supreme\", \"pfas\", \"justices\", \"singh\", \"ban\", \"court\", \"bans\", \"constitution\", \"rights\", \"overturn\", \"laws\", \"oklahoma\", \"law\", \"ruling\", \"constitutional\", \"fauci\", \"bhanvi\", \"satija\", \"shinjini\", \"hcc\", \"evusheld\", \"manas\", \"ganguli\", \"mishra\", \"mandowara\", \"dasgupta\", \"shounak\", \"khushi\", \"chandra\", \"eluri\", \"bourla\", \"cholera\", \"dwivedi\", \"mpox\", \"bebtelovimab\", \"malawi\", \"krishna\", \"amruta\", \"khandekar\", \"cabozantinib\", \"cha\", \"sorafenib\", \"tripledemic\", \"nhc\", \"mariam\", \"zanubrutinib\", \"huang\", \"maju\", \"mounjaro\", \"bq\", \"indoors\", \"xbb\", \"tavr\", \"vonoprazan\", \"oa\", \"ald\", \"tavi\", \"rls\", \"mcintyre\", \"vitiligo\", \"uric\", \"doxycycline\", \"rosmarin\", \"sotatercept\", \"porcine\", \"pcmv\", \"chatgpt\", \"savr\", \"erosive\", \"pbs\", \"tonic\", \"tigray\", \"pah\", \"pylori\", \"hvad\", \"tyg\", \"imrt\", \"huffington\", \"lyles\", \"gerd\", \"ccp\", \"newshour\", \"ruxolitinib\", \"gilbert\", \"osteoarthritis\", \"nafld\", \"pig\", \"gout\", \"valves\", \"retraction\", \"batteries\", \"rejection\", \"denosumab\", \"measles\", \"bennett\", \"adr\", \"tbi\", \"baricitinib\", \"libre\", \"haleon\", \"respondent\", \"noncompete\", \"dabrafenib\", \"roundup\", \"alcl\", \"swanson\", \"glyphosate\", \"trametinib\", \"cocoa\", \"bdnf\", \"zantac\", \"abaloparatide\", \"tralokinumab\", \"govitecan\", \"sacituzumab\", \"chilukuri\", \"sexism\", \"broccoli\", \"iroku\", \"malize\", \"adrs\", \"iscgm\", \"streak\", \"hiccups\", \"lanolin\", \"sri\", \"jak\", \"pets\", \"ir\", \"bonus\", \"pfas\", \"braf\", \"beef\", \"neoplasia\", \"insufficiency\", \"ctdna\", \"syrups\", \"maiden\", \"gambia\", \"glycol\", \"pcsk9\", \"tdcs\", \"teclistamab\", \"atezolizumab\", \"checkmate\", \"syrup\", \"mecarbil\", \"omecamtiv\", \"resectable\", \"uzbekistan\", \"polypill\", \"ethylene\", \"diethylene\", \"esophagectomy\", \"eskd\", \"npdb\", \"gfr\", \"rosuvastatin\", \"polyneuropathy\", \"cystatin\", \"hrt\", \"amyloidosis\", \"dfs\", \"virani\", \"hattr\", \"73m2\", \"cdi\", \"paracetamol\", \"wearables\", \"caffeine\", \"atorvastatin\", \"ketamine\", \"ect\", \"psma\", \"daskalakis\", \"pacing\", \"vince\", \"esketamine\", \"patisiran\", \"ncdc\", \"177lu\", \"bundle\", \"sanacora\", \"fcr\", \"creech\", \"elacestrant\", \"lai\", \"momelotinib\", \"demetre\", \"pmsph\", \"royalty\", \"blackman\", \"amulet\", \"chizu\", \"nomiyama\", \"racaniello\", \"fpg\", \"ait\", \"nicholson\", \"noninitiation\", \"phac\", \"leaks\", \"tenens\", \"pheic\", \"potassium\", \"watchman\", \"flores\", \"hcv\", \"incontinence\", \"weightlifting\", \"nmol\", \"dei\", \"nafld\", \"csp\", \"ppis\", \"hcm\", \"ppi\", \"upadacitinib\", \"sekeres\", \"surmount\", \"hypofractionation\", \"hypofractionated\", \"pegloticase\", \"nr\", \"vedolizumab\", \"mizelle\", \"eb\", \"scribes\", \"gy\", \"kaul\", \"ara\\u00fajo\", \"directory\", \"hyrimoz\", \"tophi\", \"cansino\", \"tdm\", \"keloids\", \"oleogel\", \"s10\", \"osoego\", \"eviction\", \"axcella\", \"blt\", \"skelton\", \"ebv\", \"buses\", \"cd\", \"vt\", \"rasi\", \"cf\", \"mcdermott\", \"aspartame\", \"nsaid\", \"wine\", \"hcv\", \"sa\", \"stillbirths\", \"paho\", \"etienne\", \"obamacare\", \"husel\", \"americas\", \"carissa\", \"soce\", \"telemental\", \"toripalimab\", \"dme\", \"hydrochlorothiazide\", \"pseudocirrhosis\", \"buzyn\", \"sulfonylurea\", \"dbt\", \"cuban\", \"krumholz\", \"lafontaine\", \"subsidies\", \"leqembi\", \"aflibercept\", \"spn\", \"greager\", \"basaglar\", \"maher\", \"brolucizumab\", \"uhs\", \"metaverse\", \"dtca\", \"ptdm\", \"ruan\", \"barrett\", \"gandhi\", \"stillbirths\", \"chiropractic\", \"mccormick\", \"cuba\", \"nodules\", \"jensen\", \"silver\", \"gerd\", \"licensure\", \"juul\", \"isotretinoin\", \"ipledge\", \"sturgis\", \"similac\", \"elecare\", \"reckitt\", \"perrigo\", \"teer\", \"nbpas\", \"mitraclip\", \"resmetirom\", \"benckiser\", \"dra\", \"lt4\", \"tra\", \"opill\", \"powdered\", \"cronobacter\", \"lockout\", \"opbht\", \"sabr\", \"cadx\", \"gerber\", \"mitral\", \"immunoadsorption\", \"transradial\", \"rosenthal\", \"wic\", \"oos\", \"melioidosis\", \"pas\", \"otc\", \"shelves\", \"formula\", \"inspectors\", \"formulas\", \"regurgitation\", \"nestle\", \"melatonin\", \"interruptions\", \"factory\", \"abbott\", \"sriparna\", \"pcos\", \"omega\", \"urate\", \"gout\", \"ahi\", \"fezolinetant\", \"norovirus\", \"freddy\", \"cemiplimab\", \"asms\", \"pira\", \"dha\", \"nvhap\", \"ig\", \"snoring\", \"ffr\", \"garc\\u00eda\", \"cno\", \"eberhart\", \"hawes\", \"butylphthalide\", \"igas\", \"kaklamani\", \"ppcs\", \"iml\", \"bradshaw\", \"spectacles\", \"sari\", \"harding\", \"macchiarini\", \"neal\", \"iah\", \"butyrate\", \"myopia\", \"venetoclax\", \"mart\\u00ednez\", \"sdoh\", \"iop\", \"vasectomy\", \"osteoarthritis\", \"mcnaughton\", \"vasectomies\", \"pm2\", \"chlorthalidone\", \"foxconn\", \"aspen\", \"gopalakrishnan\", \"raju\", \"hainan\", \"quarantined\", \"ouma\", \"goh\", \"nomura\", \"kasolowsky\", \"raissa\", \"urumqi\", \"chengdu\", \"vec\", \"xinjiang\", \"ogwell\", \"fosun\", \"pep\", \"aspenovax\", \"wechat\", \"surnamed\", \"chunlan\", \"doxy\", \"nicolaou\", \"crematorium\", \"kar\", \"sudip\", \"sarpong\", \"lgs\", \"hearses\", \"pimavanserin\", \"bernard\", \"iphone\", \"tourism\", \"factory\", \"tibet\", \"anger\", \"meningococcal\", \"factories\", \"brenda\", \"zhengzhou\", \"als\", \"amylyx\", \"kc\", \"aires\", \"buenos\", \"tofersen\", \"lecanemab\", \"amx0035\", \"laxatives\", \"bittleman\", \"methhf\", \"erythritol\", \"sitravatinib\", \"zagala\", \"pcat\", \"gbs\", \"zavegepant\", \"fina\", \"cab\", \"cytomx\", \"berkowitz\", \"dato\", \"tas\", \"macsf\", \"bioreference\", \"plugs\", \"ejaculation\", \"riluzole\", \"afm\", \"quizartinib\", \"svd\", \"p16\", \"argentina\", \"clozapine\", \"clarithromycin\", \"rems\", \"benralizumab\", \"aria\", \"argentine\", \"cpr\", \"iyer\", \"pioglitazone\", \"endometrial\", \"tia\", \"nihss\", \"valneva\", \"talc\", \"hummel\", \"ltl\", \"tassilo\", \"endovascular\", \"fh\", \"mrs\", \"bankruptcy\", \"thrombectomy\", \"rett\", \"trofinetide\", \"jovin\", \"mamas\", \"filgotinib\", \"isc\", \"subbarow\", \"agga\", \"aact\", \"armstead\", \"meniscal\", \"cipn\", \"sids\", \"litifilimab\", \"hospices\", \"melville\", \"propecia\", \"amd\", \"imfinzi\", \"tattoos\", \"rankin\", \"belimumab\", \"infarct\", \"pde5\", \"kluge\", \"nafld\", \"chmp\", \"durvalumab\", \"mbandaka\", \"tenapanor\", \"stetka\", \"prostasin\", \"luketich\", \"rpm\", \"etrasimod\", \"rezk\", \"jakobs\", \"hipra\", \"hca\", \"charms\", \"spl026\", \"arid2\", \"gassen\", \"chemoid\", \"equateur\", \"cita\", \"ibudilast\", \"nimotuzumab\", \"compulsivity\", \"pur\", \"bci\", \"ritn\", \"earplugs\", \"glomus\", \"kochumian\", \"oclu\", \"ent\", \"biosafety\", \"abbreviations\", \"harmony\", \"spouses\", \"ted\", \"wic\", \"340b\", \"miners\", \"aaaai\", \"intracerebral\", \"pcps\", \"shukla\", \"incs\", \"dapt\", \"mismatch\", \"ppg\", \"phosphate\", \"rankings\", \"berdazimer\", \"stiko\", \"vaxzevria\", \"oon\", \"ddh\", \"etminan\", \"brewster\", \"turtles\", \"croce\", \"sadik\", \"immersion\", \"tinslee\", \"sogice\", \"pids\", \"lada\", \"esm\", \"hourmann\", \"molluscum\", \"pfa\", \"eim\", \"homer\", \"nact\", \"broadbent\", \"scs\", \"aapc\", \"spyral\", \"contagiosum\", \"ln\", \"ec\", \"ivig\", \"boulware\", \"apremilast\", \"enamel\", \"curevac\", \"scars\", \"sabizabulin\", \"valneva\", \"gram\", \"venetoclax\", \"reese\", \"deucravacitinib\", \"pylori\", \"intolerance\", \"ranking\", \"mpox\", \"earthquake\", \"syria\", \"t\\u00e9trault\", \"gabrielle\", \"fecd\", \"aspergillosis\", \"hbs\", \"anversa\", \"baudy\", \"diagrams\", \"scoliosis\", \"sgrq\", \"uti\", \"nemolizumab\", \"acneiform\", \"psvt\", \"tdv\", \"nfsi\", \"blenrep\", \"tts\", \"padn\", \"amg133\", \"sudc\", \"picu\", \"hfimpef\", \"phages\", \"rubble\", \"teladoc\", \"losartan\", \"cariprazine\", \"dowdy\", \"mol\", \"biotin\", \"rebates\", \"syrian\", \"nlr\", \"electric\", \"doxorubicin\", \"rasi\", \"daylight\", \"humanitarian\", \"medi\", \"brepocitinib\", \"lecanemab\", \"appendicitis\", \"bulevirtide\", \"mafld\", \"hdv\", \"qsymia\", \"farma\", \"nonoperative\", \"pbt\", \"rabies\", \"carusillo\", \"egcg\", \"dcd\", \"tidepool\", \"aripaka\", \"pushkala\", \"neuralink\", \"mcclung\", \"ldlt\", \"zelnorm\", \"hrtv\", \"srsca\", \"samaan\", \"marciano\", \"ilr\", \"haanen\", \"eacts\", \"pvsa\", \"swt\", \"amna\", \"karimi\", \"gbs\", \"strep\", \"cu\", \"phentermine\", \"meld\", \"lqts\", \"t2d\", \"geriatricians\", \"appendectomy\", \"remnant\", \"adderall\", \"sherry\", \"indonesia\", \"procurement\", \"nafld\", \"jacob\", \"fitzgerald\", \"poziotinib\", \"beti\", \"nan\", \"xanomeline\", \"retraction\", \"trospium\", \"mir\", \"arbutus\", \"dasiglucagon\", \"dili\", \"beggs\", \"bcqr\", \"omeract\", \"prp\", \"avacopan\", \"indobufen\", \"mirikizumab\", \"cald\", \"maler\", \"sost\", \"microplastics\", \"robotreviewer\", \"goat\", \"beaufils\", \"n2o\", \"plr\", \"abpi\", \"sic\", \"genevant\", \"empa\", \"retractions\", \"retracted\", \"rai\", \"floats\", \"nps\", \"icer\", \"indonesia\", \"crt\", \"ch\", \"dapt\", \"childcare\", \"mink\", \"ivarmacitinib\", \"gfap\", \"iad\", \"knighton\", \"tezspire\", \"peritonitis\", \"kd\", \"despain\", \"connally\", \"kelble\", \"thiosulfate\", \"p\\u00e4\\u00e4bo\", \"cao\", \"m\\u00e9tis\", \"jak\", \"aylward\", \"cog\", \"perampanel\", \"lvad\", \"ella\", \"fig\", \"kellermayr\", \"vhl\", \"pellicori\", \"porphyria\", \"abrocitinib\", \"ambrose\", \"jounce\", \"benzo\", \"narcissism\", \"hendrix\", \"tezepelumab\", \"jak1\", \"quinapril\", \"thyroiditis\", \"plwh\", \"multisystem\", \"dbs\", \"crt\", \"cr\", \"nafld\", \"ants\", \"ardern\", \"vaught\", \"xocova\", \"necc\", \"ric\", \"cre\", \"vogelzang\", \"scad\", \"xtx\", \"oath\", \"blodgett\", \"conigliaro\", \"dpp\", \"laias\", \"rotenstein\", \"if1\", \"topiwala\", \"sugemalimab\", \"teshirogi\", \"disulfiram\", \"fireworks\", \"seemer\", \"decitabine\", \"crenezumab\", \"buchbinder\", \"obeds\", \"visdys\", \"avegno\", \"tpbm\", \"mtbi\", \"sunscreens\", \"tofacitinib\", \"culled\", \"pheochromocytoma\", \"farms\", \"cmv\", \"diaz\", \"griffith\", \"aborted\", \"intrinsic\", \"mdd\", \"homelessness\", \"shionogi\", \"cocaine\", \"ppa\", \"forrest\", \"tcr\", \"glacier\", \"daprodustat\", \"fasd\", \"pag\", \"bvf\", \"inhalers\", \"trfs\", \"mccrory\", \"olokizumab\", \"pseudoephedrine\", \"misophonia\", \"hanger\", \"piccio\", \"val122ile\", \"ecopipam\", \"sundaram\", \"nonstatin\", \"neogene\", \"armbrust\", \"sciarra\", \"sdmt\", \"schulman\", \"ftd\", \"tpi\", \"sarin\", \"tis\", \"husain\", \"quantum\", \"weekdays\", \"pcc\", \"periodontitis\", \"vo2\", \"spirituality\", \"bloating\", \"zolpidem\", \"caq\", \"dea\", \"ec\", \"g7\", \"ocd\"], \"Freq\": [40.0, 32.0, 33.0, 10.0, 10.0, 14.0, 10.0, 11.0, 12.0, 14.0, 6.0, 11.0, 231.0, 199.0, 7.0, 7.0, 4.0, 5.0, 25.0, 5.0, 7.0, 4.0, 7.0, 3.0, 2.0, 7.0, 11.0, 154.0, 6.0, 6.0, 231.08924858123552, 199.40193591370615, 154.1474657479669, 143.06324902757348, 137.78749911624803, 132.03008439190367, 120.23280412647338, 112.87763340472866, 111.31163731189199, 108.91271171164686, 107.60945903120695, 106.9388241389643, 103.75745791695033, 98.03777718619723, 97.69873301445628, 95.84571901169902, 91.90566132659505, 85.92622711442328, 85.83618594001364, 84.61761870673503, 84.35697693755617, 84.29406363024424, 83.74890619662283, 82.59937353448747, 82.00323947381209, 78.44535242026582, 77.94694026221902, 77.58749874582065, 74.80811798898945, 73.08042991247821, 1.467941487655775, 1.4126086103585351, 1.0460627844181212, 1.2373858916743872, 5.5361327603706725, 1.1181550288666786, 0.9773277419411572, 1.0803081800359633, 0.8694017154535616, 1.1236820175861115, 1.0549329767701292, 0.8930930370747439, 0.8240107835708188, 0.967525268161933, 0.718403904269111, 0.7880822637625162, 1.1131862954962335, 0.7157311948246957, 1.0941704000301655, 3.454388520202602, 0.7433222459329889, 0.6495061143335678, 0.6263063841166293, 0.6226191632174967, 0.6226191632174967, 0.6226191632174967, 0.6159875779115978, 0.6150258610426608, 1.354894319380271, 0.7685652552508386, 7.837511498331278, 0.8032621849488226, 0.8394683104467361, 23.15618393552689, 1.8118539547272707, 1.0411550421891858, 2.3762933768515824, 1.745041246532743, 1.2527262460856368, 1.071086944050407, 5.578533185853792, 1.2011199780120427, 1.1241720242410014, 1.0442037096310404, 3.1912425414657806, 5.052147496604287, 1.6586917975008302, 1.279799752278055, 2.4369863762436315, 1.214197456388866, 1.822968611784477, 1.3319827220940983, 1.5939240872071692, 1.2432525322909858, 1.1140138964071298, 2.5350697483747147, 1.454043129781626, 1.454043129781626, 1.376367268108415, 1.326062227913753, 1.2701143956541974, 1.1771743941581494, 1.379826214386636, 1.296130137016776, 1.0426691474663745, 1.0107052017959586, 0.9886086271212543, 1.0715819669955795, 0.8239565553124617, 0.7984582634138098, 0.8980706836057889, 1.447203082260679, 0.5779686286637574, 1.0435804232150012, 0.5683096677371536, 0.6750242172301271, 0.887708235605501, 0.4847902899606095, 0.4847902899606095, 0.46252456049072094, 0.7083061509204442, 0.5012849136997164, 0.4814653859640971, 0.5494280309518146, 0.4209696986194124, 0.5435461424717211, 0.5564266157923404, 0.5552185460718803, 0.5251691719003256, 0.6426417707967021, 0.5366900277769024, 0.5581722922909697, 1.0801337465191543, 0.6555488060386189, 0.8967314005693129, 0.5790308121699427, 0.439159259345947, 0.39408604777649786, 0.3694807166556829, 0.5345189427337624, 0.3676953108840236, 0.42313641819386344, 0.2991690109331192, 0.2981153678267772, 0.28865455353451613, 0.2852069653234873, 0.6154271032800167, 0.2722340873751068, 0.28965320531726535, 0.3315340699007319, 0.2846054138362823, 0.29310881757658885, 0.45544956986493784, 0.6030249329678055, 0.3214809163292921, 0.36116836744939956, 0.2744414794227686, 0.24344424096271952, 0.24344424096271952, 0.5680220920928686, 0.23825932545506973, 0.25625312540585454, 0.48740080390877594, 0.30663377413665205, 0.7136976232261637, 1.1817009551469981, 0.43683722192864405, 0.6535688550275639, 0.3365806230807957, 0.381009058865326, 0.3212032611610341, 0.31214717149244514, 0.3299065630364666, 0.47084825276042236, 0.3519332244593105, 0.8235594263663552, 0.8614652812551448, 0.9029952903426635, 0.40211652704822215, 0.5058868784762421, 0.8245160968201126, 0.3241818792380021, 0.32282598595275924, 0.33204215875191334, 0.2840349529708784, 0.2871793299868423, 0.26942770657709164, 0.30580727799161167, 0.2829451157856499, 0.3275995798455237, 0.48788943451410743, 0.26199494848154864, 0.28804989799189973, 0.2533731859015888, 0.2533731859015888, 0.24787953412354366, 0.24490022818033846, 0.24899479158459906, 0.22777768138498303, 0.22777768138498303, 0.22705627004694154, 0.21711353421488863, 0.24728809877247812, 0.2302646424257448, 0.20970087164920845, 0.31061817765220917, 0.46937617327011316, 0.25326239885102975, 0.2766548612513447, 0.270707847884063, 0.3509480410504007, 0.35304380520507034, 0.2526602132007715, 0.25273958324933277, 0.2522089430419172, 1.182268477552277, 0.9483310686926997, 0.6543705258167318, 0.823397505761696, 0.6497766069159899, 0.8222376108729359, 0.6005165060904045, 0.38557061425285055, 0.8853696434390738, 0.3701026896004263, 0.486745038794435, 0.35910211273844533, 0.35910211273844533, 0.3745306474984127, 0.3404454098881432, 0.4482254569215385, 0.33457935373296127, 0.3121721762941983, 0.3493327293243538, 0.3666652471782085, 0.290291512911608, 0.2914196083980794, 0.3615329821501223, 0.27444906199450075, 0.2643789253094877, 0.37546965454972286, 0.3930127998044019, 0.4027666307082214, 0.26350872797633945, 0.23158909525675517, 0.3519196231961945, 0.3892299292090253, 0.34189531020987407, 0.2960342646322492, 0.3010600886191906, 0.29593289850527277, 1.7665652921460928, 1.081334689170232, 0.38247141973897664, 0.2910594366160582, 0.6929907870206247, 0.2588731051235182, 0.2551435053475294, 0.24773624019723575, 0.20872490188326653, 0.20507350955871542, 0.28165710035281094, 0.19733089824713607, 0.22245578261088814, 0.20994500163008437, 0.29327726360247697, 0.2436955579788309, 0.18519792761663412, 0.18367103111552205, 0.17679760017872048, 0.20989594774686512, 0.17091274219008204, 0.17087046110085516, 0.19581028639028977, 0.19581028639028977, 0.17006476614841654, 0.21837869061706353, 0.32180194324850225, 0.15670076520235, 0.1557905813474224, 0.15301671155572655, 0.22339716407070576, 0.2006773505399619, 0.23325959222989184, 0.36800447659146635, 0.2749595815060201, 0.22629061819217702, 0.3948847590761852, 0.24721317560008363, 0.22433370948088124, 0.2158780279085262, 0.20469406181373187, 0.23520025382303592, 0.20357639338380026, 0.9400581518375203, 0.6058243573926247, 0.9671210192443851, 0.8389537515000794, 0.45393428627286364, 0.3300391595856452, 0.3419347096552998, 0.32135251779937996, 0.2927220346825691, 0.2881634431692578, 0.9325073439393174, 0.23740374100660083, 0.2312894316963109, 0.19894792816902374, 0.473827578523906, 0.19007276453732938, 0.20281603116340383, 0.2072790322608987, 0.17965609949661793, 0.18292614135296, 0.3895976949284167, 0.1740082117919209, 0.17310832120698352, 0.17066432598083217, 0.17066432598083217, 0.16910551750772315, 0.18900607622821097, 0.16707395008778558, 0.15703649452038893, 0.15488349492363085, 0.267121608401173, 0.26618341096435755, 0.39793466627504653, 0.28562486129263087, 0.21684753017039768, 0.21614126396051772, 0.21022938931483795, 0.18830273122071592, 0.20303684728358384, 0.228475183440472, 0.2215585974833183, 0.19846766505653296, 0.1958643801521905, 1.1368884702621214, 0.610886406284234, 0.39830854102268076, 0.3084508194620609, 0.6471487320947744, 0.21827153681431344, 0.2001551751971406, 0.19837119143115148, 0.21327045894011876, 0.19440282677875478, 0.2553335371191435, 0.1912966181941152, 0.18915221544510544, 0.2701040277083418, 0.28568410012610373, 0.30640643002946955, 0.22652588470734986, 0.21251833328472852, 0.34484462686884154, 0.20283961569519682, 0.3230885334959502, 0.17179872259622941, 0.16930183827900033, 0.16918868524526862, 0.17716562323191531, 0.1637857754800987, 0.16360545488545428, 0.16281826841692196, 0.15992883495824306, 0.15683225979958634, 0.2566097146816435, 0.3376637017016693, 0.2671225692168041, 0.26771346793834466, 0.18550845735911475, 0.23905946703723935, 0.19715010180956982, 0.2642438894365109, 0.22245064337948522, 0.2694858795448255, 0.2113330179383248, 0.19849345425913853, 1.143153626267439, 1.0676234557128883, 0.5155175956400726, 0.4715983993232009, 0.4527458831984764, 0.4009406718300911, 0.3669928414622129, 0.31998959037695013, 0.30490260884068343, 0.25965123654833244, 0.25175199893460115, 0.23229257103539203, 0.22677101474604539, 0.20915689890748887, 0.23930665160067174, 0.20561887820982172, 0.2167254477550308, 0.2246316825548333, 0.1951447209746189, 0.19290242941584138, 0.18924769925900792, 0.18694200166705593, 0.18655587119262912, 0.21724139224965666, 0.2826423334119858, 0.17854474537132636, 0.18886508289713325, 0.24721274173365237, 0.2865078897933777, 0.17161293367283637, 0.24906141816883118, 0.6358697463485984, 0.4302374424085935, 0.28148163207792176, 1.9545868707670304, 0.2503117829088364, 0.4050957579535567, 0.2594770333269284, 0.26871847316244274, 0.4183803760156182, 0.24948388016784467, 0.2777277364974961, 0.3999782305536238, 0.2379149958988967, 1.1433033872090907, 0.67806112756845, 0.5297883510451858, 1.2861135997094095, 0.26310696624233626, 0.24897954857503182, 0.3729760480708902, 0.1937962443570074, 0.219519489946871, 0.19053117017060947, 0.1842074868939025, 0.17880682328373135, 0.17311578480528053, 0.18799437193268817, 0.1971228227135122, 0.281028808018782, 0.21693993933466313, 0.16379881903777216, 0.16290865967645712, 0.17665566749844283, 0.1570066863342917, 0.22446550329394327, 0.17432481626175808, 0.1517357838582006, 0.14760999618077164, 0.16460202358876438, 0.15951878459187693, 0.14611987852707417, 0.17751595049241198, 0.14389818351279576, 0.21777193277003004, 0.18169724721863675, 0.17259190720552167, 0.2408037250700186, 0.2541287201171398, 0.20906103033451165, 0.22454795038509828, 0.18493463984945455, 0.20282342136211923, 0.2487159480688314, 0.18998314820569231, 0.18547610684636878, 0.19677523295769359, 0.1777098084189752, 0.6390336738221267, 0.6627061830119483, 0.41946161593476544, 0.41946161593476544, 0.36821069995569405, 0.5069545314683641, 0.35814831010072123, 0.5742975164329351, 0.3138082583022644, 0.35167308771870276, 0.35167308771870276, 0.29007130590757657, 0.4858315001510503, 0.2781717646857608, 0.26276914546232083, 0.2509202624236063, 0.240536223604902, 0.2939060470831284, 0.22166581589815726, 0.24546364983083463, 0.23222590126912138, 0.20420874093970115, 0.20047950637091336, 0.1928831664065544, 0.1924765161156129, 0.30114537044629947, 0.30114537044629947, 0.18645048712991438, 0.22933906939839005, 0.18316152526934854, 0.21993618954481697, 0.592653529076212, 0.24075618006364188, 0.3059433620990716, 0.31406135230499355, 0.23103308544794948, 0.3077216282162486, 0.26901091470076927, 0.24398194683566268, 0.27392448809603204, 0.25463958621181604, 1.031100236352156, 0.38285274659140833, 0.310470325529912, 0.32769132586999195, 0.32769132586999195, 0.31568568082572146, 0.6433545769655896, 0.20621656877310204, 0.20688797497525646, 0.17188232864305433, 0.1717192698341043, 0.18130016361414047, 0.15671250457578384, 0.149034567751216, 0.1473728516116688, 0.29318552586083363, 0.16231625271864283, 0.14430391972679452, 0.21871927824117857, 0.15114082787530495, 0.16624664144328583, 0.13952993048293488, 0.14781786443194028, 0.13598477757812374, 0.17144528655617153, 0.14429689870315135, 0.14552899670400143, 0.13179069696224946, 0.13034111155605588, 0.12988687704270863, 0.18217905809159984, 0.14690766296364824, 0.33762166760082096, 0.330732704357235, 0.19177199974338308, 0.19183712101092604, 0.18261583743183918, 0.1611674876764157, 0.16066969628944608, 0.25284760276750495, 0.16949533610869438, 0.17161271944265516, 0.20416666778770415, 0.1652250741386651, 0.40762156197903365, 0.7927603847575814, 0.3517299748643298, 0.322605960255472, 0.2938711911270549, 0.319703301365857, 0.6472210841218844, 0.28390189680718564, 0.40190459271489887, 0.41982235652148725, 0.853626055582309, 0.23754901550579327, 0.20735598356916726, 0.20542378516937376, 0.2030912698774084, 0.21000066881266988, 0.19662815600758318, 0.17974647938974986, 0.17467598444711366, 0.16658724642444067, 0.16633628293158406, 0.16632025253303828, 0.16557638278505293, 0.21106610492035685, 0.16189494530713797, 0.15753900159814024, 0.15452679885200724, 0.15040514293856122, 0.33454563797767356, 0.16494547522294353, 0.1996882723193246, 0.18171486694679212, 0.19725067664686252, 0.20961483678953088, 0.1875801079902703, 0.18942319641548805, 0.25457399980185863, 0.17355305178102318, 0.17357927445426016, 0.30372699163184663, 0.25792679242666694, 0.174419373676027, 0.1704882430408864, 0.15955462893151326, 0.15788424282048552, 0.16265347763338897, 0.15076418014338552, 0.14313439639632164, 0.14099221136203538, 0.22745775133404258, 0.14179872619815753, 0.13638816566676734, 0.1342886966261983, 0.13343033941513605, 0.13090905437944167, 0.14319863011002, 0.12785736362709546, 0.12752463042810894, 0.12705752246999827, 0.12703821575770183, 0.1268249434100742, 0.23415558339013554, 0.12299276178804551, 0.12229486558154688, 0.12199126786745187, 0.12183854116082245, 0.1214089072226318, 0.1333732236490826, 0.13034010796275203, 0.141539586691643, 0.17196610529428694, 0.17113006335791853, 0.1560591272805851, 0.16830425206330235, 0.15934512377305268, 0.13778642814688202, 0.13725093461834467, 0.14788050271596537, 0.14534411329921226, 0.13701475157789744, 0.1376872806981819, 0.14692017895754497, 0.14078834422957281, 0.13764863339922323, 0.14078898699209597, 0.8104336199867768, 0.32821978345171987, 0.2768246953847016, 0.20896681118198576, 0.1703175798900061, 0.1589972401633505, 0.1580700325982606, 0.15725270276879205, 0.1729323800044198, 0.14871949755600833, 0.14664677695366407, 0.17664363413359316, 0.1426530877195514, 0.14030284189139236, 0.13989269280411187, 0.16573186565606554, 0.13597164466168477, 0.13585671601267868, 0.1586106779862236, 0.13526301536698018, 0.12528710526755021, 0.12176412722669133, 0.119120612898305, 0.11898870209381915, 0.14579199571299123, 0.15832025761113172, 0.11626090409907218, 0.12613399602284386, 0.12147243214096977, 0.25263936876243265, 0.1644024001640261, 0.1345512749427103, 0.15585806626651613, 0.14260773339531752, 0.18556334230578445, 0.1682360123654012, 0.1618907437499123, 0.21335987636645704, 0.1666127273694019, 0.16723387837493517, 0.1608940871042313, 0.1521418873684812, 0.16769506157901648, 0.1674056436791678, 0.15273276821158638, 0.14876287330875526, 0.38299636604894943, 0.5388648965253922, 0.2559989790968203, 0.2389339165703521, 0.18562314713740202, 0.20628871643437469, 0.1707106280982678, 0.16452299595350867, 0.1497374462009495, 0.14555733796572518, 0.14321204337308882, 0.14787538493207072, 0.21319512196102802, 0.13716257755499148, 0.15025779938557796, 0.12431244323110367, 0.12342456983350283, 0.12181797839851335, 0.14896844218884428, 0.13863117937515107, 0.11989803190463445, 0.1193209631009976, 0.11906422720902796, 0.1703801462715701, 0.11557865928493002, 0.14791430649412532, 0.11454063819950007, 0.13381848055919227, 0.1216540330613038, 0.12169828523318872, 0.15669001231041937, 0.2584539646871287, 0.17792724943318783, 0.20849142036148807, 0.1436358181850085, 0.14873179601395808, 0.19201054529618022, 0.18181881056881782, 0.15774751504837464, 0.15774898145054045, 0.17938220869582855, 0.13970940776686097, 0.1415692020094338, 0.14145903527641968, 0.5256590124525643, 0.301174880453775, 0.27835876583977176, 0.25577961297864793, 0.18882391550791855, 0.19923080434144547, 0.2930025128440238, 0.16622661790239754, 0.3140575588901122, 0.1590027894189042, 0.1535743963534178, 0.2156004697652909, 0.14610854298179848, 0.18003210411659978, 0.18003210411659978, 0.15468474601053847, 0.1382761829272904, 0.1372517152299801, 0.1343086103939897, 0.13221946730998704, 0.13056967130066396, 0.13001628648123356, 0.1294777806525582, 0.12459672787507742, 0.12150732367516741, 0.12140122552466444, 0.12127853483992429, 0.12102887505726959, 0.14583205595437854, 0.14583205595437854, 0.25063814853088523, 0.19309282921333257, 0.1629851867122276, 0.14075148795787296, 0.17702198934900235, 0.14653546973213438, 0.20958777659065245, 0.1430357853359407, 0.16084897584891011, 0.1695456451771143, 0.16430199886743482, 0.1638560284193527, 0.1918808227369288, 0.17159311982412617, 0.16484238344002833, 0.14928951774496727, 0.14651953138711282, 0.22911411975728846, 0.22771955974426597, 0.400160894474844, 0.17773690555804078, 0.5807346357924269, 0.17817858842844514, 0.1869897958918073, 0.16054445247745638, 0.15909030612505703, 0.1565292437258512, 0.1527244920850917, 0.15209589839489704, 0.15360921453981916, 0.2455535516866582, 0.17477497410024528, 0.14770558855307103, 0.1447347919351565, 0.14371450396397012, 0.18912238991397212, 0.13916627586254515, 0.296442803280369, 0.13486376127546842, 0.13485287126146908, 0.13357225299653883, 0.13246974512164275, 0.16504223776097193, 0.21772630932127332, 0.15504841196777042, 0.12660555672644935, 0.14921290812851865, 0.15649421808930175, 0.3352396871826068, 0.17332939194270103, 0.1485008336582365, 0.20496133693061497, 0.18781182677962574, 0.18967242846628263, 0.17867457981340595, 0.1539058082720761, 0.16424663549393145, 0.15969371616726522, 0.2954063769015679, 0.18694850254324608, 0.25400970990284627, 0.15397569103875028, 0.15021010361896045, 0.1432227100409008, 0.16927554321530763, 0.14866400657951523, 0.13678258849761882, 0.13205621435416023, 0.13123039654067747, 0.12803497943658845, 0.12734487240889994, 0.17999565396003253, 0.13838619215833006, 0.5489819829622378, 0.1283435183900219, 0.15389205254215224, 0.1282666218752906, 0.15112009678002125, 0.1639766897097442, 0.13056677531719021, 0.12083798062003301, 0.12023192155444741, 0.12007890243384518, 0.1589751660525354, 0.18759194972077173, 0.13205313400445018, 0.12205605522923527, 0.11578906514577636, 0.12495410049633625, 0.16050701441063836, 0.1424506338693427, 0.14206060455677869, 0.13752072040210728, 0.13847454787104282, 0.13813475891476423, 0.14690597829415097, 0.17318759785283994, 0.1640096992514469, 0.14393281801393462, 0.19275293590983772, 0.14034448828589546, 0.2748868582944813, 0.2920992045144442, 0.1894103891118566, 0.16805993197177194, 0.16437260798846712, 0.16306178515215025, 0.15875594911458804, 0.16404555268231152, 0.15309433661233032, 0.20033936441508504, 0.1489189668504898, 0.14586396645153102, 0.18364643877462436, 0.14461925819112473, 0.14318869927386954, 0.14157322486473284, 0.13894789016050016, 0.13774777457273235, 0.13772168187821954, 0.13616738797048472, 0.17338612140160053, 0.1345320057498095, 0.14017079260477738, 0.1296809882900558, 0.14891379901930024, 0.1280144171621151, 0.1278543561569694, 0.1272480806470608, 0.12698383555611756, 0.16049003821739805, 0.20822117628886613, 0.2962212729958794, 0.18804454688374758, 0.1527377815592943, 0.18265844866280484, 0.27989638870570493, 0.18605305491127175, 0.16582653599235678, 0.14687735035154187, 0.1577382878481033, 0.1845774077270051, 0.15703702952560442, 0.16719448022910424, 0.15096660073686433, 0.2672195986952438, 0.2712579268990371, 0.20171212194302515, 0.1535148520705568, 0.23023041212786177, 0.15154660504910722, 0.15089510219592445, 0.14763311864990117, 0.17388296283315277, 0.1447978169293954, 0.15432606793351236, 0.1398650729056007, 0.13882083313236737, 0.13563063402038614, 0.13557599966802733, 0.12347908650763312, 0.1234439873095481, 0.1207244750821744, 0.11935688461787101, 0.13145666365553604, 0.1225356808863844, 0.11724175626509444, 0.1171778801832456, 0.12594460073667033, 0.13422719826564, 0.1148662735289893, 0.11213206292483495, 0.12114885651438505, 0.13354676389515419, 0.11134091708553226, 0.15496881196168943, 0.12836809873746127, 0.12041391307451564, 0.17479046220842828, 0.20544018140977854, 0.15893611317515363, 0.17899507294333444, 0.15429505652737724, 0.1413596232501284, 0.19297425524841094, 0.14479078896006575, 0.12911729731402752, 0.1288407694107858], \"Total\": [40.0, 32.0, 33.0, 10.0, 10.0, 14.0, 10.0, 11.0, 12.0, 14.0, 6.0, 11.0, 231.0, 199.0, 7.0, 7.0, 4.0, 5.0, 25.0, 5.0, 7.0, 4.0, 7.0, 3.0, 2.0, 7.0, 11.0, 154.0, 6.0, 6.0, 231.30332297632404, 199.61601030882576, 154.36154014307496, 143.27732342268297, 138.0015735113386, 132.24415878701205, 120.44687852155994, 113.09170779983958, 111.52571170702588, 109.12678610677301, 107.82353342632355, 107.15289853407046, 103.9715323120491, 98.25185158130547, 97.9128074095708, 96.05979340682063, 92.11973572172462, 86.14030150953435, 86.05026033513103, 84.83169310185843, 84.57105133267429, 84.50813802534506, 83.96298059175182, 82.8134479296164, 82.21731386893372, 78.65942681536137, 78.16101465734216, 77.80157314093795, 75.02219238411769, 73.29450430760689, 1.7045880489777887, 1.6873712257896252, 1.2827093140534427, 1.5319664976446272, 6.98509771937704, 1.4131067449911974, 1.237431923307928, 1.3839729096995124, 1.1148949392483682, 1.447324633532098, 1.367970630441019, 1.1581897549659748, 1.0801078151899073, 1.28339833390577, 0.9550504340647129, 1.0485024768380922, 1.484489773741191, 0.9709664663781993, 1.4844855006653348, 4.6936064902683, 1.0140480208896634, 0.8861526436863058, 0.8629529140789007, 0.85926569275052, 0.85926569275052, 0.85926569275052, 0.8526341079790746, 0.8516723905505743, 1.8764703213468752, 1.0659345867404821, 10.968515664083288, 1.1206171111552912, 1.179254845670914, 40.552235050187704, 2.681338664610415, 1.4880538251813469, 3.6294786864435604, 2.604631225942678, 1.8203651394932177, 1.543337027395064, 10.34577041834159, 1.77785040372615, 1.8231041129592167, 1.7003203571420302, 11.880473930375407, 32.698135670954215, 4.458813145840932, 2.8617156207859256, 14.99939214722195, 2.6110961860197084, 12.83983680998631, 5.432537231961634, 33.54491636539788, 14.983163115394863, 3.2159022049667514, 2.8508634818742635, 1.6958833202575125, 1.6958833202575125, 1.6182074568343894, 1.567902501208621, 1.5119568309356874, 1.4190146027219521, 1.666557899784771, 1.5779265485642506, 1.28450933623456, 1.252545391664575, 1.230448817018841, 1.3739688203009608, 1.0712239559746881, 1.0402984511858282, 1.1750939638555011, 2.042515641985009, 0.8198088178466871, 1.485021383431463, 0.8101498570458233, 0.9670280176861827, 1.2974524388701607, 0.7266304790154642, 0.7266304790154642, 0.7043647485704015, 1.0986759987315817, 0.7985982313036682, 0.8054057964130215, 0.9322132243923501, 0.7165641027325024, 0.9329441691789457, 1.0873028767243724, 1.090725276778639, 1.100664746526448, 5.480320049297286, 1.5576553504640775, 7.5387872572239045, 1.3310079697838775, 0.8980905428240035, 1.296460113308067, 0.8752980442307009, 0.6817009962020802, 0.6416522799376863, 0.643539396312287, 0.9413960452957111, 0.6523199059605176, 0.7588022664233641, 0.5417107477050872, 0.5406632487027773, 0.5311962904287548, 0.5277487021385783, 1.149908667385483, 0.5147758241578326, 0.5490773895607065, 0.6305294940990795, 0.5413503935271099, 0.5579463675283755, 0.8754098638570771, 1.1614692558231434, 0.6247528584665146, 0.7028721004614057, 0.539670861815215, 0.48598599821713095, 0.48598599821713095, 1.147760115971011, 0.4895742917273024, 0.5288129976514626, 1.0343104233428075, 0.6382807792657367, 1.5598716156055297, 3.0441260056694928, 1.0481953684646905, 2.2704348579489038, 0.7658013774301133, 1.4125244356609197, 0.7953476938170847, 0.7265333811453565, 1.0047445239581716, 7.724221063946816, 1.711767910524771, 1.084362875313898, 1.1959842128709108, 1.3300392212422951, 0.6554030292094307, 0.8346069235591103, 1.4034875425756865, 0.5672188074371094, 0.5658629134505225, 0.5847784535570881, 0.527071880415734, 0.5445387220788792, 0.5124646339388182, 0.5840737942999746, 0.5411239053347214, 0.6294794835881586, 0.9415979840609843, 0.5112307047065133, 0.564333438126969, 0.49641011664556584, 0.49641011664556584, 0.49091646147689616, 0.48793716895388184, 0.5019802486251992, 0.4708146097730304, 0.4708146097730304, 0.4700932079634872, 0.46015046164089196, 0.531114145425491, 0.4970296720182248, 0.4527377989115983, 0.7099934378089523, 1.6213087481263124, 0.6060809945866515, 0.7713618499143962, 0.7797273904475448, 1.77785040372615, 1.9543722050073398, 0.6795458726729192, 0.6869219023474717, 0.8272183131389699, 1.4423477059348195, 1.191551607013697, 0.897591061562157, 1.171942212224018, 0.9744182498855674, 1.3026856950472236, 0.9785350332280708, 0.6287911500859985, 1.457629329077477, 0.6133233660615094, 0.808895862618931, 0.6023226485156216, 0.6023226485156216, 0.6431022127965237, 0.5922940989224408, 0.7843165120235316, 0.5951906394604984, 0.5553927120402261, 0.6235016951453725, 0.6548953593782348, 0.5335120488876074, 0.5461779274693863, 0.6951940387388178, 0.5340701496331677, 0.5197959650773906, 0.7401745196734216, 0.7776666670912702, 0.8077536129198525, 0.5353977703663039, 0.4748096312389877, 0.8277576004721044, 0.966578862872201, 0.8829815034071706, 0.6717127583902957, 0.7326579940526116, 0.790778510960376, 2.0151294049785813, 1.4025767684083594, 0.66342067142553, 0.5346048224272487, 1.2751322457804088, 0.5024186254055347, 0.49868886975586846, 0.522911930608493, 0.4522702662892376, 0.4486188737880656, 0.6268075865061151, 0.4408762625727829, 0.5052256575500618, 0.47880091493457483, 0.6768659449889404, 0.5640661357660909, 0.42874329181629234, 0.42721641156982615, 0.42034296440025326, 0.50249757833728, 0.41445810641738595, 0.41441832041757853, 0.47510749072600655, 0.47510749072600655, 0.41361013152792847, 0.5341720991664111, 0.799851634941293, 0.40024612948166005, 0.39933703850307645, 0.3965620784525453, 0.5790763171979777, 0.53033944057253, 0.6368000588639618, 1.101579804495212, 0.855017411440706, 0.6399996831473217, 1.5572413564864607, 0.8142111587536633, 0.7558984243600151, 0.7272461706034737, 0.6234740782945084, 3.0441260056694928, 0.6670442089387321, 1.233854555276478, 0.8494410811625048, 1.4696183512390228, 1.3589742279453951, 0.7630736364504342, 0.5798121446640654, 0.6008682934048475, 0.5649693062302709, 0.5363397817271935, 0.5389761634956017, 1.7745530607942757, 0.4810204633606973, 0.4749061537862243, 0.44256465031554654, 1.0683294549888032, 0.4336894903525318, 0.47252910794190783, 0.4870936215839405, 0.4232728215425806, 0.43458331025552843, 0.9308810270545866, 0.4176249338127933, 0.416725043466636, 0.4142810479664354, 0.4142810479664354, 0.41272223949927256, 0.4613316479971679, 0.41069080962938614, 0.40065321651547453, 0.3985002169529225, 0.6886784299907621, 0.7740073734343101, 1.4805416164632945, 0.9123520361713164, 0.6092666289672303, 0.6186992798206941, 0.5909119910985333, 0.505695129995901, 0.7570471014541608, 1.756634440729052, 1.5572413564864607, 0.7540116993942765, 0.7650858679602389, 1.561831267048778, 0.8545350156017926, 0.6703935585986666, 0.5520982348917001, 1.2093448486363196, 0.4619189523975234, 0.44380259103571107, 0.4420186070523443, 0.4772437482584191, 0.4380502423845536, 0.5803730869543432, 0.4349440335944848, 0.4327996308464851, 0.624384607043164, 0.6685859644292899, 0.7227530882940782, 0.5349096149580244, 0.5018571598003047, 0.8150158843960128, 0.48453711933416255, 0.7800335554192964, 0.4154461380448739, 0.4129492536836814, 0.4128361006403888, 0.43291727670540264, 0.4074331909077799, 0.4072528703164809, 0.4064656840609566, 0.40357625044898915, 0.40047967532047873, 0.6847712151156733, 0.9301638050177725, 0.7294710978232432, 0.7650858679602389, 0.4812756919886261, 0.6904134331253364, 0.5265045080407094, 0.8560860680409074, 0.6655169811757536, 1.0081905102696778, 1.147760115971011, 0.866674472445711, 1.3972233455263108, 1.4467910372946329, 0.759269921748721, 0.7153507477713826, 0.6964982091423976, 0.6446929977774009, 0.6181869140370337, 0.5637419165986263, 0.5891054364431454, 0.5034035624864506, 0.4955043250990757, 0.47604489719703924, 0.4705233427334894, 0.45290922541925893, 0.5195159134969366, 0.4493712041519185, 0.4783093193634186, 0.5027349205609131, 0.4388970469668237, 0.4366547554356991, 0.4330000251642909, 0.43069432758981274, 0.4303081971043007, 0.5044057579018557, 0.6660071390733832, 0.4222970712870941, 0.4472340989239509, 0.5874822837239136, 0.689332366405658, 0.4153652596624081, 0.6077608682095516, 1.622999177508672, 1.1715667349475172, 0.7421137661452524, 10.695027226805838, 0.6614346063349685, 1.4849225841240623, 0.7362131912269059, 0.8327025078588234, 3.109090282010818, 0.7705044415750208, 1.0862181183662187, 11.615237581583388, 0.758573708555259, 1.3871212048255477, 1.12298930609432, 0.8999764572640186, 2.2704348579489038, 0.5069247853202049, 0.49279736583157824, 0.7887019230837672, 0.4376140618578758, 0.4965820697675362, 0.44263389757675176, 0.4280253041128584, 0.4226318824768138, 0.41693360205299074, 0.4531931987699622, 0.484503578646038, 0.6938483669645601, 0.5373704532564142, 0.4076166362628899, 0.40672647703303383, 0.4430215342813717, 0.4008245036877769, 0.5756990841678368, 0.44724998922523995, 0.39555360121958666, 0.3914278133995917, 0.4366462262311054, 0.4238448667204523, 0.3899376967107335, 0.4761381540746517, 0.3877160008527623, 0.5952844231637362, 0.4944322583517501, 0.47303701500222256, 0.7198014756406182, 0.8079271362994955, 0.6311229113936567, 0.7152655243119895, 0.5391408914953156, 0.6965271955128408, 1.5598716156055297, 0.6950418278159513, 0.6196038537073302, 1.3466534567907384, 0.5552870670389162, 0.8830347600277775, 0.9263991244679424, 0.6634627004585534, 0.6634627004585534, 0.6122117846011285, 0.8514454841820013, 0.6021493934827385, 0.9837414564058172, 0.5578093408387378, 0.6426804369122664, 0.6426804369122664, 0.5340723881319784, 0.8959751718503431, 0.5221728648176088, 0.516695090952835, 0.4949213467800718, 0.49376105110238033, 0.6089816375932902, 0.4656668977476109, 0.5259277297081623, 0.5059601168226929, 0.4482098239427987, 0.44448058842241195, 0.43688424826928035, 0.436477599389415, 0.6938988504837404, 0.6938988504837404, 0.4304515690053148, 0.5324204803366243, 0.4271626088783441, 0.5191319289283071, 1.530301588077501, 0.5793754423104068, 0.7800267159963978, 1.0862181183662187, 0.6078032446223056, 1.3192885136889598, 1.0025449935929742, 0.7278348620632067, 1.9133859224314098, 1.8553387502857617, 1.6515319444947576, 0.6270261850957098, 0.572787202291637, 0.6288435168638674, 0.6288435168638674, 0.6617706330176926, 1.3547501845769152, 0.462062018567056, 0.4768642855084457, 0.41605576710122627, 0.4158927082609264, 0.44348417938318796, 0.4008859430476235, 0.3932080061301291, 0.3915462900584977, 0.7790752621809053, 0.4318813168818677, 0.38847735817749757, 0.5907604455082057, 0.4107860531936975, 0.4558323709447859, 0.38370337248316844, 0.40936433210214174, 0.38015821608880873, 0.48535049541213116, 0.41049479491972357, 0.41488931669265333, 0.3759641356862598, 0.37451454998039685, 0.37406031545568474, 0.5256187369701847, 0.42326629979041386, 1.003079755621547, 1.016278621277363, 0.593634395189745, 0.6022201445025238, 0.567588384903018, 0.4824058175294857, 0.48626996725350763, 1.3243204736105365, 0.5820508594490799, 0.6212556672457311, 1.4282054291224864, 0.7900274284541868, 0.6771797908769965, 1.363728703151539, 0.6173191068797413, 0.566898484018275, 0.5381636791443889, 0.5914510388186369, 1.2036480077145757, 0.5281943831335957, 0.7711549231373596, 0.8122596315256133, 1.6661333729688954, 0.48184150181261687, 0.45164846989252994, 0.44971627212789056, 0.447383757504634, 0.4708771989094673, 0.46210434363333724, 0.43035420022737325, 0.4189684707211904, 0.41087973273120226, 0.4106287692155308, 0.4106127849341099, 0.40986886911754233, 0.525559821938352, 0.4061874318427238, 0.4018314883491806, 0.3988192852365836, 0.39469763099534233, 0.8807889634665436, 0.43454020416290445, 0.5346158616727744, 0.48914889774272374, 0.5671446147215763, 0.6700799854609163, 0.5571856931051992, 0.6556924847493102, 3.0441260056694928, 0.5569426749252587, 0.7611991706948541, 0.5483959602436647, 0.5156639436592958, 0.4190883419006175, 0.4151572112674514, 0.40422359719422524, 0.40255321107032505, 0.4180115136353521, 0.39543314840489546, 0.3878033649191381, 0.38566117971194613, 0.6254361423272331, 0.39535796261628686, 0.3810571339600964, 0.3789576648496456, 0.378099307647429, 0.37557802263715256, 0.41625598052491714, 0.37252633190246187, 0.3721935986517123, 0.3717264907952917, 0.37170718397955627, 0.37149391168682344, 0.6982077317795056, 0.3676617301020743, 0.3669638368697173, 0.3666602361168598, 0.36650750947398986, 0.3660778754704486, 0.40232805695520235, 0.39402684194508125, 0.4375131866708176, 0.5834410990914952, 0.6144444531388841, 0.5657450584893308, 0.689332366405658, 0.6290624198996392, 0.4865605435402062, 0.4880443247655711, 0.6615323489469114, 0.6810779945061978, 0.5161117126584293, 0.5522677254786726, 1.0159800935517622, 0.8000610459832144, 0.5918193175967138, 1.1873950885115063, 1.230645597475387, 0.5730593953615669, 0.5765587856795342, 0.4983353821709368, 0.4151571917678284, 0.4038368520671325, 0.40290964449930344, 0.402092314677072, 0.443750445674597, 0.39355910946091055, 0.39148638885088344, 0.47859690161450463, 0.3874926996086753, 0.385142453827314, 0.384732304715166, 0.46303544899944116, 0.3808112565963169, 0.38069632794163694, 0.45908870551480496, 0.3986264072058495, 0.37012671721724383, 0.36660373916100286, 0.3639602248225342, 0.36382831413049643, 0.4473982685340059, 0.49020518592170315, 0.36110052560280786, 0.39319912647298283, 0.38112841542637754, 0.8218971156713795, 0.6122151268550696, 0.45102692836205505, 0.5779148137830145, 0.5053018023999635, 0.8620866701797352, 0.7109803065465532, 0.6887873261562779, 1.363728703151539, 0.7664772976123733, 0.8079271362994955, 0.7574980569893096, 0.6375231095486046, 1.1614692558231434, 1.1663079242366639, 0.7167389121399326, 1.485021383431463, 0.7151928407510391, 1.0575607035143966, 0.5033908038002491, 0.5490252480174713, 0.43057908006081785, 0.49385822102013793, 0.41566691407144496, 0.4224995013031235, 0.39469337913744756, 0.3905132708961638, 0.39856155628219203, 0.41810220649188995, 0.6057745902134547, 0.3941161668920277, 0.43471753100828336, 0.3692683762006283, 0.36838050286689344, 0.3667739113806398, 0.4500112242111108, 0.4202434046205166, 0.3648539648961624, 0.36427689621932496, 0.3640201601998198, 0.523797770312984, 0.3605345922824105, 0.4638581307390233, 0.35949657138108143, 0.42473635107324686, 0.3865712564363342, 0.3872594454182692, 0.5049637448062625, 0.9132452084801223, 0.5967201882254987, 0.7176731823861705, 0.48660519738758445, 0.5277683597435262, 0.8413421269253195, 0.7826386472158476, 0.6092666289672303, 0.6514788812086766, 0.988739563580334, 0.511968509364836, 0.659591177715119, 1.3547501845769152, 0.8737859264019328, 0.5461541021484583, 0.5233379873143774, 0.500758834755665, 0.4338031381113788, 0.4784516581603269, 0.7112237962278692, 0.41120583935180005, 0.7908446015335722, 0.403982010880867, 0.39855361781506266, 0.5646053776733959, 0.3910877644798949, 0.48999079387990774, 0.48999079387990774, 0.4268879894858289, 0.3832554052840484, 0.3822309366585913, 0.37928783185317333, 0.3771986887641963, 0.3755488928048865, 0.37499550807952803, 0.3744570022503625, 0.3695759493322495, 0.36648873588664466, 0.3663804470080289, 0.36625775629945934, 0.36600809660051986, 0.44301445029767983, 0.44301445029767983, 0.7790752621809053, 0.6250889988217051, 0.5147156994824073, 0.4405428784259889, 0.5982021138869588, 0.4672314205008589, 0.8601705516824725, 0.4546917497608392, 0.5929958658547342, 0.7181260716393687, 0.7084214163247226, 0.7468723289673279, 1.370505377541189, 0.9728885326468322, 3.0441260056694928, 0.9563678329102596, 0.6854148311435463, 0.4741227276059098, 0.4727281692108522, 0.9130894956843209, 0.42274551340556865, 1.4125244356609197, 0.43576197372463493, 0.4599976091415982, 0.40555306034503, 0.40409891398092346, 0.40153785161430816, 0.3977330999101659, 0.39710450623454085, 0.4042612518587442, 0.6481325049285619, 0.4623493949856137, 0.39271419640507366, 0.38974339977982153, 0.38872311182501246, 0.5153867610799955, 0.3841748837338677, 0.8295008998390034, 0.3798723691465039, 0.3798614790927004, 0.37858086086654064, 0.3774783529658283, 0.473102034191088, 0.6264793772781462, 0.4474443324586725, 0.3716141646142962, 0.44934998387186853, 0.47187310137234734, 2.0999830453049917, 0.6586472403421543, 0.4773506196907797, 1.4726729674264607, 1.110177134241591, 1.370505377541189, 1.0671787887765027, 0.6094054237128335, 1.0159800935517622, 0.939063059233799, 0.6728369138091678, 0.43197384721958104, 0.6318243350328131, 0.3990010356560894, 0.3952354488257895, 0.38824805465781376, 0.46489461569907686, 0.40926204490680157, 0.38180793315996586, 0.3770815590810395, 0.3762557411866136, 0.3730603240232477, 0.37237021699175704, 0.5298129059033724, 0.4075818494599663, 1.6213087481263124, 0.3798633572773798, 0.45782741875839456, 0.38321246055137115, 0.4546684756761822, 0.49386195345976225, 0.39428098819473884, 0.36586332522920634, 0.36525726617847964, 0.3651042471661293, 0.4835590423565236, 0.5706896793669609, 0.40185640124659877, 0.375687162067562, 0.3608144098834686, 0.39258444850800717, 0.5190515671002673, 0.4728117905648831, 0.47788288121680716, 0.45639330401960765, 0.5045296408037957, 0.5057996113218128, 0.6524386736599401, 1.2768443790455226, 1.0671787887765027, 0.6425237562132639, 3.0441260056694928, 0.5809289460349277, 0.519915007852748, 0.5575177100187378, 0.4445154130426811, 0.4130880814688606, 0.4094007574708596, 0.40808993463506504, 0.4037840985708294, 0.42163571493172164, 0.3981224862827075, 0.5225887056203561, 0.39394711630538526, 0.3908921159497356, 0.493813277890316, 0.38964740767922124, 0.38821684886673347, 0.38660137440313685, 0.38397604048686107, 0.3827759240623379, 0.38274983164626797, 0.381195537442657, 0.4859781253023398, 0.37956015525671394, 0.4023957555153911, 0.37470913822786905, 0.43354669989402694, 0.3730425666684662, 0.3728825056258369, 0.3722762303715641, 0.3720119850498229, 0.4718009381689079, 0.622548551025454, 0.9078830207993738, 0.6311805743695639, 0.4805916347164207, 0.6440269282426095, 1.294664259093012, 0.6883327641939184, 0.6188825856211224, 0.4725303515012037, 0.6230857576391995, 1.6716898214814655, 0.780459925062859, 3.496638354794913, 0.9227178162402744, 0.5124293144150671, 0.5299151120209985, 0.46415000331925704, 0.3987245677899801, 0.6017204567294788, 0.3967563208245688, 0.396104817973478, 0.39284283457106284, 0.4649287249267119, 0.39000753268317556, 0.42162156229442216, 0.38507478866473976, 0.3840305489276653, 0.3808403497797431, 0.3807857154357748, 0.36868880229596923, 0.36865370313560647, 0.36593419086192447, 0.3645666005223941, 0.40167217323669346, 0.3752170531293869, 0.3624514845571123, 0.36238759611406074, 0.39532613324633603, 0.42441360610579215, 0.3651824625080953, 0.357341778699571, 0.38607748910580497, 0.4259483907083654, 0.356550632924319, 0.5077692808388554, 0.41792945499154766, 0.38842941293461813, 0.639277482191102, 0.7969493423908536, 0.565623181218672, 0.6940677785860443, 0.5535356007565274, 0.5343673007849842, 1.1789231845977843, 0.8218971156713795, 0.4783067654183547, 0.7241927020250417], \"Category\": [\"Default\", \"Default\", \"Default\", \"Default\", \"Default\", \"Default\", \"Default\", \"Default\", \"Default\", \"Default\", \"Default\", \"Default\", \"Default\", \"Default\", \"Default\", \"Default\", \"Default\", \"Default\", \"Default\", \"Default\", \"Default\", \"Default\", \"Default\", \"Default\", \"Default\", \"Default\", \"Default\", \"Default\", \"Default\", \"Default\", \"Topic1\", \"Topic1\", \"Topic1\", \"Topic1\", \"Topic1\", \"Topic1\", \"Topic1\", \"Topic1\", \"Topic1\", \"Topic1\", \"Topic1\", \"Topic1\", \"Topic1\", \"Topic1\", \"Topic1\", \"Topic1\", \"Topic1\", \"Topic1\", \"Topic1\", \"Topic1\", \"Topic1\", \"Topic1\", \"Topic1\", \"Topic1\", \"Topic1\", \"Topic1\", \"Topic1\", \"Topic1\", \"Topic1\", \"Topic1\", \"Topic2\", \"Topic2\", \"Topic2\", \"Topic2\", \"Topic2\", \"Topic2\", \"Topic2\", \"Topic2\", \"Topic2\", \"Topic2\", \"Topic2\", \"Topic2\", \"Topic2\", \"Topic2\", \"Topic2\", \"Topic2\", \"Topic2\", \"Topic2\", \"Topic2\", \"Topic2\", \"Topic2\", \"Topic2\", \"Topic2\", \"Topic2\", \"Topic2\", \"Topic2\", \"Topic2\", \"Topic2\", \"Topic2\", \"Topic2\", \"Topic2\", \"Topic2\", \"Topic2\", \"Topic2\", \"Topic2\", \"Topic2\", \"Topic2\", \"Topic2\", \"Topic2\", \"Topic2\", \"Topic2\", \"Topic2\", \"Topic2\", \"Topic2\", \"Topic2\", \"Topic2\", \"Topic2\", \"Topic2\", \"Topic2\", \"Topic2\", \"Topic2\", \"Topic2\", \"Topic2\", \"Topic2\", \"Topic2\", \"Topic3\", \"Topic3\", \"Topic3\", \"Topic3\", \"Topic3\", \"Topic3\", \"Topic3\", \"Topic3\", \"Topic3\", \"Topic3\", \"Topic3\", \"Topic3\", \"Topic3\", \"Topic3\", \"Topic3\", \"Topic3\", \"Topic3\", \"Topic3\", \"Topic3\", \"Topic3\", \"Topic3\", \"Topic3\", \"Topic3\", \"Topic3\", \"Topic3\", \"Topic3\", \"Topic3\", \"Topic3\", \"Topic3\", \"Topic3\", \"Topic3\", \"Topic3\", \"Topic3\", \"Topic3\", \"Topic3\", \"Topic3\", \"Topic3\", \"Topic4\", \"Topic4\", \"Topic4\", \"Topic4\", \"Topic4\", \"Topic4\", \"Topic4\", \"Topic4\", \"Topic4\", \"Topic4\", \"Topic4\", \"Topic4\", \"Topic4\", \"Topic4\", \"Topic4\", \"Topic4\", \"Topic4\", \"Topic4\", \"Topic4\", \"Topic4\", \"Topic4\", \"Topic4\", \"Topic4\", \"Topic4\", \"Topic4\", \"Topic4\", \"Topic4\", \"Topic4\", \"Topic4\", \"Topic4\", \"Topic4\", \"Topic4\", \"Topic4\", \"Topic4\", \"Topic4\", \"Topic4\", \"Topic4\", \"Topic4\", \"Topic4\", \"Topic4\", \"Topic4\", \"Topic4\", \"Topic4\", \"Topic5\", \"Topic5\", \"Topic5\", \"Topic5\", \"Topic5\", \"Topic5\", \"Topic5\", \"Topic5\", \"Topic5\", \"Topic5\", \"Topic5\", \"Topic5\", \"Topic5\", \"Topic5\", \"Topic5\", \"Topic5\", \"Topic5\", \"Topic5\", \"Topic5\", \"Topic5\", \"Topic5\", \"Topic5\", \"Topic5\", \"Topic5\", \"Topic5\", \"Topic5\", \"Topic5\", \"Topic5\", \"Topic5\", \"Topic5\", \"Topic5\", \"Topic5\", \"Topic5\", \"Topic5\", \"Topic5\", \"Topic5\", \"Topic5\", \"Topic5\", \"Topic5\", \"Topic5\", \"Topic6\", \"Topic6\", \"Topic6\", \"Topic6\", \"Topic6\", \"Topic6\", \"Topic6\", \"Topic6\", \"Topic6\", \"Topic6\", \"Topic6\", \"Topic6\", \"Topic6\", \"Topic6\", \"Topic6\", \"Topic6\", \"Topic6\", \"Topic6\", \"Topic6\", \"Topic6\", \"Topic6\", \"Topic6\", \"Topic6\", \"Topic6\", \"Topic6\", \"Topic6\", \"Topic6\", \"Topic6\", \"Topic6\", \"Topic6\", \"Topic6\", \"Topic6\", \"Topic6\", \"Topic6\", \"Topic6\", \"Topic6\", \"Topic7\", \"Topic7\", \"Topic7\", \"Topic7\", \"Topic7\", \"Topic7\", \"Topic7\", \"Topic7\", \"Topic7\", \"Topic7\", \"Topic7\", \"Topic7\", \"Topic7\", \"Topic7\", \"Topic7\", \"Topic7\", \"Topic7\", \"Topic7\", \"Topic7\", \"Topic7\", \"Topic7\", \"Topic7\", \"Topic7\", \"Topic7\", \"Topic7\", \"Topic7\", \"Topic7\", \"Topic7\", \"Topic7\", \"Topic7\", \"Topic7\", \"Topic7\", \"Topic7\", \"Topic7\", \"Topic7\", \"Topic7\", \"Topic7\", \"Topic7\", \"Topic7\", \"Topic7\", \"Topic7\", \"Topic7\", \"Topic7\", \"Topic8\", \"Topic8\", \"Topic8\", \"Topic8\", \"Topic8\", \"Topic8\", \"Topic8\", \"Topic8\", \"Topic8\", \"Topic8\", \"Topic8\", \"Topic8\", \"Topic8\", \"Topic8\", \"Topic8\", \"Topic8\", \"Topic8\", \"Topic8\", \"Topic8\", \"Topic8\", \"Topic8\", \"Topic8\", \"Topic8\", \"Topic8\", \"Topic8\", \"Topic8\", \"Topic8\", \"Topic8\", \"Topic8\", \"Topic8\", \"Topic8\", \"Topic8\", \"Topic8\", \"Topic8\", \"Topic8\", \"Topic8\", \"Topic8\", \"Topic8\", \"Topic8\", \"Topic8\", \"Topic8\", \"Topic8\", \"Topic8\", \"Topic9\", \"Topic9\", \"Topic9\", \"Topic9\", \"Topic9\", \"Topic9\", \"Topic9\", \"Topic9\", \"Topic9\", \"Topic9\", \"Topic9\", \"Topic9\", \"Topic9\", \"Topic9\", \"Topic9\", \"Topic9\", \"Topic9\", \"Topic9\", \"Topic9\", \"Topic9\", \"Topic9\", \"Topic9\", \"Topic9\", \"Topic9\", \"Topic9\", \"Topic9\", \"Topic9\", \"Topic9\", \"Topic9\", \"Topic9\", \"Topic9\", \"Topic9\", \"Topic9\", \"Topic9\", \"Topic9\", \"Topic9\", \"Topic9\", \"Topic9\", \"Topic9\", \"Topic9\", \"Topic9\", \"Topic9\", \"Topic10\", \"Topic10\", \"Topic10\", \"Topic10\", \"Topic10\", \"Topic10\", \"Topic10\", \"Topic10\", \"Topic10\", \"Topic10\", \"Topic10\", \"Topic10\", \"Topic10\", \"Topic10\", \"Topic10\", \"Topic10\", \"Topic10\", \"Topic10\", \"Topic10\", \"Topic10\", \"Topic10\", \"Topic10\", \"Topic10\", \"Topic10\", \"Topic10\", \"Topic10\", \"Topic10\", \"Topic10\", \"Topic10\", \"Topic10\", \"Topic10\", \"Topic10\", \"Topic10\", \"Topic10\", \"Topic10\", \"Topic10\", \"Topic10\", \"Topic10\", \"Topic10\", \"Topic10\", \"Topic10\", \"Topic10\", \"Topic10\", \"Topic10\", \"Topic11\", \"Topic11\", \"Topic11\", \"Topic11\", \"Topic11\", \"Topic11\", \"Topic11\", \"Topic11\", \"Topic11\", \"Topic11\", \"Topic11\", \"Topic11\", \"Topic11\", \"Topic11\", \"Topic11\", \"Topic11\", \"Topic11\", \"Topic11\", \"Topic11\", \"Topic11\", \"Topic11\", \"Topic11\", \"Topic11\", \"Topic11\", \"Topic11\", \"Topic11\", \"Topic11\", \"Topic11\", \"Topic11\", \"Topic11\", \"Topic11\", \"Topic11\", \"Topic11\", \"Topic11\", \"Topic11\", \"Topic11\", \"Topic11\", \"Topic11\", \"Topic11\", \"Topic11\", \"Topic11\", \"Topic11\", \"Topic11\", \"Topic11\", \"Topic12\", \"Topic12\", \"Topic12\", \"Topic12\", \"Topic12\", \"Topic12\", \"Topic12\", \"Topic12\", \"Topic12\", \"Topic12\", \"Topic12\", \"Topic12\", \"Topic12\", \"Topic12\", \"Topic12\", \"Topic12\", \"Topic12\", \"Topic12\", \"Topic12\", \"Topic12\", \"Topic12\", \"Topic12\", \"Topic12\", \"Topic12\", \"Topic12\", \"Topic12\", \"Topic12\", \"Topic12\", \"Topic12\", \"Topic12\", \"Topic12\", \"Topic12\", \"Topic12\", \"Topic12\", \"Topic12\", \"Topic12\", \"Topic12\", \"Topic12\", \"Topic12\", \"Topic12\", \"Topic12\", \"Topic13\", \"Topic13\", \"Topic13\", \"Topic13\", \"Topic13\", \"Topic13\", \"Topic13\", \"Topic13\", \"Topic13\", \"Topic13\", \"Topic13\", \"Topic13\", \"Topic13\", \"Topic13\", \"Topic13\", \"Topic13\", \"Topic13\", \"Topic13\", \"Topic13\", \"Topic13\", \"Topic13\", \"Topic13\", \"Topic13\", \"Topic13\", \"Topic13\", \"Topic13\", \"Topic13\", \"Topic13\", \"Topic13\", \"Topic13\", \"Topic13\", \"Topic13\", \"Topic13\", \"Topic13\", \"Topic13\", \"Topic13\", \"Topic13\", \"Topic13\", \"Topic13\", \"Topic13\", \"Topic13\", \"Topic13\", \"Topic13\", \"Topic13\", \"Topic14\", \"Topic14\", \"Topic14\", \"Topic14\", \"Topic14\", \"Topic14\", \"Topic14\", \"Topic14\", \"Topic14\", \"Topic14\", \"Topic14\", \"Topic14\", \"Topic14\", \"Topic14\", \"Topic14\", \"Topic14\", \"Topic14\", \"Topic14\", \"Topic14\", \"Topic14\", \"Topic14\", \"Topic14\", \"Topic14\", \"Topic14\", \"Topic14\", \"Topic14\", \"Topic14\", \"Topic14\", \"Topic14\", \"Topic14\", \"Topic14\", \"Topic14\", \"Topic14\", \"Topic14\", \"Topic14\", \"Topic14\", \"Topic14\", \"Topic14\", \"Topic14\", \"Topic15\", \"Topic15\", \"Topic15\", \"Topic15\", \"Topic15\", \"Topic15\", \"Topic15\", \"Topic15\", \"Topic15\", \"Topic15\", \"Topic15\", \"Topic15\", \"Topic15\", \"Topic15\", \"Topic15\", \"Topic15\", \"Topic15\", \"Topic15\", \"Topic15\", \"Topic15\", \"Topic15\", \"Topic15\", \"Topic15\", \"Topic15\", \"Topic15\", \"Topic15\", \"Topic15\", \"Topic15\", \"Topic15\", \"Topic15\", \"Topic15\", \"Topic15\", \"Topic15\", \"Topic15\", \"Topic15\", \"Topic15\", \"Topic15\", \"Topic15\", \"Topic15\", \"Topic15\", \"Topic15\", \"Topic15\", \"Topic15\", \"Topic15\", \"Topic15\", \"Topic15\", \"Topic16\", \"Topic16\", \"Topic16\", \"Topic16\", \"Topic16\", \"Topic16\", \"Topic16\", \"Topic16\", \"Topic16\", \"Topic16\", \"Topic16\", \"Topic16\", \"Topic16\", \"Topic16\", \"Topic16\", \"Topic16\", \"Topic16\", \"Topic16\", \"Topic16\", \"Topic16\", \"Topic16\", \"Topic16\", \"Topic16\", \"Topic16\", \"Topic16\", \"Topic16\", \"Topic16\", \"Topic16\", \"Topic16\", \"Topic16\", \"Topic16\", \"Topic16\", \"Topic16\", \"Topic16\", \"Topic16\", \"Topic16\", \"Topic16\", \"Topic16\", \"Topic16\", \"Topic16\", \"Topic16\", \"Topic16\", \"Topic16\", \"Topic16\", \"Topic16\", \"Topic16\", \"Topic17\", \"Topic17\", \"Topic17\", \"Topic17\", \"Topic17\", \"Topic17\", \"Topic17\", \"Topic17\", \"Topic17\", \"Topic17\", \"Topic17\", \"Topic17\", \"Topic17\", \"Topic17\", \"Topic17\", \"Topic17\", \"Topic17\", \"Topic17\", \"Topic17\", \"Topic17\", \"Topic17\", \"Topic17\", \"Topic17\", \"Topic17\", \"Topic17\", \"Topic17\", \"Topic17\", \"Topic17\", \"Topic17\", \"Topic17\", \"Topic17\", \"Topic17\", \"Topic17\", \"Topic17\", \"Topic17\", \"Topic17\", \"Topic17\", \"Topic17\", \"Topic17\", \"Topic17\", \"Topic17\", \"Topic17\", \"Topic17\", \"Topic17\", \"Topic18\", \"Topic18\", \"Topic18\", \"Topic18\", \"Topic18\", \"Topic18\", \"Topic18\", \"Topic18\", \"Topic18\", \"Topic18\", \"Topic18\", \"Topic18\", \"Topic18\", \"Topic18\", \"Topic18\", \"Topic18\", \"Topic18\", \"Topic18\", \"Topic18\", \"Topic18\", \"Topic18\", \"Topic18\", \"Topic18\", \"Topic18\", \"Topic18\", \"Topic18\", \"Topic18\", \"Topic18\", \"Topic18\", \"Topic18\", \"Topic18\", \"Topic18\", \"Topic18\", \"Topic18\", \"Topic18\", \"Topic18\", \"Topic18\", \"Topic18\", \"Topic18\", \"Topic18\", \"Topic18\", \"Topic18\", \"Topic18\", \"Topic18\", \"Topic18\", \"Topic18\", \"Topic18\", \"Topic19\", \"Topic19\", \"Topic19\", \"Topic19\", \"Topic19\", \"Topic19\", \"Topic19\", \"Topic19\", \"Topic19\", \"Topic19\", \"Topic19\", \"Topic19\", \"Topic19\", \"Topic19\", \"Topic19\", \"Topic19\", \"Topic19\", \"Topic19\", \"Topic19\", \"Topic19\", \"Topic19\", \"Topic19\", \"Topic19\", \"Topic19\", \"Topic19\", \"Topic19\", \"Topic19\", \"Topic19\", \"Topic19\", \"Topic19\", \"Topic19\", \"Topic19\", \"Topic19\", \"Topic19\", \"Topic19\", \"Topic19\", \"Topic19\", \"Topic19\", \"Topic19\", \"Topic19\", \"Topic19\", \"Topic20\", \"Topic20\", \"Topic20\", \"Topic20\", \"Topic20\", \"Topic20\", \"Topic20\", \"Topic20\", \"Topic20\", \"Topic20\", \"Topic20\", \"Topic20\", \"Topic20\", \"Topic20\", \"Topic20\", \"Topic20\", \"Topic20\", \"Topic20\", \"Topic20\", \"Topic20\", \"Topic20\", \"Topic20\", \"Topic20\", \"Topic20\", \"Topic20\", \"Topic20\", \"Topic20\", \"Topic20\", \"Topic20\", \"Topic20\", \"Topic20\", \"Topic20\", \"Topic20\", \"Topic20\", \"Topic20\", \"Topic20\", \"Topic20\", \"Topic20\", \"Topic20\", \"Topic20\", \"Topic20\", \"Topic20\", \"Topic20\", \"Topic21\", \"Topic21\", \"Topic21\", \"Topic21\", \"Topic21\", \"Topic21\", \"Topic21\", \"Topic21\", \"Topic21\", \"Topic21\", \"Topic21\", \"Topic21\", \"Topic21\", \"Topic21\", \"Topic21\", \"Topic21\", \"Topic21\", \"Topic21\", \"Topic21\", \"Topic21\", \"Topic21\", \"Topic21\", \"Topic21\", \"Topic21\", \"Topic21\", \"Topic21\", \"Topic21\", \"Topic21\", \"Topic21\", \"Topic21\", \"Topic21\", \"Topic21\", \"Topic21\", \"Topic21\", \"Topic21\", \"Topic21\", \"Topic21\", \"Topic21\", \"Topic21\", \"Topic21\", \"Topic21\", \"Topic21\", \"Topic21\", \"Topic21\", \"Topic22\", \"Topic22\", \"Topic22\", \"Topic22\", \"Topic22\", \"Topic22\", \"Topic22\", \"Topic22\", \"Topic22\", \"Topic22\", \"Topic22\", \"Topic22\", \"Topic22\", \"Topic22\", \"Topic22\", \"Topic22\", \"Topic22\", \"Topic22\", \"Topic22\", \"Topic22\", \"Topic22\", \"Topic22\", \"Topic22\", \"Topic22\", \"Topic22\", \"Topic22\", \"Topic22\", \"Topic22\", \"Topic22\", \"Topic22\", \"Topic22\", \"Topic22\", \"Topic22\", \"Topic22\", \"Topic22\", \"Topic22\", \"Topic22\", \"Topic22\", \"Topic22\", \"Topic22\", \"Topic22\", \"Topic22\", \"Topic22\"], \"logprob\": [30.0, 29.0, 28.0, 27.0, 26.0, 25.0, 24.0, 23.0, 22.0, 21.0, 20.0, 19.0, 18.0, 17.0, 16.0, 15.0, 14.0, 13.0, 12.0, 11.0, 10.0, 9.0, 8.0, 7.0, 6.0, 5.0, 4.0, 3.0, 2.0, 1.0, -5.7134, -5.8609, -6.1183, -6.1929, -6.2305, -6.2732, -6.3668, -6.4299, -6.4439, -6.4656, -6.4777, -6.4839, -6.5141, -6.5708, -6.5743, -6.5934, -6.6354, -6.7027, -6.7037, -6.718, -6.7211, -6.7219, -6.7284, -6.7422, -6.7494, -6.7938, -6.8002, -6.8048, -6.8413, -6.8646, -7.2118, -7.2502, -7.5506, -7.3827, -5.8844, -7.484, -7.6186, -7.5184, -7.7356, -7.4791, -7.5422, -7.7087, -7.7892, -7.6287, -7.9264, -7.8338, -7.4884, -7.9301, -7.5057, -6.356, -7.8923, -8.0272, -8.0636, -8.0695, -8.0695, -8.0695, -8.0802, -8.0818, -7.2919, -7.8589, -5.5367, -7.8147, -7.7707, -4.4534, -7.0013, -7.5553, -6.7301, -7.0389, -7.3703, -7.527, -5.8767, -7.4124, -7.4786, -7.5524, -6.4353, -5.9759, -7.0896, -7.349, -6.7049, -7.4016, -6.9952, -7.309, -7.1295, -7.3779, -7.4877, -6.1415, -6.6974, -6.6974, -6.7523, -6.7895, -6.8327, -6.9086, -6.7498, -6.8124, -7.03, -7.0611, -7.0832, -7.0026, -7.2654, -7.2968, -7.1793, -6.7021, -7.62, -7.0291, -7.6369, -7.4648, -7.1909, -7.7958, -7.7958, -7.8428, -7.4166, -7.7623, -7.8027, -7.6706, -7.937, -7.6814, -7.658, -7.6602, -7.7158, -7.5139, -7.6941, -7.6549, -6.909, -7.4083, -7.0951, -7.5325, -7.809, -7.9173, -7.9817, -7.6125, -7.9866, -7.8461, -8.1928, -8.1963, -8.2286, -8.2406, -7.4715, -8.2872, -8.2251, -8.0901, -8.2427, -8.2133, -7.7725, -7.4919, -8.1209, -8.0045, -8.2791, -8.3989, -8.3989, -7.5517, -8.4205, -8.3477, -7.7047, -8.1682, -7.3234, -6.8191, -7.8143, -7.4114, -8.075, -7.951, -8.1217, -8.1503, -8.095, -7.7393, -8.0304, -7.12, -7.075, -7.0279, -7.8369, -7.6073, -7.1188, -8.0523, -8.0565, -8.0284, -8.1845, -8.1735, -8.2373, -8.1107, -8.1884, -8.0418, -7.6435, -8.2653, -8.1705, -8.2988, -8.2988, -8.3207, -8.3328, -8.3162, -8.4053, -8.4053, -8.4084, -8.4532, -8.3231, -8.3944, -8.4879, -8.0951, -7.6822, -8.2992, -8.2109, -8.2326, -7.973, -7.967, -8.3016, -8.3013, -8.3034, -6.7354, -6.9559, -7.327, -7.0972, -7.334, -7.0986, -7.4128, -7.8559, -7.0246, -7.8968, -7.6229, -7.927, -7.927, -7.885, -7.9804, -7.7053, -7.9978, -8.0671, -7.9546, -7.9062, -8.1397, -8.1359, -7.9203, -8.1959, -8.2332, -7.8824, -7.8368, -7.8123, -8.2365, -8.3657, -7.9472, -7.8465, -7.9761, -8.1202, -8.1033, -8.1205, -6.2918, -6.7826, -7.8219, -8.095, -7.2275, -8.2122, -8.2267, -8.2562, -8.4275, -8.4452, -8.1279, -8.4837, -8.3638, -8.4217, -8.0874, -8.2726, -8.5471, -8.5554, -8.5936, -8.4219, -8.6274, -8.6277, -8.4914, -8.4914, -8.6324, -8.3823, -7.9946, -8.7142, -8.72, -8.738, -8.3596, -8.4669, -8.3164, -7.8605, -8.1519, -8.3467, -7.79, -8.2583, -8.3554, -8.3938, -8.447, -8.3081, -8.4525, -6.9139, -7.3533, -6.8855, -7.0277, -7.6419, -7.9606, -7.9252, -7.9873, -8.0806, -8.0963, -6.922, -8.2901, -8.3162, -8.4668, -7.599, -8.5124, -8.4476, -8.4258, -8.5688, -8.5508, -7.7947, -8.6008, -8.6059, -8.6202, -8.6202, -8.6293, -8.5181, -8.6414, -8.7034, -8.7172, -8.1721, -8.1757, -7.7736, -8.1052, -8.3807, -8.3839, -8.4117, -8.5218, -8.4465, -8.3284, -8.3592, -8.4692, -8.4824, -6.7199, -7.3411, -7.7688, -8.0244, -7.2834, -8.3703, -8.4569, -8.4659, -8.3934, -8.4861, -8.2134, -8.5022, -8.5134, -8.1572, -8.1011, -8.0311, -8.3331, -8.397, -7.9129, -8.4436, -7.9781, -8.6097, -8.6243, -8.625, -8.5789, -8.6574, -8.6585, -8.6634, -8.6813, -8.7008, -8.2084, -7.9339, -8.1683, -8.1661, -8.5329, -8.2793, -8.472, -8.1791, -8.3513, -8.1595, -8.4026, -8.4652, -6.7013, -6.7697, -7.4977, -7.5867, -7.6275, -7.749, -7.8375, -7.9746, -8.0229, -8.1835, -8.2144, -8.2948, -8.3189, -8.3998, -8.2651, -8.4168, -8.3642, -8.3284, -8.4691, -8.4807, -8.4998, -8.512, -8.5141, -8.3618, -8.0987, -8.558, -8.5018, -8.2326, -8.0851, -8.5976, -8.2251, -7.2879, -7.6785, -8.1028, -6.1649, -8.2201, -7.7387, -8.1842, -8.1492, -7.7065, -8.2235, -8.1162, -7.7514, -8.2709, -6.6922, -7.2146, -7.4614, -6.5745, -8.1613, -8.2165, -7.8123, -8.4671, -8.3424, -8.484, -8.5178, -8.5476, -8.5799, -8.4974, -8.45, -8.0954, -8.3542, -8.6352, -8.6407, -8.5597, -8.6776, -8.3201, -8.5729, -8.7117, -8.7393, -8.6303, -8.6617, -8.7494, -8.5548, -8.7648, -8.3504, -8.5315, -8.5829, -8.2499, -8.196, -8.3912, -8.3198, -8.5139, -8.4215, -8.2175, -8.4869, -8.5109, -8.4518, -8.5537, -7.2494, -7.213, -7.6704, -7.6704, -7.8007, -7.4809, -7.8284, -7.3562, -7.9606, -7.8467, -7.8467, -8.0392, -7.5235, -8.0811, -8.1381, -8.1842, -8.2265, -8.0261, -8.3082, -8.2062, -8.2616, -8.3902, -8.4086, -8.4473, -8.4494, -8.0018, -8.0018, -8.4812, -8.2742, -8.499, -8.316, -7.3247, -8.2256, -7.986, -7.9598, -8.2668, -7.9802, -8.1146, -8.2123, -8.0965, -8.1695, -6.7476, -7.7383, -7.9479, -7.8939, -7.8939, -7.9312, -7.2192, -8.357, -8.3538, -8.5391, -8.5401, -8.4858, -8.6315, -8.6818, -8.693, -8.0051, -8.5964, -8.714, -8.2982, -8.6677, -8.5725, -8.7477, -8.69, -8.7734, -8.5417, -8.7141, -8.7056, -8.8047, -8.8158, -8.8193, -8.481, -8.6961, -7.864, -7.8846, -8.4296, -8.4293, -8.4786, -8.6035, -8.6066, -8.1532, -8.5531, -8.5407, -8.367, -8.5786, -7.6594, -6.9942, -7.8069, -7.8933, -7.9866, -7.9023, -7.197, -8.0211, -7.6735, -7.6299, -6.9202, -8.1993, -8.3353, -8.3446, -8.3561, -8.3226, -8.3884, -8.4782, -8.5068, -8.5542, -8.5557, -8.5558, -8.5603, -8.3175, -8.5828, -8.61, -8.6293, -8.6564, -7.8569, -8.5641, -8.373, -8.4673, -8.3852, -8.3244, -8.4355, -8.4257, -8.1301, -8.5132, -8.5131, -7.9018, -8.0652, -8.4564, -8.4792, -8.5455, -8.556, -8.5263, -8.6022, -8.6541, -8.6692, -8.1909, -8.6635, -8.7024, -8.7179, -8.7243, -8.7434, -8.6537, -8.767, -8.7696, -8.7732, -8.7734, -8.7751, -8.1619, -8.8058, -8.8115, -8.8139, -8.8152, -8.8187, -8.7247, -8.7477, -8.6653, -8.4706, -8.4755, -8.5677, -8.4921, -8.5468, -8.6922, -8.6961, -8.6215, -8.6388, -8.6978, -8.6929, -8.628, -8.6706, -8.6932, -8.6706, -6.8966, -7.8005, -7.9708, -8.252, -8.4565, -8.5253, -8.5312, -8.5364, -8.4413, -8.5922, -8.6062, -8.4201, -8.6338, -8.6504, -8.6533, -8.4838, -8.6818, -8.6826, -8.5278, -8.687, -8.7636, -8.7921, -8.8141, -8.8152, -8.612, -8.5296, -8.8384, -8.7569, -8.7945, -8.0623, -8.4919, -8.6923, -8.5453, -8.6341, -8.3708, -8.4688, -8.5073, -8.2312, -8.4785, -8.4748, -8.5135, -8.5694, -8.4721, -8.4738, -8.5655, -8.5919, -7.629, -7.2876, -8.0319, -8.1008, -8.3533, -8.2477, -8.4371, -8.474, -8.5681, -8.5965, -8.6127, -8.5807, -8.2148, -8.6559, -8.5647, -8.7542, -8.7614, -8.7745, -8.5733, -8.6452, -8.7904, -8.7952, -8.7974, -8.439, -8.8271, -8.5804, -8.8361, -8.6805, -8.7758, -8.7755, -8.5228, -8.0223, -8.3956, -8.2371, -8.6097, -8.5749, -8.3195, -8.374, -8.516, -8.516, -8.3875, -8.6375, -8.6242, -8.625, -7.3095, -7.8665, -7.9453, -8.0299, -8.3334, -8.2797, -7.894, -8.4608, -7.8246, -8.5053, -8.54, -8.2008, -8.5898, -8.3811, -8.3811, -8.5328, -8.6449, -8.6524, -8.674, -8.6897, -8.7023, -8.7065, -8.7107, -8.7491, -8.7742, -8.7751, -8.7761, -8.7782, -8.5917, -8.5917, -8.0502, -8.311, -8.4805, -8.6272, -8.3979, -8.5869, -8.229, -8.6111, -8.4937, -8.4411, -8.4725, -8.4752, -8.3173, -8.4291, -8.4692, -8.5683, -8.587, -8.1366, -8.1427, -7.579, -8.3905, -7.2066, -8.3881, -8.3398, -8.4923, -8.5014, -8.5176, -8.5422, -8.5463, -8.5364, -8.0673, -8.4073, -8.5756, -8.5959, -8.603, -8.3285, -8.6352, -7.879, -8.6666, -8.6667, -8.6762, -8.6845, -8.4646, -8.1876, -8.5271, -8.7298, -8.5655, -8.5178, -7.756, -8.4157, -8.5703, -8.248, -8.3354, -8.3255, -8.3853, -8.5345, -8.4695, -8.4976, -7.8792, -8.3367, -8.0302, -8.5308, -8.5555, -8.6032, -8.4361, -8.5659, -8.6492, -8.6844, -8.6906, -8.7153, -8.7207, -8.3746, -8.6375, -7.2595, -8.7129, -8.5313, -8.7135, -8.5495, -8.4679, -8.6957, -8.7731, -8.7782, -8.7794, -8.4988, -8.3333, -8.6844, -8.7631, -8.8158, -8.7396, -8.4892, -8.6086, -8.6113, -8.6438, -8.6369, -8.6394, -8.5778, -8.4132, -8.4677, -8.5982, -8.3062, -8.6235, -7.9511, -7.8904, -8.3236, -8.4431, -8.4653, -8.4733, -8.5001, -8.4673, -8.5364, -8.2675, -8.5641, -8.5848, -8.3545, -8.5934, -8.6033, -8.6147, -8.6334, -8.642, -8.6422, -8.6536, -8.4119, -8.6657, -8.6246, -8.7024, -8.5641, -8.7153, -8.7166, -8.7213, -8.7234, -8.4892, -8.2289, -7.8764, -8.3308, -8.5387, -8.3599, -7.9331, -8.3414, -8.4565, -8.5779, -8.5065, -8.3494, -8.511, -8.4483, -8.5504, -7.953, -7.938, -8.2342, -8.5072, -8.102, -8.5202, -8.5245, -8.5463, -8.3827, -8.5657, -8.502, -8.6004, -8.6079, -8.6311, -8.6315, -8.725, -8.7253, -8.7475, -8.7589, -8.6624, -8.7326, -8.7768, -8.7774, -8.7052, -8.6415, -8.7973, -8.8214, -8.744, -8.6466, -8.8284, -8.4978, -8.6861, -8.7501, -8.3775, -8.2159, -8.4725, -8.3537, -8.5022, -8.5897, -8.2785, -8.5658, -8.6803, -8.6825], \"loglift\": [30.0, 29.0, 28.0, 27.0, 26.0, 25.0, 24.0, 23.0, 22.0, 21.0, 20.0, 19.0, 18.0, 17.0, 16.0, 15.0, 14.0, 13.0, 12.0, 11.0, 10.0, 9.0, 8.0, 7.0, 6.0, 5.0, 4.0, 3.0, 2.0, 1.0, 0.2493, 0.2491, 0.2488, 0.2487, 0.2486, 0.2486, 0.2484, 0.2483, 0.2483, 0.2482, 0.2482, 0.2482, 0.2481, 0.248, 0.248, 0.248, 0.2479, 0.2477, 0.2477, 0.2477, 0.2477, 0.2477, 0.2476, 0.2476, 0.2476, 0.2475, 0.2474, 0.2474, 0.2473, 0.2473, 3.6613, 3.633, 3.6068, 3.5972, 3.5782, 3.5766, 3.5747, 3.563, 3.562, 3.5576, 3.5509, 3.5508, 3.5401, 3.5282, 3.526, 3.5252, 3.5229, 3.5057, 3.5056, 3.5042, 3.5001, 3.5, 3.4902, 3.4886, 3.4886, 3.4886, 3.4856, 3.4852, 3.485, 3.4836, 3.4746, 3.4778, 3.4708, 3.2504, 3.4187, 3.4536, 3.3872, 3.4102, 3.437, 3.4454, 3.1931, 3.4186, 3.3272, 3.3232, 2.4962, 1.9432, 2.8219, 3.006, 1.9935, 3.045, 1.8586, 2.405, 0.764, 1.3215, 2.7506, 4.2172, 4.1808, 4.1808, 4.1727, 4.1671, 4.1603, 4.1478, 4.1458, 4.1379, 4.126, 4.1201, 4.1158, 4.086, 4.0722, 4.07, 4.0658, 3.9901, 3.9851, 3.9818, 3.9801, 3.9751, 3.9551, 3.9299, 3.9299, 3.914, 3.8956, 3.8689, 3.8201, 3.8059, 3.8027, 3.7944, 3.6647, 3.6594, 3.5947, 2.1913, 3.2691, 1.7315, 4.2115, 4.1055, 4.0517, 4.0071, 3.9806, 3.9328, 3.8654, 3.8543, 3.847, 3.8363, 3.8266, 3.825, 3.8104, 3.8049, 3.7952, 3.7832, 3.7808, 3.7775, 3.7774, 3.7766, 3.7669, 3.7648, 3.7559, 3.7545, 3.7441, 3.729, 3.729, 3.7169, 3.7001, 3.6958, 3.6679, 3.6872, 3.6384, 3.4741, 3.545, 3.175, 3.5982, 3.11, 3.5136, 3.5755, 3.3066, 1.6227, 2.8385, 4.2054, 4.1524, 4.0933, 3.992, 3.9799, 3.9486, 3.9211, 3.9193, 3.9145, 3.8623, 3.8407, 3.8376, 3.8334, 3.8321, 3.8274, 3.823, 3.812, 3.808, 3.808, 3.808, 3.7972, 3.7912, 3.7794, 3.7544, 3.7544, 3.7528, 3.7294, 3.7161, 3.7111, 3.7109, 3.6538, 3.2409, 3.6079, 3.4551, 3.4226, 2.858, 2.7693, 3.4911, 3.4806, 3.2927, 4.3047, 4.2752, 4.1875, 4.1505, 4.0983, 4.0434, 4.0152, 4.0144, 4.0049, 3.9984, 3.9956, 3.9863, 3.9863, 3.9629, 3.9498, 3.944, 3.9275, 3.9274, 3.9242, 3.9235, 3.8949, 3.8753, 3.8497, 3.8377, 3.8275, 3.8248, 3.8211, 3.8076, 3.7946, 3.7856, 3.6482, 3.5939, 3.5547, 3.6842, 3.6141, 3.5206, 4.4139, 4.2855, 3.9948, 3.9376, 3.9358, 3.8825, 3.8754, 3.7985, 3.7723, 3.7628, 3.7456, 3.7417, 3.7253, 3.7211, 3.7092, 3.7063, 3.7061, 3.7014, 3.6795, 3.6726, 3.6598, 3.6596, 3.6592, 3.6592, 3.6568, 3.6511, 3.6351, 3.6078, 3.6043, 3.5933, 3.5931, 3.5738, 3.5413, 3.4492, 3.4111, 3.5059, 3.1735, 3.3536, 3.3308, 3.331, 3.4318, 1.985, 3.3588, 4.2823, 4.2163, 4.1358, 4.072, 4.0349, 3.9908, 3.9905, 3.99, 3.9487, 3.9281, 3.9109, 3.8481, 3.8348, 3.7547, 3.7413, 3.7294, 3.7085, 3.6999, 3.6973, 3.689, 3.6833, 3.6788, 3.6758, 3.6674, 3.6674, 3.662, 3.6619, 3.6549, 3.6177, 3.6092, 3.6072, 3.4869, 3.2404, 3.3929, 3.5212, 3.5026, 3.5208, 3.5664, 3.2382, 2.5146, 2.6043, 3.2195, 3.1917, 4.2406, 4.2225, 4.0375, 3.976, 3.9329, 3.8085, 3.7619, 3.7569, 3.7527, 3.7457, 3.737, 3.7367, 3.7304, 3.7202, 3.7079, 3.7, 3.6989, 3.6989, 3.698, 3.6874, 3.6767, 3.6751, 3.6665, 3.6661, 3.6647, 3.6468, 3.6462, 3.6433, 3.6325, 3.6207, 3.5766, 3.5448, 3.5535, 3.5081, 3.6048, 3.4976, 3.5758, 3.3826, 3.4623, 3.2387, 2.866, 3.0842, 4.3706, 4.2674, 4.1841, 4.1546, 4.1406, 4.0963, 4.0498, 4.005, 3.9127, 3.9092, 3.8942, 3.8538, 3.8414, 3.7987, 3.7961, 3.7895, 3.7797, 3.7657, 3.7608, 3.7543, 3.7436, 3.7367, 3.7355, 3.7289, 3.7142, 3.7104, 3.7092, 3.7057, 3.6933, 3.6874, 3.6792, 3.6342, 3.5695, 3.6019, 2.8717, 3.5996, 3.2723, 3.5284, 3.4403, 2.5656, 3.4436, 3.2075, 1.2026, 3.4118, 4.387, 4.0758, 4.0504, 4.0119, 3.9245, 3.8975, 3.8314, 3.7657, 3.764, 3.7373, 3.7372, 3.7201, 3.7013, 3.7004, 3.681, 3.6765, 3.6732, 3.6686, 3.6653, 3.6609, 3.643, 3.6384, 3.6381, 3.6221, 3.605, 3.6047, 3.6031, 3.5987, 3.5936, 3.5891, 3.5747, 3.5792, 3.572, 3.4853, 3.4236, 3.4754, 3.4217, 3.5103, 3.3465, 2.7442, 3.2832, 3.3741, 2.657, 3.4409, 4.2814, 4.2698, 4.1463, 4.1463, 4.0964, 4.0863, 4.0852, 4.0666, 4.0295, 4.0018, 4.0018, 3.9944, 3.9927, 3.975, 3.9286, 3.9255, 3.8856, 3.8763, 3.8625, 3.8428, 3.826, 3.8187, 3.8086, 3.7872, 3.786, 3.77, 3.77, 3.7681, 3.7625, 3.758, 3.746, 3.6562, 3.7266, 3.6689, 3.3639, 3.6375, 3.1491, 3.2892, 3.5118, 2.661, 2.6188, 4.1571, 4.1349, 4.0158, 3.9764, 3.9764, 3.888, 3.8835, 3.8214, 3.7931, 3.7442, 3.7436, 3.7337, 3.6889, 3.658, 3.6511, 3.6509, 3.6496, 3.6379, 3.6346, 3.6283, 3.6195, 3.6166, 3.6096, 3.6001, 3.5876, 3.5827, 3.5806, 3.5799, 3.5727, 3.5704, 3.5686, 3.57, 3.5393, 3.5056, 3.4982, 3.4842, 3.4942, 3.5319, 3.5208, 2.9723, 3.3945, 3.3417, 2.683, 3.0634, 4.1368, 4.102, 4.0819, 4.0807, 4.0394, 4.0292, 4.024, 4.0236, 3.9927, 3.9844, 3.9756, 3.9372, 3.8659, 3.8609, 3.8547, 3.8369, 3.7899, 3.7714, 3.7696, 3.7416, 3.7407, 3.7407, 3.738, 3.7321, 3.7245, 3.7081, 3.6963, 3.6796, 3.6764, 3.6757, 3.6596, 3.6542, 3.5883, 3.4823, 3.5557, 3.4027, 2.163, 3.4784, 3.1662, 4.1054, 4.0035, 3.8196, 3.8063, 3.7667, 3.7603, 3.7524, 3.732, 3.6995, 3.69, 3.6848, 3.6709, 3.6688, 3.6588, 3.6547, 3.6423, 3.6292, 3.6269, 3.6251, 3.6227, 3.6226, 3.6215, 3.6037, 3.6012, 3.5974, 3.5958, 3.5949, 3.5926, 3.5921, 3.59, 3.5677, 3.4746, 3.418, 3.4083, 3.2863, 3.3231, 3.4346, 3.4277, 3.1981, 3.1517, 3.37, 3.3072, 2.7625, 2.9588, 3.2377, 2.564, 4.3022, 4.1626, 3.9862, 3.8508, 3.8289, 3.7878, 3.7842, 3.7811, 3.7776, 3.7468, 3.738, 3.7232, 3.7206, 3.7101, 3.7082, 3.6925, 3.6901, 3.6895, 3.6571, 3.6391, 3.6367, 3.6177, 3.603, 3.6023, 3.5987, 3.5897, 3.5866, 3.5829, 3.5765, 3.5403, 3.4052, 3.5103, 3.4094, 3.4549, 3.184, 3.2786, 3.2719, 2.8649, 3.1938, 3.1448, 3.1706, 3.2871, 2.7846, 2.7787, 3.1739, 2.4191, 4.1126, 4.0629, 4.0609, 3.9052, 3.8957, 3.8641, 3.8472, 3.794, 3.7679, 3.7502, 3.7136, 3.6978, 3.6928, 3.6816, 3.6748, 3.6484, 3.6436, 3.6349, 3.6316, 3.6281, 3.6243, 3.621, 3.6196, 3.614, 3.5995, 3.5942, 3.5933, 3.5821, 3.581, 3.5796, 3.5669, 3.4748, 3.527, 3.501, 3.5169, 3.4706, 3.2597, 3.2774, 3.3858, 3.3189, 3.0302, 3.4384, 3.1983, 2.4777, 4.2318, 4.1447, 4.1086, 4.0681, 3.9082, 3.8639, 3.8531, 3.8342, 3.8164, 3.8075, 3.7863, 3.7772, 3.7554, 3.7387, 3.7387, 3.7248, 3.7205, 3.7157, 3.7018, 3.6916, 3.6835, 3.6807, 3.678, 3.6527, 3.636, 3.6354, 3.6347, 3.6333, 3.6288, 3.6288, 3.6058, 3.5652, 3.59, 3.5989, 3.5223, 3.5804, 3.328, 3.5834, 3.4352, 3.2964, 3.2786, 3.223, 2.7739, 3.0048, 1.824, 2.8827, 3.1971, 4.016, 4.0129, 3.9183, 3.8768, 3.8544, 3.849, 3.8431, 3.8166, 3.8111, 3.8012, 3.7861, 3.7836, 3.7756, 3.7727, 3.7705, 3.7654, 3.7527, 3.7483, 3.7408, 3.7279, 3.7143, 3.7077, 3.7077, 3.7015, 3.6961, 3.6902, 3.6864, 3.6835, 3.6665, 3.6409, 3.6396, 2.9084, 3.4083, 3.5756, 2.7713, 2.9665, 2.7657, 2.9561, 3.3671, 2.921, 2.9717, 3.9234, 3.909, 3.8353, 3.7944, 3.7791, 3.7493, 3.7363, 3.7339, 3.72, 3.6973, 3.6932, 3.6771, 3.6736, 3.667, 3.6664, 3.6636, 3.6615, 3.6563, 3.6521, 3.6451, 3.644, 3.6414, 3.6387, 3.6354, 3.6345, 3.6341, 3.634, 3.6337, 3.6223, 3.61, 3.6017, 3.5729, 3.5469, 3.5334, 3.547, 3.4536, 3.4486, 3.2556, 2.7488, 2.8737, 3.2505, 1.987, 3.326, 4.1094, 4.1003, 3.8936, 3.8473, 3.8341, 3.8293, 3.8132, 3.8027, 3.791, 3.7879, 3.7738, 3.7609, 3.7575, 3.7555, 3.7493, 3.7421, 3.7302, 3.7246, 3.7245, 3.7172, 3.716, 3.7095, 3.6921, 3.6856, 3.678, 3.6771, 3.6763, 3.6732, 3.6718, 3.6683, 3.6514, 3.6267, 3.5358, 3.6004, 3.4865, 3.2151, 3.4384, 3.4297, 3.5782, 3.3729, 2.5431, 3.1433, 1.7063, 2.9364, 4.122, 4.1034, 3.9397, 3.8186, 3.8124, 3.8107, 3.808, 3.7944, 3.7896, 3.7823, 3.768, 3.7603, 3.7556, 3.7406, 3.7404, 3.6792, 3.679, 3.6641, 3.6565, 3.6561, 3.654, 3.6444, 3.6441, 3.6292, 3.6219, 3.6165, 3.6141, 3.6141, 3.6132, 3.6092, 3.5863, 3.5927, 3.6019, 3.4763, 3.4175, 3.5037, 3.4179, 3.4956, 3.4433, 2.9633, 3.0368, 3.4636, 3.0466]}, \"token.table\": {\"Topic\": [1, 1, 2, 2, 2, 1, 1, 2, 1, 2, 5, 2, 4, 13, 9, 18, 12, 2, 6, 1, 2, 1, 2, 5, 3, 1, 2, 12, 3, 3, 1, 3, 1, 1, 1, 1, 1, 3, 3, 4, 1, 1, 3, 1, 1, 2, 2, 1, 2, 1, 2, 1, 2, 1, 2, 1, 6, 3, 1, 1, 2, 1, 1, 2, 2, 1, 2, 1, 3, 7, 3, 2, 2, 14, 2, 9, 3, 3, 1, 10, 1, 12, 6, 3, 4, 6, 12, 4, 11, 1, 2, 2, 5, 3, 8, 2, 2, 3, 2, 2, 3, 2, 10, 10, 2, 2, 20, 2, 1, 2, 10, 7, 3, 3, 1, 2, 1, 2, 2, 13, 6, 3, 3, 3, 3, 1, 1, 1, 1, 2, 1, 3, 3, 3, 4, 1, 3, 1, 4, 1, 2, 11, 4, 1, 2, 1, 2, 7, 9, 1, 2, 10, 1, 11, 6, 1, 2, 1, 2, 8, 8, 2, 4, 12, 16, 2, 2, 1, 1, 1, 1, 5, 1, 19, 1, 2, 1, 1, 2, 2, 1, 2, 3, 2, 1, 3, 1, 3, 2, 3, 1, 1, 2, 17, 6, 4, 5, 6, 2, 1, 14, 1, 1, 2, 2, 8, 11, 1, 1, 14, 1, 1, 8, 2, 2, 4, 2, 4, 1, 2, 2, 1, 1, 1, 3, 1, 1, 3, 1], \"Freq\": [0.9999885978739332, 0.3729480401705597, 0.7458960803411194, 1.1741604061551618, 1.1637843899003901, 0.9470318555895162, 0.4192124054065255, 0.5671697249617698, 0.2735101167629804, 0.7293603113679479, 0.922200513099015, 0.5493403374437262, 1.1424679931495787, 0.6054984303109702, 0.8268940006050541, 1.1444450749141615, 1.079448343147268, 0.647946613247438, 0.6860454712673026, 0.6733738104122258, 0.25251517890458464, 0.672824785850989, 0.44854985723399265, 0.7518575272283858, 1.2343395376831356, 0.5841913461816406, 0.6534659623899938, 0.6534659623899938, 0.5896632085797945, 0.8509957763028454, 0.9123554746845716, 0.1824710949369143, 0.5116732613357262, 0.5226337187268856, 0.9976578353471994, 0.9991890846674462, 1.000273802716165, 0.910186443641708, 0.9335116101750333, 0.8696342834545926, 0.9985730807457174, 0.9916166842035443, 0.4895923338085944, 0.995981904640887, 0.7724010244173717, 0.6909299937496176, 0.6720187019297716, 0.8411798618151239, 0.140196643635854, 0.349440731544585, 0.349440731544585, 0.6219094588483227, 0.31095472942416136, 0.8257351511323052, 0.15291391687635283, 0.9986886354574548, 0.6933140988717948, 0.7983742598510112, 0.9974366734341178, 0.7831807982328499, 0.8482316855454599, 0.9939871113336722, 1.0016366239175145, 0.5866520069759273, 0.8081252642381973, 0.8412657079286904, 0.1402109513214484, 0.9987002164000305, 1.2197965894372833, 0.7129734518095558, 0.9612626058032747, 1.047065122774701, 0.6736340634865129, 0.8308076726673175, 0.8923654565376554, 1.1702270611997871, 0.6613945448304509, 1.0523127533373462, 0.8415125842262982, 0.18700279649473292, 0.6734357808894716, 1.1324582510982277, 0.8532843936923137, 0.6000391586329799, 0.8712621967648657, 1.0262533569311092, 1.016527252651916, 0.4404442596091013, 0.4404442596091013, 1.0004409015495552, 0.8479931235144254, 0.6736321244435477, 1.1981688286691716, 0.6377947603432916, 1.1772446873318716, 0.9381438715277048, 1.1728360273672538, 0.9197069385235302, 0.9007571577153248, 0.641990540270713, 0.641990540270713, 0.7791813138456375, 1.3170546749657077, 0.6911848181406409, 0.8969455011376881, 0.7795998587083902, 0.6167856684642352, 1.029901685204535, 0.5485150260435896, 0.5485150260435896, 0.7157051900126365, 0.9924920925965337, 0.7278185539763232, 0.7707411617113408, 0.9539448437262616, 0.05962155273289135, 0.8567087076562097, 0.1557652195738563, 0.7225574958812738, 0.7381434683563429, 1.1140930907440318, 0.9168211476251947, 1.0340962016723256, 0.7047143828413049, 0.7785073816056665, 0.9997041890750932, 0.9062402463690282, 0.9988381761133425, 0.6432749835448622, 0.532915436297564, 1.0071897804085232, 0.6337430604167832, 0.9085418635927673, 0.673390976828417, 0.32850151345166495, 0.9973568356991066, 1.072715955785583, 1.0113386256120154, 0.7713310959088321, 0.7363042035803298, 0.18407605089508244, 0.8904804298430335, 0.6410784002963014, 0.38298091252026056, 0.38298091252026056, 0.275521662032372, 0.551043324064744, 0.7842323831972252, 0.6402740302987985, 0.38393151016535026, 0.7678630203307005, 0.6161432574075699, 1.0022526784604133, 0.7209175351953225, 0.7676448768893167, 0.9981537272477548, 0.5624770216347372, 0.8421796667978297, 0.7425815416411127, 0.6804487703606235, 0.810468296869823, 0.5926378171655963, 0.8609784503433036, 1.174473314590091, 0.8125816254910871, 0.9258335010048765, 1.1637843899003901, 0.9983712442715467, 0.9834280560202452, 1.0019840096547346, 1.00255042219651, 0.7125107773773294, 0.47619432082355917, 0.707952354489429, 0.800032420128607, 0.13333873668810117, 0.9980644290662464, 0.14316191987206503, 0.8589715192323901, 1.1284737535060558, 0.9343821389500402, 0.0667415813535743, 0.5896632085797945, 0.8634163751771211, 1.0012381358222335, 0.617967736940383, 0.857966908669901, 0.81271157822137, 0.5881244647807675, 1.2521941081281314, 0.9969140235401323, 0.4832892861352989, 0.5799471433623586, 0.9455721990018013, 0.8392418709469333, 0.7513103021932882, 0.8361314382232029, 1.0219358183846712, 0.7310098460795249, 0.6001920471817287, 0.6001920471817287, 0.9979399620380051, 0.9952861837958327, 0.7076606233354503, 1.1637843899003901, 0.7358491275525358, 1.1111401769775833, 0.9932476737172397, 0.9962898289516076, 0.7332836785564665, 0.981663923019567, 0.563522174734188, 0.563522174734188, 0.9861465920742702, 0.9537411900214502, 1.0622521785566672, 1.158811777195724, 1.1134734776913997, 0.2130557817476593, 0.6391673452429779, 0.6527557890707684, 0.5692704052785008, 0.9993775397104239, 0.9285313089704685, 0.13264732985292407, 0.999415918848644, 1.0008905126176646, 1.0718755023465851, 0.5389851313384031], \"Term\": [\"19\", \"1973\", \"1973\", \"2f\", \"5etfw\", \"abbott\", \"abortion\", \"abortion\", \"abortions\", \"abortions\", \"adr\", \"aki\", \"ald\", \"als\", \"americas\", \"appendicitis\", \"aspen\", \"assault\", \"atezolizumab\", \"ban\", \"ban\", \"bans\", \"bans\", \"baricitinib\", \"bebtelovimab\", \"bennett\", \"bernard\", \"bernard\", \"bhanvi\", \"bourla\", \"bq\", \"bq\", \"braf\", \"brenda\", \"cancer\", \"care\", \"cases\", \"cha\", \"chandra\", \"chatgpt\", \"children\", \"china\", \"cholera\", \"clinical\", \"cmv\", \"cole\", \"connor\", \"conservative\", \"conservative\", \"constitution\", \"constitution\", \"constitutional\", \"constitutional\", \"court\", \"court\", \"covid\", \"ctdna\", \"dasgupta\", \"data\", \"dbs\", \"dea\", \"diabetes\", \"disease\", \"doac\", \"dobbs\", \"draft\", \"draft\", \"drug\", \"dwivedi\", \"ect\", \"eluri\", \"emtala\", \"enacted\", \"endovascular\", \"enforced\", \"etienne\", \"evusheld\", \"fauci\", \"formula\", \"formula\", \"formulas\", \"foxconn\", \"gambia\", \"ganguli\", \"gerd\", \"glycol\", \"goh\", \"gout\", \"gout\", \"group\", \"guilty\", \"guttmacher\", \"haleon\", \"hcc\", \"hcm\", \"heartbeat\", \"hoge\", \"huang\", \"icer\", \"indoors\", \"indoors\", \"injunction\", \"ipledge\", \"isotretinoin\", \"iud\", \"ix\", \"jak\", \"judges\", \"justices\", \"justices\", \"juul\", \"ketamine\", \"khushi\", \"krishna\", \"law\", \"law\", \"laws\", \"laws\", \"leaked\", \"lecanemab\", \"maiden\", \"maju\", \"malawi\", \"manas\", \"mandowara\", \"md\", \"measles\", \"medical\", \"melatonin\", \"menstrual\", \"milk\", \"mishra\", \"mounjaro\", \"mpox\", \"nafld\", \"news\", \"nhc\", \"nivolumab\", \"oa\", \"oklahoma\", \"oklahoma\", \"omega\", \"osteoarthritis\", \"overturn\", \"overturn\", \"overturned\", \"overturned\", \"pacing\", \"paho\", \"parenthood\", \"parenthood\", \"pas\", \"patient\", \"pcos\", \"pcsk9\", \"people\", \"pfas\", \"phosphate\", \"pm2\", \"ppi\", \"ppis\", \"prosecutors\", \"pylori\", \"quarantined\", \"rankings\", \"reed\", \"ref_src\", \"reported\", \"republican\", \"research\", \"researchers\", \"respondent\", \"retracted\", \"retraction\", \"rights\", \"rights\", \"risk\", \"roe\", \"roe\", \"rucaparib\", \"ruling\", \"ruling\", \"satija\", \"sentenced\", \"shanghai\", \"shinjini\", \"shionogi\", \"shounak\", \"singh\", \"sorafenib\", \"study\", \"supreme\", \"supreme\", \"syria\", \"syrups\", \"tavr\", \"tbi\", \"tdcs\", \"terminate\", \"thrombectomy\", \"thrombectomy\", \"time\", \"treatment\", \"tsh\", \"twsrc\", \"upadacitinib\", \"urate\", \"use\", \"vaccine\", \"valneva\", \"valve\", \"vedolizumab\", \"vedolizumab\", \"viii\", \"violates\", \"vitiligo\", \"vka\", \"vonoprazan\", \"wade\", \"wade\", \"warfarin\", \"wine\", \"women\", \"xbb\", \"xbb\", \"year\", \"years\", \"zanubrutinib\", \"zhengzhou\"]}, \"R\": 30, \"lambda.step\": 0.01, \"plot.opts\": {\"xlab\": \"PC1\", \"ylab\": \"PC2\"}, \"topic.order\": [14, 16, 21, 6, 13, 3, 9, 20, 15, 12, 4, 5, 17, 1, 7, 2, 11, 8, 19, 10, 18, 22]};\n",
       "\n",
       "function LDAvis_load_lib(url, callback){\n",
       "  var s = document.createElement('script');\n",
       "  s.src = url;\n",
       "  s.async = true;\n",
       "  s.onreadystatechange = s.onload = callback;\n",
       "  s.onerror = function(){console.warn(\"failed to load library \" + url);};\n",
       "  document.getElementsByTagName(\"head\")[0].appendChild(s);\n",
       "}\n",
       "\n",
       "if(typeof(LDAvis) !== \"undefined\"){\n",
       "   // already loaded: just create the visualization\n",
       "   !function(LDAvis){\n",
       "       new LDAvis(\"#\" + \"ldavis_el1161406236693674086280301314\", ldavis_el1161406236693674086280301314_data);\n",
       "   }(LDAvis);\n",
       "}else if(typeof define === \"function\" && define.amd){\n",
       "   // require.js is available: use it to load d3/LDAvis\n",
       "   require.config({paths: {d3: \"https://d3js.org/d3.v5\"}});\n",
       "   require([\"d3\"], function(d3){\n",
       "      window.d3 = d3;\n",
       "      LDAvis_load_lib(\"https://cdn.jsdelivr.net/gh/bmabey/pyLDAvis@3.3.1/pyLDAvis/js/ldavis.v3.0.0.js\", function(){\n",
       "        new LDAvis(\"#\" + \"ldavis_el1161406236693674086280301314\", ldavis_el1161406236693674086280301314_data);\n",
       "      });\n",
       "    });\n",
       "}else{\n",
       "    // require.js not available: dynamically load d3 & LDAvis\n",
       "    LDAvis_load_lib(\"https://d3js.org/d3.v5.js\", function(){\n",
       "         LDAvis_load_lib(\"https://cdn.jsdelivr.net/gh/bmabey/pyLDAvis@3.3.1/pyLDAvis/js/ldavis.v3.0.0.js\", function(){\n",
       "                 new LDAvis(\"#\" + \"ldavis_el1161406236693674086280301314\", ldavis_el1161406236693674086280301314_data);\n",
       "            })\n",
       "         });\n",
       "}\n",
       "</script>"
      ],
      "text/plain": [
       "PreparedData(topic_coordinates=              x         y  topics  cluster       Freq\n",
       "topic                                                \n",
       "13    -0.413427  0.003456       1        1  77.865182\n",
       "15     0.038120  0.084023       2        1   2.213237\n",
       "20     0.026254 -0.010114       3        1   1.310691\n",
       "5      0.023931 -0.008825       4        1   1.203045\n",
       "12     0.022427 -0.004905       5        1   1.132768\n",
       "2      0.021539 -0.006348       6        1   1.107011\n",
       "8      0.020600 -0.005279       7        1   1.061407\n",
       "19     0.020380 -0.005905       8        1   1.052207\n",
       "14     0.020400 -0.004998       9        1   1.048156\n",
       "11     0.019432 -0.005476      10        1   1.034464\n",
       "3      0.019826 -0.004083      11        1   1.025207\n",
       "4      0.018713 -0.004647      12        1   1.000389\n",
       "16     0.018435 -0.004225      13        1   0.977241\n",
       "0      0.017929 -0.004707      14        1   0.961513\n",
       "6      0.016710 -0.002662      15        1   0.912948\n",
       "1      0.016152 -0.001911      16        1   0.891589\n",
       "10     0.015634 -0.002692      17        1   0.876394\n",
       "7      0.015624 -0.002458      18        1   0.873913\n",
       "18     0.015507 -0.002359      19        1   0.870996\n",
       "9      0.015491 -0.002446      20        1   0.868158\n",
       "17     0.015427 -0.002372      21        1   0.868061\n",
       "21     0.014896 -0.001069      22        1   0.845423, topic_info=            Term       Freq      Total Category  logprob  loglift\n",
       "4837    abortion  40.000000  40.000000  Default  30.0000  30.0000\n",
       "18704      court  32.000000  32.000000  Default  29.0000  29.0000\n",
       "40703        law  33.000000  33.000000  Default  28.0000  28.0000\n",
       "28766    formula  10.000000  10.000000  Default  27.0000  27.0000\n",
       "4838   abortions  10.000000  10.000000  Default  26.0000  26.0000\n",
       "...          ...        ...        ...      ...      ...      ...\n",
       "14112        caq   0.141360   0.534367  Topic22  -8.5897   3.4433\n",
       "20300        dea   0.192974   1.178923  Topic22  -8.2785   2.9633\n",
       "23992         ec   0.144791   0.821897  Topic22  -8.5658   3.0368\n",
       "29544         g7   0.129117   0.478307  Topic22  -8.6803   3.4636\n",
       "50638        ocd   0.128841   0.724193  Topic22  -8.6825   3.0466\n",
       "\n",
       "[965 rows x 6 columns], token_table=       Topic      Freq          Term\n",
       "term                                \n",
       "1254       1  0.999989            19\n",
       "1350       1  0.372948          1973\n",
       "1350       2  0.745896          1973\n",
       "1958       2  1.174160            2f\n",
       "3518       2  1.163784         5etfw\n",
       "...      ...       ...           ...\n",
       "76737      3  0.132647           xbb\n",
       "77004      1  0.999416          year\n",
       "77010      1  1.000891         years\n",
       "77310      3  1.071876  zanubrutinib\n",
       "77436      1  0.538985     zhengzhou\n",
       "\n",
       "[229 rows x 3 columns], R=30, lambda_step=0.01, plot_opts={'xlab': 'PC1', 'ylab': 'PC2'}, topic_order=[14, 16, 21, 6, 13, 3, 9, 20, 15, 12, 4, 5, 17, 1, 7, 2, 11, 8, 19, 10, 18, 22])"
      ]
     },
     "execution_count": 67,
     "metadata": {},
     "output_type": "execute_result"
    }
   ],
   "source": [
    "pyLDAvis.sklearn.prepare(lda, X, vectorizer)"
   ]
  }
 ],
 "metadata": {
  "kernelspec": {
   "display_name": "Python 3 (ipykernel)",
   "language": "python",
   "name": "python3"
  },
  "language_info": {
   "codemirror_mode": {
    "name": "ipython",
    "version": 3
   },
   "file_extension": ".py",
   "mimetype": "text/x-python",
   "name": "python",
   "nbconvert_exporter": "python",
   "pygments_lexer": "ipython3",
   "version": "3.9.1"
  }
 },
 "nbformat": 4,
 "nbformat_minor": 2
}
